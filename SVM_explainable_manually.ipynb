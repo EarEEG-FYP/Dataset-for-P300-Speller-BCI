{
  "nbformat": 4,
  "nbformat_minor": 0,
  "metadata": {
    "colab": {
      "provenance": []
    },
    "kernelspec": {
      "name": "python3",
      "display_name": "Python 3"
    },
    "language_info": {
      "name": "python"
    }
  },
  "cells": [
    {
      "cell_type": "code",
      "source": [
        "!pip install mat73"
      ],
      "metadata": {
        "colab": {
          "base_uri": "https://localhost:8080/"
        },
        "id": "uuWefpCA2cOT",
        "outputId": "bdb1e6ff-3a52-4054-9fb1-5eea9fb64dc6"
      },
      "execution_count": 1,
      "outputs": [
        {
          "output_type": "stream",
          "name": "stdout",
          "text": [
            "Requirement already satisfied: mat73 in /usr/local/lib/python3.10/dist-packages (0.62)\n",
            "Requirement already satisfied: h5py in /usr/local/lib/python3.10/dist-packages (from mat73) (3.9.0)\n",
            "Requirement already satisfied: numpy in /usr/local/lib/python3.10/dist-packages (from mat73) (1.23.5)\n"
          ]
        }
      ]
    },
    {
      "cell_type": "code",
      "execution_count": 2,
      "metadata": {
        "id": "v3-sV4kwFuIr",
        "colab": {
          "base_uri": "https://localhost:8080/"
        },
        "outputId": "ead7bb46-55f7-433b-8247-8da374c4ebf7"
      },
      "outputs": [
        {
          "output_type": "stream",
          "name": "stdout",
          "text": [
            "Drive already mounted at /content/gdrive; to attempt to forcibly remount, call drive.mount(\"/content/gdrive\", force_remount=True).\n"
          ]
        }
      ],
      "source": [
        "import mat73\n",
        "import scipy\n",
        "import scipy.io as sio # cannot use for v7.3 mat file\n",
        "import numpy as np\n",
        "import matplotlib.pyplot as plt\n",
        "from google.colab import drive\n",
        "from sklearn.model_selection import train_test_split\n",
        "from sklearn.preprocessing import StandardScaler\n",
        "from sklearn.svm import SVC\n",
        "from sklearn.metrics import accuracy_score, classification_report, confusion_matrix\n",
        "from scipy.signal import butter, filtfilt, sosfiltfilt\n",
        "\n",
        "drive.mount('/content/gdrive')"
      ]
    },
    {
      "cell_type": "code",
      "source": [
        "# filters\n",
        "\n",
        "def butter_lowpass_filter(data, lowcut, fs, order):\n",
        "    nyq = fs/2\n",
        "    low = lowcut/nyq\n",
        "    b, a = butter(order, low, btype='low')\n",
        "    # demean before filtering\n",
        "    meandat = np.mean(data, axis=1)\n",
        "    data = data - meandat[:, np.newaxis]\n",
        "    y = filtfilt(b, a, data) # zero-phase filter # data: [ch x time]\n",
        "    return y\n",
        "\n",
        "def butter_highpass_filter(data, highcut, fs, order):\n",
        "    nyq = fs/2\n",
        "    high = highcut/nyq\n",
        "    b, a = butter(order, high, btype='high')\n",
        "    # demean before filtering\n",
        "    meandat = np.mean(data, axis=1)\n",
        "    data = data - meandat[:, np.newaxis]\n",
        "    y = filtfilt(b, a, data) # zero-phase filter # data: [ch x time]\n",
        "    return y\n",
        "\n",
        "def butter_bandpass_filter(data, lowcut, highcut, fs, order):\n",
        "    nyq = fs/2\n",
        "    low = lowcut/nyq\n",
        "    high = highcut/nyq\n",
        "    sos = butter(order, [low, high], btype='band', output='sos')\n",
        "    # demean before filtering\n",
        "    meandat = np.mean(data, axis=1)\n",
        "    data = data - meandat[:, np.newaxis]\n",
        "    y = sosfiltfilt(sos, data) # zero-phase filter # data: [ch x time]\n",
        "    # specify pandlen to make the result the same as Matlab filtfilt()\n",
        "    return y"
      ],
      "metadata": {
        "id": "yvlRvEOYGMEG"
      },
      "execution_count": 3,
      "outputs": []
    },
    {
      "cell_type": "code",
      "source": [
        "#Pre processing\n",
        "\n",
        "def extractEpoch3D(data, event, srate, baseline, frame, opt_keep_baseline):\n",
        "    # extract epoch from 2D data into 3D [ch x time x trial]\n",
        "    # input: event, baseline, frame\n",
        "    # extract epoch = baseline[0] to frame[2]   so the time frame is -200 to 600 ms.\n",
        "\n",
        "    # for memory pre-allocation\n",
        "    if opt_keep_baseline == True:\n",
        "        begin_tmp = int(np.floor(baseline[0]/1000*srate))\n",
        "        end_tmp = int(begin_tmp+np.floor(frame[1]-baseline[0])/1000*srate)\n",
        "    else:\n",
        "        begin_tmp = int(np.floor(frame[0]/1000*srate))\n",
        "        end_tmp = int(begin_tmp+np.floor(frame[1]-frame[0])/1000*srate)\n",
        "\n",
        "    epoch3D = np.zeros((data.shape[0], end_tmp-begin_tmp, len(event)))\n",
        "    nth_event = 0 # trial\n",
        "\n",
        "    for i in event:\n",
        "        if opt_keep_baseline == True:\n",
        "            begin_id = int(i + np.floor(baseline[0]/1000 * srate))                 # int(i + begin_tmp)\n",
        "            end_id = int(begin_id + np.floor((frame[1]-baseline[0])/1000*srate))   # int(i + end_tmp)\n",
        "        else:\n",
        "            begin_id = int(i + np.floor(frame[0]/1000 * srate))\n",
        "            end_id = int(begin_id + np.floor((frame[1]-frame[0])/1000*srate))\n",
        "\n",
        "        tmp_data = data[:, begin_id:end_id] # extract the time period\n",
        "\n",
        "        begin_base = int(np.floor(baseline[0]/1000 * srate))+i\n",
        "        end_base = int(begin_base + np.floor(np.diff(baseline)/1000 * srate)-1)\n",
        "        base = np.mean(data[:, begin_base:end_base], axis=1)\n",
        "\n",
        "        rmbase_data = tmp_data - base[:, np.newaxis]\n",
        "        epoch3D[:, :, nth_event] = rmbase_data\n",
        "        nth_event = nth_event + 1\n",
        "\n",
        "    return epoch3D\n",
        "\n",
        "def decimation_by_avg(data, factor):\n",
        "    \"\"\"Function for replacing each sequence of previous factor samples with their average\"\"\"\n",
        "    # for example, frame [0, 800]ms -> 17samples (Krusienski et al., 2006)\n",
        "    # data.shape = [ch, time, trial]\n",
        "    ratio_dsample = factor\n",
        "    n_ch, n_frame, n_trial = data.shape\n",
        "\n",
        "    print(\"n_frame\" ,n_frame)\n",
        "    decimated_frame = int(np.floor(n_frame/ratio_dsample))\n",
        "    print(\"decimated_frame \",decimated_frame)\n",
        "\n",
        "    # memory pre-allocation\n",
        "    decimated_data = np.zeros((n_ch, decimated_frame, n_trial))\n",
        "    print(\"decimated_data.shape \",decimated_data.shape)\n",
        "\n",
        "    for i in range(n_trial):\n",
        "        for j in range(decimated_frame):\n",
        "            cur_data = data[:, :, i]\n",
        "            decimated_data[:, j, i] = np.mean(cur_data[:, j*ratio_dsample:(j+1)*ratio_dsample], axis=1)\n",
        "\n",
        "    return decimated_data\n",
        "\n",
        "def detect_letter_P3speller(pred_score, word_len, label, letter_ind, markers_seq, params):\n",
        "    \"\"\"Function for detecing letter from the predicted results from unknown EEG\"\"\"\n",
        "    user_answer = np.chararray(word_len,1)\n",
        "    acc_on_repetition = np.zeros(params[\"full_repeat\"])\n",
        "    correct_on_repetition = np.zeros(params[\"full_repeat\"])\n",
        "    for n_repeat in range(params[\"full_repeat\"]):\n",
        "        for n_letter in range(word_len):\n",
        "            # begin and end trial for a single letter session\n",
        "            begin_trial = len(params[\"seq_code\"]) * params[\"full_repeat\"] * (n_letter)\n",
        "            end_trial = begin_trial + (n_repeat+1) * len(params[\"seq_code\"])\n",
        "\n",
        "            unknown_speller_code = np.zeros(len(params[\"seq_code\"]))\n",
        "            for j in range(begin_trial, end_trial):\n",
        "                # predict and add lda score\n",
        "                unknown_speller_code[int(markers_seq[letter_ind[j]])-1] = unknown_speller_code[int(markers_seq[letter_ind[j]])-1] + pred_score[j]\n",
        "\n",
        "            row = np.argmax(unknown_speller_code[0:6])\n",
        "            col = np.argmax(unknown_speller_code[6:12])\n",
        "            user_answer[n_letter] = params['spellermatrix'][row*6+col]\n",
        "        user_answer_string = user_answer.tobytes().decode()\n",
        "\n",
        "        correct_on_repetition[n_repeat] = len([i for i, j in zip(user_answer_string, label) if i == j])\n",
        "        acc_on_repetition[n_repeat] = correct_on_repetition[n_repeat] / len(label)\n",
        "\n",
        "    out = {\"text_result\": user_answer_string, \"acc_on_repetition\": acc_on_repetition, \"correct_on_repetition\": correct_on_repetition}\n",
        "    return out"
      ],
      "metadata": {
        "id": "F2pDrZtzGfMU"
      },
      "execution_count": 4,
      "outputs": []
    },
    {
      "cell_type": "code",
      "source": [
        "# pre-defined parameters\n",
        "baseline = [-200, 0] # in ms\n",
        "frame = [0, 600] # in ms"
      ],
      "metadata": {
        "id": "XfSs-xefHNYL"
      },
      "execution_count": 5,
      "outputs": []
    },
    {
      "cell_type": "code",
      "source": [
        "EEG = mat73.loadmat(\"/content/gdrive/MyDrive/Colab Notebooks/FYP_coding/DataSet/s01.mat\")"
      ],
      "metadata": {
        "id": "3vxz9xIzJoBz"
      },
      "execution_count": 6,
      "outputs": []
    },
    {
      "cell_type": "markdown",
      "source": [
        "# **Code for prediction letters**"
      ],
      "metadata": {
        "id": "L0JmnVd0HcvL"
      }
    },
    {
      "cell_type": "code",
      "source": [
        "#Load Dataset\n",
        "\n",
        "EEG_data = []\n",
        "path = \"/content/gdrive/MyDrive/Colab Notebooks/FYP_coding/DataSet/\"\n",
        "for subject in range(1,2):\n",
        "    eeg = mat73.loadmat(path+'s{:02d}.mat'.format(int(subject)))\n",
        "    EEG_data += eeg['train'] + eeg['test']\n",
        "\n",
        "#Pre-processing for training EEG\n",
        "\n",
        "for n_calib in range(len(EEG_data)):\n",
        "    # print(n_calib)\n",
        "    cur_eeg = EEG_data[n_calib]\n",
        "\n",
        "    data = np.asarray(cur_eeg['data'])\n",
        "    srate = cur_eeg['srate']\n",
        "    data = butter_bandpass_filter(data, 0.5, 10, srate, 4)\n",
        "    markers = cur_eeg['markers_target']\n",
        "\n",
        "    targetID = np.where(markers==1)[0]\n",
        "    nontargetID = np.where(markers==2)[0]\n",
        "\n",
        "    tmp_targetEEG = extractEpoch3D(data, targetID, srate, baseline, frame, True)\n",
        "    tmp_nontargetEEG = extractEpoch3D(data, nontargetID, srate, baseline, frame, True)\n",
        "    if n_calib == 0:\n",
        "        targetEEG = tmp_targetEEG\n",
        "        nontargetEEG = tmp_nontargetEEG\n",
        "    else:\n",
        "        targetEEG = np.dstack((targetEEG, tmp_targetEEG)) # np.dstack is a function that stacks arrays in sequence along the third axis (depth). Given a sequence of arrays with the same shape along the first two dimensions, np.dstack concatenates them along the third axis. The function name \"dstack\" stands for \"depth stack.\"\n",
        "        nontargetEEG = np.dstack((nontargetEEG, tmp_nontargetEEG))\n",
        "\n",
        "\n",
        "# Averaging in time axis\n",
        "down_target = decimation_by_avg(targetEEG, 24)\n",
        "down_nontarget = decimation_by_avg(nontargetEEG, 24)\n",
        "\n",
        "ch_target, frame_target, trial_target = down_target.shape\n",
        "ch_nontarget, frame_nontarget, trial_nontarget = down_nontarget.shape\n",
        "\n",
        "# ch x time x trial -> (ch* time) x trial -> trial x (ch*time)\n",
        "feat_target = np.reshape(down_target, (ch_target*frame_target, trial_target)).transpose()\n",
        "feat_nontarget = np.reshape(down_nontarget, (ch_nontarget*frame_nontarget, trial_nontarget)).transpose()\n",
        "\n",
        "# labels - (+1) for target and (-1) for nontarget\n",
        "y_target = np.ones((feat_target.shape[0],1))\n",
        "y_nontarget = -np.ones((feat_nontarget.shape[0],1))\n",
        "\n",
        "X_ = np.vstack((feat_target, feat_nontarget))\n",
        "y_ = np.vstack((y_target, y_nontarget))\n",
        "\n",
        "print(X_.shape, y_.shape)\n",
        "\n",
        "# shuffle target and nontarget indices\n",
        "np.random.seed(101)\n",
        "idx_train = np.arange(X_.shape[0])\n",
        "np.random.shuffle(idx_train)\n",
        "X_ = X_[idx_train, :]\n",
        "y_ = y_[idx_train, :]\n",
        "\n",
        "X_train, X_test, y_train, y_test = train_test_split(X_, y_, test_size=0.2, random_state=42)\n",
        "\n",
        "# Standardize the features\n",
        "scaler = StandardScaler()\n",
        "X_train = scaler.fit_transform(X_train)\n",
        "X_test = scaler.transform(X_test)\n",
        "\n"
      ],
      "metadata": {
        "id": "L5QWS8dzQJiD",
        "colab": {
          "base_uri": "https://localhost:8080/"
        },
        "outputId": "e0208f23-eadf-4c72-b50e-480e56f430b8"
      },
      "execution_count": 7,
      "outputs": [
        {
          "output_type": "stream",
          "name": "stdout",
          "text": [
            "n_frame 409\n",
            "decimated_frame  17\n",
            "decimated_data.shape  (32, 17, 1140)\n",
            "n_frame 409\n",
            "decimated_frame  17\n",
            "decimated_data.shape  (32, 17, 5700)\n",
            "(6840, 544) (6840, 1)\n"
          ]
        }
      ]
    },
    {
      "cell_type": "code",
      "source": [
        "# data dimension for\n",
        "print('Target EEG shape', targetEEG.shape) # ch x time x trial                  In one calibration run has 150 target and 750 nontarget events. There are 2 calibration runs, so after stacking shape is Target EEG shape (32, 409, 300),Nontarget EEG shape (32, 409, 1500)\n",
        "print('Nontarget EEG shape', nontargetEEG.shape) # ch x time x trial\n",
        "\n",
        "print(\"down_target.shape \", down_target.shape)\n",
        "print(\"down_nontarget.shape \", down_nontarget.shape)\n",
        "\n",
        "print('Target feature vector shape', feat_target.shape)\n",
        "print('Nontarget feature vector shape', feat_nontarget.shape)\n",
        "\n",
        "print('X_ vector shape', X_.shape)\n",
        "print('y_ vector shape', y_.shape)\n",
        "\n",
        "print('X_train vector shape', X_train.shape)\n",
        "print('y_train vector shape', y_train.shape)\n",
        "\n",
        "print('X_test vector shape', X_test.shape)\n",
        "print('y_test vector shape', y_test.shape)\n"
      ],
      "metadata": {
        "colab": {
          "base_uri": "https://localhost:8080/"
        },
        "id": "Bs8LnCWYjvtP",
        "outputId": "63179995-bdb7-4963-f4bd-114ab8f4cdf0"
      },
      "execution_count": 8,
      "outputs": [
        {
          "output_type": "stream",
          "name": "stdout",
          "text": [
            "Target EEG shape (32, 409, 1140)\n",
            "Nontarget EEG shape (32, 409, 5700)\n",
            "down_target.shape  (32, 17, 1140)\n",
            "down_nontarget.shape  (32, 17, 5700)\n",
            "Target feature vector shape (1140, 544)\n",
            "Nontarget feature vector shape (5700, 544)\n",
            "X_ vector shape (6840, 544)\n",
            "y_ vector shape (6840, 1)\n",
            "X_train vector shape (5472, 544)\n",
            "y_train vector shape (5472, 1)\n",
            "X_test vector shape (1368, 544)\n",
            "y_test vector shape (1368, 1)\n"
          ]
        }
      ]
    },
    {
      "cell_type": "code",
      "source": [
        "# Create and train the SVM model\n",
        "svm_model = SVC(kernel='linear', C=1.0, probability=True)\n",
        "svm_model.fit(X_train, y_train)"
      ],
      "metadata": {
        "id": "c9RO0c4l6fcI",
        "colab": {
          "base_uri": "https://localhost:8080/",
          "height": 131
        },
        "outputId": "51dddb0d-d301-4fb6-aafe-7702857f3bfd"
      },
      "execution_count": 63,
      "outputs": [
        {
          "output_type": "stream",
          "name": "stderr",
          "text": [
            "/usr/local/lib/python3.10/dist-packages/sklearn/utils/validation.py:1143: DataConversionWarning: A column-vector y was passed when a 1d array was expected. Please change the shape of y to (n_samples, ), for example using ravel().\n",
            "  y = column_or_1d(y, warn=True)\n"
          ]
        },
        {
          "output_type": "execute_result",
          "data": {
            "text/plain": [
              "SVC(kernel='linear', probability=True)"
            ],
            "text/html": [
              "<style>#sk-container-id-2 {color: black;background-color: white;}#sk-container-id-2 pre{padding: 0;}#sk-container-id-2 div.sk-toggleable {background-color: white;}#sk-container-id-2 label.sk-toggleable__label {cursor: pointer;display: block;width: 100%;margin-bottom: 0;padding: 0.3em;box-sizing: border-box;text-align: center;}#sk-container-id-2 label.sk-toggleable__label-arrow:before {content: \"▸\";float: left;margin-right: 0.25em;color: #696969;}#sk-container-id-2 label.sk-toggleable__label-arrow:hover:before {color: black;}#sk-container-id-2 div.sk-estimator:hover label.sk-toggleable__label-arrow:before {color: black;}#sk-container-id-2 div.sk-toggleable__content {max-height: 0;max-width: 0;overflow: hidden;text-align: left;background-color: #f0f8ff;}#sk-container-id-2 div.sk-toggleable__content pre {margin: 0.2em;color: black;border-radius: 0.25em;background-color: #f0f8ff;}#sk-container-id-2 input.sk-toggleable__control:checked~div.sk-toggleable__content {max-height: 200px;max-width: 100%;overflow: auto;}#sk-container-id-2 input.sk-toggleable__control:checked~label.sk-toggleable__label-arrow:before {content: \"▾\";}#sk-container-id-2 div.sk-estimator input.sk-toggleable__control:checked~label.sk-toggleable__label {background-color: #d4ebff;}#sk-container-id-2 div.sk-label input.sk-toggleable__control:checked~label.sk-toggleable__label {background-color: #d4ebff;}#sk-container-id-2 input.sk-hidden--visually {border: 0;clip: rect(1px 1px 1px 1px);clip: rect(1px, 1px, 1px, 1px);height: 1px;margin: -1px;overflow: hidden;padding: 0;position: absolute;width: 1px;}#sk-container-id-2 div.sk-estimator {font-family: monospace;background-color: #f0f8ff;border: 1px dotted black;border-radius: 0.25em;box-sizing: border-box;margin-bottom: 0.5em;}#sk-container-id-2 div.sk-estimator:hover {background-color: #d4ebff;}#sk-container-id-2 div.sk-parallel-item::after {content: \"\";width: 100%;border-bottom: 1px solid gray;flex-grow: 1;}#sk-container-id-2 div.sk-label:hover label.sk-toggleable__label {background-color: #d4ebff;}#sk-container-id-2 div.sk-serial::before {content: \"\";position: absolute;border-left: 1px solid gray;box-sizing: border-box;top: 0;bottom: 0;left: 50%;z-index: 0;}#sk-container-id-2 div.sk-serial {display: flex;flex-direction: column;align-items: center;background-color: white;padding-right: 0.2em;padding-left: 0.2em;position: relative;}#sk-container-id-2 div.sk-item {position: relative;z-index: 1;}#sk-container-id-2 div.sk-parallel {display: flex;align-items: stretch;justify-content: center;background-color: white;position: relative;}#sk-container-id-2 div.sk-item::before, #sk-container-id-2 div.sk-parallel-item::before {content: \"\";position: absolute;border-left: 1px solid gray;box-sizing: border-box;top: 0;bottom: 0;left: 50%;z-index: -1;}#sk-container-id-2 div.sk-parallel-item {display: flex;flex-direction: column;z-index: 1;position: relative;background-color: white;}#sk-container-id-2 div.sk-parallel-item:first-child::after {align-self: flex-end;width: 50%;}#sk-container-id-2 div.sk-parallel-item:last-child::after {align-self: flex-start;width: 50%;}#sk-container-id-2 div.sk-parallel-item:only-child::after {width: 0;}#sk-container-id-2 div.sk-dashed-wrapped {border: 1px dashed gray;margin: 0 0.4em 0.5em 0.4em;box-sizing: border-box;padding-bottom: 0.4em;background-color: white;}#sk-container-id-2 div.sk-label label {font-family: monospace;font-weight: bold;display: inline-block;line-height: 1.2em;}#sk-container-id-2 div.sk-label-container {text-align: center;}#sk-container-id-2 div.sk-container {/* jupyter's `normalize.less` sets `[hidden] { display: none; }` but bootstrap.min.css set `[hidden] { display: none !important; }` so we also need the `!important` here to be able to override the default hidden behavior on the sphinx rendered scikit-learn.org. See: https://github.com/scikit-learn/scikit-learn/issues/21755 */display: inline-block !important;position: relative;}#sk-container-id-2 div.sk-text-repr-fallback {display: none;}</style><div id=\"sk-container-id-2\" class=\"sk-top-container\"><div class=\"sk-text-repr-fallback\"><pre>SVC(kernel=&#x27;linear&#x27;, probability=True)</pre><b>In a Jupyter environment, please rerun this cell to show the HTML representation or trust the notebook. <br />On GitHub, the HTML representation is unable to render, please try loading this page with nbviewer.org.</b></div><div class=\"sk-container\" hidden><div class=\"sk-item\"><div class=\"sk-estimator sk-toggleable\"><input class=\"sk-toggleable__control sk-hidden--visually\" id=\"sk-estimator-id-2\" type=\"checkbox\" checked><label for=\"sk-estimator-id-2\" class=\"sk-toggleable__label sk-toggleable__label-arrow\">SVC</label><div class=\"sk-toggleable__content\"><pre>SVC(kernel=&#x27;linear&#x27;, probability=True)</pre></div></div></div></div></div>"
            ]
          },
          "metadata": {},
          "execution_count": 63
        }
      ]
    },
    {
      "cell_type": "code",
      "source": [
        "# Make predictions on the test set\n",
        "y_pred = svm_model.predict(X_test)\n",
        "\n",
        "# Evaluate the model\n",
        "accuracy = accuracy_score(y_test, y_pred)\n",
        "conf_matrix = confusion_matrix(y_test, y_pred)\n",
        "classification_report_str = classification_report(y_test, y_pred)\n",
        "\n",
        "# Print the results\n",
        "print(f\"Accuracy: {accuracy:.2f}\")\n",
        "print(\"\\nConfusion Matrix:\")\n",
        "print(conf_matrix)\n",
        "print(\"\\nClassification Report:\")\n",
        "print(classification_report_str)"
      ],
      "metadata": {
        "id": "eHTTpy3G3u2G",
        "colab": {
          "base_uri": "https://localhost:8080/"
        },
        "outputId": "83d9fbce-5879-4036-e824-73844e071378"
      },
      "execution_count": 64,
      "outputs": [
        {
          "output_type": "stream",
          "name": "stdout",
          "text": [
            "Accuracy: 0.84\n",
            "\n",
            "Confusion Matrix:\n",
            "[[1059   68]\n",
            " [ 154   87]]\n",
            "\n",
            "Classification Report:\n",
            "              precision    recall  f1-score   support\n",
            "\n",
            "        -1.0       0.87      0.94      0.91      1127\n",
            "         1.0       0.56      0.36      0.44       241\n",
            "\n",
            "    accuracy                           0.84      1368\n",
            "   macro avg       0.72      0.65      0.67      1368\n",
            "weighted avg       0.82      0.84      0.82      1368\n",
            "\n"
          ]
        }
      ]
    },
    {
      "cell_type": "code",
      "source": [
        "data_ = X_test[0]"
      ],
      "metadata": {
        "id": "UwwtCbgKJ1PN"
      },
      "execution_count": 91,
      "outputs": []
    },
    {
      "cell_type": "code",
      "source": [
        "num_of_masks = 17\n",
        "mask_index = np.zeros(num_of_masks)"
      ],
      "metadata": {
        "id": "TJeR34TRMnW-"
      },
      "execution_count": 67,
      "outputs": []
    },
    {
      "cell_type": "code",
      "source": [
        "mask_signals = []\n",
        "\n",
        "for i in range(150):\n",
        "  msk = np.copy(data_)\n",
        "  choice = np.random.choice([True, False], size = num_of_masks, p=[0.2,0.8])\n",
        "  print(choice)\n",
        "  for status in range(len(choice)):\n",
        "    if choice[status]:\n",
        "      print(\"true\")\n",
        "      msk[status*32:status*32+32] = 0\n",
        "      print(\"step\",np.sum(msk == 0))\n",
        "  print(np.sum(msk == 0))\n",
        "  mask_signals.append(msk)\n",
        "  break\n"
      ],
      "metadata": {
        "id": "BTEBnzEIZ9H1"
      },
      "execution_count": null,
      "outputs": []
    },
    {
      "cell_type": "code",
      "source": [
        "mask_signals[0]"
      ],
      "metadata": {
        "colab": {
          "base_uri": "https://localhost:8080/"
        },
        "id": "8rsyxb5jbnf-",
        "outputId": "5650ec5d-0557-4349-9c46-37bd3ac3e67d"
      },
      "execution_count": 89,
      "outputs": [
        {
          "output_type": "execute_result",
          "data": {
            "text/plain": [
              "array([ 0.00000000e+00,  0.00000000e+00,  0.00000000e+00,  0.00000000e+00,\n",
              "        0.00000000e+00,  0.00000000e+00,  0.00000000e+00,  0.00000000e+00,\n",
              "        0.00000000e+00,  0.00000000e+00,  0.00000000e+00,  0.00000000e+00,\n",
              "        0.00000000e+00,  0.00000000e+00,  0.00000000e+00,  0.00000000e+00,\n",
              "        0.00000000e+00,  0.00000000e+00,  0.00000000e+00,  0.00000000e+00,\n",
              "        0.00000000e+00,  0.00000000e+00,  0.00000000e+00,  0.00000000e+00,\n",
              "        0.00000000e+00,  0.00000000e+00,  0.00000000e+00,  0.00000000e+00,\n",
              "        0.00000000e+00,  0.00000000e+00,  0.00000000e+00,  0.00000000e+00,\n",
              "        0.00000000e+00,  0.00000000e+00,  0.00000000e+00,  0.00000000e+00,\n",
              "        0.00000000e+00,  0.00000000e+00,  0.00000000e+00,  0.00000000e+00,\n",
              "        0.00000000e+00,  0.00000000e+00,  0.00000000e+00,  0.00000000e+00,\n",
              "        0.00000000e+00,  0.00000000e+00,  0.00000000e+00,  0.00000000e+00,\n",
              "        0.00000000e+00,  0.00000000e+00,  0.00000000e+00,  0.00000000e+00,\n",
              "        0.00000000e+00,  0.00000000e+00,  0.00000000e+00,  0.00000000e+00,\n",
              "        0.00000000e+00,  0.00000000e+00,  0.00000000e+00,  0.00000000e+00,\n",
              "        0.00000000e+00,  0.00000000e+00,  0.00000000e+00,  0.00000000e+00,\n",
              "        0.00000000e+00,  0.00000000e+00,  0.00000000e+00,  0.00000000e+00,\n",
              "        0.00000000e+00,  0.00000000e+00,  0.00000000e+00,  0.00000000e+00,\n",
              "        0.00000000e+00,  0.00000000e+00,  0.00000000e+00,  0.00000000e+00,\n",
              "        0.00000000e+00,  0.00000000e+00,  0.00000000e+00,  0.00000000e+00,\n",
              "        0.00000000e+00,  0.00000000e+00,  0.00000000e+00,  0.00000000e+00,\n",
              "        0.00000000e+00,  0.00000000e+00,  0.00000000e+00,  0.00000000e+00,\n",
              "        0.00000000e+00,  0.00000000e+00,  0.00000000e+00,  0.00000000e+00,\n",
              "        0.00000000e+00,  0.00000000e+00,  0.00000000e+00,  0.00000000e+00,\n",
              "        0.00000000e+00,  0.00000000e+00,  0.00000000e+00,  0.00000000e+00,\n",
              "        0.00000000e+00,  0.00000000e+00,  0.00000000e+00,  0.00000000e+00,\n",
              "        0.00000000e+00,  0.00000000e+00,  0.00000000e+00,  0.00000000e+00,\n",
              "        0.00000000e+00,  0.00000000e+00,  0.00000000e+00,  0.00000000e+00,\n",
              "        0.00000000e+00,  0.00000000e+00,  0.00000000e+00,  0.00000000e+00,\n",
              "        0.00000000e+00,  0.00000000e+00,  0.00000000e+00,  0.00000000e+00,\n",
              "        0.00000000e+00,  0.00000000e+00,  0.00000000e+00,  0.00000000e+00,\n",
              "        0.00000000e+00,  0.00000000e+00,  0.00000000e+00,  0.00000000e+00,\n",
              "       -1.12882764e+00, -1.07967850e+00, -3.58851179e-01,  6.10935498e-01,\n",
              "        9.26674606e-01,  2.38167365e-01, -6.41946317e-01, -8.05355361e-01,\n",
              "       -1.60899841e-01, -7.18675918e-01, -3.75646046e-01,  7.23235775e-01,\n",
              "        8.97544919e-01,  3.08202469e-01, -3.48982564e-01, -2.55532702e-01,\n",
              "        8.65036903e-02, -3.08408933e-01, -4.66416917e-02,  1.70967265e-01,\n",
              "        7.10545664e-01,  8.69186888e-01,  7.79593970e-01, -3.82092626e-01,\n",
              "       -6.75305412e-01, -6.26021857e-01, -6.45586245e-01, -1.02363798e+00,\n",
              "        1.34389410e+00,  2.04503984e+00,  1.12617439e+00, -8.41224575e-03,\n",
              "       -7.28625189e-01, -8.74007282e-01, -1.48561333e+00, -1.74975921e+00,\n",
              "       -6.72697693e-01,  1.19449392e-01,  2.86151822e-01,  3.28050560e-01,\n",
              "       -9.70021649e-01, -9.56496853e-01, -8.02598432e-01, -6.48015612e-01,\n",
              "       -6.35495386e-01,  1.33591419e+00,  1.79703700e+00,  1.04145568e+00,\n",
              "        4.44930564e-01,  9.14701800e-02,  2.89556504e-01, -3.22596703e-01,\n",
              "       -5.24313662e-01,  4.27522592e-01,  7.40526664e-01,  4.64014902e-01,\n",
              "        4.03808760e-01, -1.44563501e-02, -5.09477954e-01, -4.95002854e-01,\n",
              "        4.87168979e-01, -5.14947676e-01,  3.30619572e-01,  6.86963453e-01,\n",
              "        2.53174926e-01, -4.90089997e-01, -9.51533613e-01, -5.06176083e-01,\n",
              "       -9.24964957e-01, -1.06986981e+00, -2.56598650e-01,  3.56916265e-01,\n",
              "       -3.91002763e-02,  1.90174460e-01, -9.93373819e-01, -1.35018996e+00,\n",
              "       -7.97673794e-01,  6.31724958e-02,  3.22115922e-01,  5.30089348e-01,\n",
              "       -2.39529954e-01, -9.91686959e-01, -9.14422304e-01, -5.34173520e-01,\n",
              "        1.23820411e-01,  6.95281628e-02,  9.03888124e-03,  2.47861094e-01,\n",
              "        4.95089241e-01,  1.68221236e-01,  3.30833270e-01,  9.07418919e-02,\n",
              "        3.64429422e-02,  4.38756215e-01,  1.05249645e+00, -1.01889371e+00,\n",
              "       -5.54855120e-01,  2.26888295e-01, -1.57968382e-02, -5.34197230e-01,\n",
              "       -6.41380074e-01,  7.02071648e-02, -3.37460635e-01, -5.96096150e-01,\n",
              "        5.09083452e-02,  5.58034476e-01,  7.27268366e-02,  2.75704399e-01,\n",
              "       -2.72888963e-01, -5.05888258e-01,  6.00270133e-01,  7.69072029e-01,\n",
              "       -1.41116566e+00, -3.03678048e-01,  2.69254966e-01, -2.19109977e-01,\n",
              "       -2.72781780e-01, -2.10154151e-01,  1.88068759e-01, -5.44865984e-02,\n",
              "        3.32283188e-02,  6.53756339e-01,  8.24223324e-01,  5.21915975e-02,\n",
              "        2.27167470e-02, -1.77013076e-01, -3.26891027e-01,  7.91015319e-01,\n",
              "        1.09199671e+00, -1.34623888e+00, -6.38965603e-01, -5.43690648e-01,\n",
              "       -8.33263950e-01, -7.39904369e-01, -7.77813037e-01, -6.72401560e-04,\n",
              "        1.39082174e-01,  9.72071517e-02,  4.72180348e-01,  3.62177263e-01,\n",
              "       -2.85793486e-01, -3.76325169e-01, -6.19558059e-02, -3.89864308e-02,\n",
              "        2.64704187e-01,  9.27465345e-01, -2.85721953e-01, -5.72249876e-01,\n",
              "       -9.21141809e-01, -7.73531651e-01, -6.71468622e-01, -1.05265926e+00,\n",
              "       -4.30415047e-01,  1.65000886e-01,  2.77761614e-01,  3.81572813e-01,\n",
              "        2.71406323e-01, -4.99026598e-01, -7.98157682e-01, -9.42906757e-02,\n",
              "        0.00000000e+00,  0.00000000e+00,  0.00000000e+00,  0.00000000e+00,\n",
              "        0.00000000e+00,  0.00000000e+00,  0.00000000e+00,  0.00000000e+00,\n",
              "        0.00000000e+00,  0.00000000e+00,  0.00000000e+00,  0.00000000e+00,\n",
              "        0.00000000e+00,  0.00000000e+00,  0.00000000e+00,  0.00000000e+00,\n",
              "        0.00000000e+00,  0.00000000e+00,  0.00000000e+00,  0.00000000e+00,\n",
              "        0.00000000e+00,  0.00000000e+00,  0.00000000e+00,  0.00000000e+00,\n",
              "        0.00000000e+00,  0.00000000e+00,  0.00000000e+00,  0.00000000e+00,\n",
              "        0.00000000e+00,  0.00000000e+00,  0.00000000e+00,  0.00000000e+00,\n",
              "       -6.63832357e-02,  5.74928804e-01,  5.78522720e-01, -4.22800433e-01,\n",
              "        1.16416874e+00,  6.33489438e-01, -6.79966190e-01, -8.77374797e-01,\n",
              "       -4.42565664e-01,  2.40359425e-01, -3.94704652e-01, -4.19862087e-01,\n",
              "        3.06555489e-01,  2.66490024e-01, -1.95183916e-01, -1.77932614e-01,\n",
              "        1.87215366e-01, -3.39593520e-01,  2.86065016e-01,  5.46992801e-01,\n",
              "       -8.67562732e-01,  3.79213994e-01,  1.20635125e+00, -1.00122358e-01,\n",
              "       -7.54981141e-01, -9.12164615e-01, -7.04223052e-01, -7.81532119e-01,\n",
              "       -3.53500925e-01,  6.33493560e-01,  9.12728091e-01,  3.31199737e-01,\n",
              "        0.00000000e+00,  0.00000000e+00,  0.00000000e+00,  0.00000000e+00,\n",
              "        0.00000000e+00,  0.00000000e+00,  0.00000000e+00,  0.00000000e+00,\n",
              "        0.00000000e+00,  0.00000000e+00,  0.00000000e+00,  0.00000000e+00,\n",
              "        0.00000000e+00,  0.00000000e+00,  0.00000000e+00,  0.00000000e+00,\n",
              "        0.00000000e+00,  0.00000000e+00,  0.00000000e+00,  0.00000000e+00,\n",
              "        0.00000000e+00,  0.00000000e+00,  0.00000000e+00,  0.00000000e+00,\n",
              "        0.00000000e+00,  0.00000000e+00,  0.00000000e+00,  0.00000000e+00,\n",
              "        0.00000000e+00,  0.00000000e+00,  0.00000000e+00,  0.00000000e+00,\n",
              "        0.00000000e+00,  0.00000000e+00,  0.00000000e+00,  0.00000000e+00,\n",
              "        0.00000000e+00,  0.00000000e+00,  0.00000000e+00,  0.00000000e+00,\n",
              "        0.00000000e+00,  0.00000000e+00,  0.00000000e+00,  0.00000000e+00,\n",
              "        0.00000000e+00,  0.00000000e+00,  0.00000000e+00,  0.00000000e+00,\n",
              "        0.00000000e+00,  0.00000000e+00,  0.00000000e+00,  0.00000000e+00,\n",
              "        0.00000000e+00,  0.00000000e+00,  0.00000000e+00,  0.00000000e+00,\n",
              "        0.00000000e+00,  0.00000000e+00,  0.00000000e+00,  0.00000000e+00,\n",
              "        0.00000000e+00,  0.00000000e+00,  0.00000000e+00,  0.00000000e+00,\n",
              "        0.00000000e+00,  0.00000000e+00,  0.00000000e+00,  0.00000000e+00,\n",
              "        0.00000000e+00,  0.00000000e+00,  0.00000000e+00,  0.00000000e+00,\n",
              "        0.00000000e+00,  0.00000000e+00,  0.00000000e+00,  0.00000000e+00,\n",
              "        0.00000000e+00,  0.00000000e+00,  0.00000000e+00,  0.00000000e+00,\n",
              "        0.00000000e+00,  0.00000000e+00,  0.00000000e+00,  0.00000000e+00,\n",
              "        0.00000000e+00,  0.00000000e+00,  0.00000000e+00,  0.00000000e+00,\n",
              "        0.00000000e+00,  0.00000000e+00,  0.00000000e+00,  0.00000000e+00,\n",
              "        0.00000000e+00,  0.00000000e+00,  0.00000000e+00,  0.00000000e+00,\n",
              "        2.55030910e-02,  8.81728469e-02, -5.85287612e-02, -4.29396345e-01,\n",
              "       -4.79872313e-01, -7.26976595e-02, -2.82593775e-01,  5.91026809e-02,\n",
              "        5.11495096e-01,  4.06217256e-01,  1.57756839e-02,  5.96525434e-01,\n",
              "        1.05921575e+00,  4.10962659e-01, -1.35875222e+00, -1.07453300e+00,\n",
              "       -3.84360335e-01,  1.70446691e-02, -1.84209191e-01, -5.51751679e-01,\n",
              "       -4.29497553e-01, -3.03500703e-01, -4.49668755e-01, -5.86365374e-01,\n",
              "       -3.43542310e-01, -2.79954848e-02,  2.85915217e-01,  6.22700166e-01,\n",
              "        5.15227893e-01,  7.25733445e-02,  6.05753810e-01, -7.20376115e-01,\n",
              "        0.00000000e+00,  0.00000000e+00,  0.00000000e+00,  0.00000000e+00,\n",
              "        0.00000000e+00,  0.00000000e+00,  0.00000000e+00,  0.00000000e+00,\n",
              "        0.00000000e+00,  0.00000000e+00,  0.00000000e+00,  0.00000000e+00,\n",
              "        0.00000000e+00,  0.00000000e+00,  0.00000000e+00,  0.00000000e+00,\n",
              "        0.00000000e+00,  0.00000000e+00,  0.00000000e+00,  0.00000000e+00,\n",
              "        0.00000000e+00,  0.00000000e+00,  0.00000000e+00,  0.00000000e+00,\n",
              "        0.00000000e+00,  0.00000000e+00,  0.00000000e+00,  0.00000000e+00,\n",
              "        0.00000000e+00,  0.00000000e+00,  0.00000000e+00,  0.00000000e+00,\n",
              "        0.00000000e+00,  0.00000000e+00,  0.00000000e+00,  0.00000000e+00,\n",
              "        0.00000000e+00,  0.00000000e+00,  0.00000000e+00,  0.00000000e+00,\n",
              "        0.00000000e+00,  0.00000000e+00,  0.00000000e+00,  0.00000000e+00,\n",
              "        0.00000000e+00,  0.00000000e+00,  0.00000000e+00,  0.00000000e+00,\n",
              "        0.00000000e+00,  0.00000000e+00,  0.00000000e+00,  0.00000000e+00,\n",
              "        0.00000000e+00,  0.00000000e+00,  0.00000000e+00,  0.00000000e+00,\n",
              "        0.00000000e+00,  0.00000000e+00,  0.00000000e+00,  0.00000000e+00,\n",
              "        0.00000000e+00,  0.00000000e+00,  0.00000000e+00,  0.00000000e+00])"
            ]
          },
          "metadata": {},
          "execution_count": 89
        }
      ]
    },
    {
      "cell_type": "code",
      "source": [
        "for i in range(len(choice)):\n",
        "  if choice[i]:\n",
        "    print(i)\n",
        "    data_[i*32:i*32+32] = 0\n",
        "    print(data_[i*32:i*32+32])"
      ],
      "metadata": {
        "id": "kPQBIlLBPemV"
      },
      "execution_count": null,
      "outputs": []
    },
    {
      "cell_type": "code",
      "source": [
        "np.sum(data_ == 0)"
      ],
      "metadata": {
        "colab": {
          "base_uri": "https://localhost:8080/"
        },
        "id": "RkamMZ9FQ3Nw",
        "outputId": "9830715d-bdba-4931-da4d-a8119551702a"
      },
      "execution_count": 71,
      "outputs": [
        {
          "output_type": "execute_result",
          "data": {
            "text/plain": [
              "320"
            ]
          },
          "metadata": {},
          "execution_count": 71
        }
      ]
    },
    {
      "cell_type": "code",
      "source": [
        "data_"
      ],
      "metadata": {
        "id": "PSnmbmx9PyIb"
      },
      "execution_count": null,
      "outputs": []
    },
    {
      "cell_type": "code",
      "source": [],
      "metadata": {
        "id": "azQni4h_VUc9"
      },
      "execution_count": null,
      "outputs": []
    },
    {
      "cell_type": "code",
      "source": [
        "for i in range(len(data_),544//num_of_masks):\n",
        "  if choice[i]:\n",
        "    data_[i,i+32] = 0"
      ],
      "metadata": {
        "id": "9agqMP5PKXvy"
      },
      "execution_count": 73,
      "outputs": []
    },
    {
      "cell_type": "code",
      "source": [
        "svm_model.predict(data_.reshape(1,-1))"
      ],
      "metadata": {
        "colab": {
          "base_uri": "https://localhost:8080/"
        },
        "id": "4xlzgnmhVYnO",
        "outputId": "3f02c348-65c0-45fb-cfd5-ab8ec3a21213"
      },
      "execution_count": 75,
      "outputs": [
        {
          "output_type": "execute_result",
          "data": {
            "text/plain": [
              "array([-1.])"
            ]
          },
          "metadata": {},
          "execution_count": 75
        }
      ]
    },
    {
      "cell_type": "code",
      "source": [
        "svm_model.predict_proba(data_.reshape(1,-1))\n",
        "\n"
      ],
      "metadata": {
        "colab": {
          "base_uri": "https://localhost:8080/"
        },
        "id": "uwwwWItCW24F",
        "outputId": "5dfccb94-48f3-48c4-b8a1-3a5ec4a0da7f"
      },
      "execution_count": 76,
      "outputs": [
        {
          "output_type": "execute_result",
          "data": {
            "text/plain": [
              "array([[0.98034546, 0.01965454]])"
            ]
          },
          "metadata": {},
          "execution_count": 76
        }
      ]
    },
    {
      "cell_type": "code",
      "source": [],
      "metadata": {
        "id": "LT1zG-QzZcln"
      },
      "execution_count": null,
      "outputs": []
    }
  ]
}