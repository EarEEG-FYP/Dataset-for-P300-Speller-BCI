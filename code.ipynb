{
  "nbformat": 4,
  "nbformat_minor": 0,
  "metadata": {
    "colab": {
      "provenance": []
    },
    "kernelspec": {
      "name": "python3",
      "display_name": "Python 3"
    },
    "language_info": {
      "name": "python"
    }
  },
  "cells": [
    {
      "cell_type": "code",
      "execution_count": 1,
      "metadata": {
        "id": "v3-sV4kwFuIr"
      },
      "outputs": [],
      "source": [
        "import statsmodels.api as sm\n",
        "import numpy as np\n",
        "from sklearn.linear_model import LinearRegression"
      ]
    },
    {
      "cell_type": "markdown",
      "source": [
        "# **Functions**"
      ],
      "metadata": {
        "id": "KLNRCIbHGJqd"
      }
    },
    {
      "cell_type": "code",
      "source": [
        "# filters\n",
        "import numpy as np\n",
        "from scipy.signal import butter, filtfilt, sosfiltfilt\n",
        "\n",
        "def butter_lowpass_filter(data, lowcut, fs, order):\n",
        "    nyq = fs/2\n",
        "    low = lowcut/nyq\n",
        "    b, a = butter(order, low, btype='low')\n",
        "    # demean before filtering\n",
        "    meandat = np.mean(data, axis=1)\n",
        "    data = data - meandat[:, np.newaxis]\n",
        "    y = filtfilt(b, a, data) # zero-phase filter # data: [ch x time]\n",
        "    return y\n",
        "\n",
        "def butter_highpass_filter(data, highcut, fs, order):\n",
        "    nyq = fs/2\n",
        "    high = highcut/nyq\n",
        "    b, a = butter(order, high, btype='high')\n",
        "    # demean before filtering\n",
        "    meandat = np.mean(data, axis=1)\n",
        "    data = data - meandat[:, np.newaxis]\n",
        "    y = filtfilt(b, a, data) # zero-phase filter # data: [ch x time]\n",
        "    return y\n",
        "\n",
        "def butter_bandpass_filter(data, lowcut, highcut, fs, order):\n",
        "    nyq = fs/2\n",
        "    low = lowcut/nyq\n",
        "    high = highcut/nyq\n",
        "    sos = butter(order, [low, high], btype='band', output='sos')\n",
        "    # demean before filtering\n",
        "    meandat = np.mean(data, axis=1)\n",
        "    data = data - meandat[:, np.newaxis]\n",
        "    y = sosfiltfilt(sos, data) # zero-phase filter # data: [ch x time]\n",
        "    # specify pandlen to make the result the same as Matlab filtfilt()\n",
        "    return y"
      ],
      "metadata": {
        "id": "yvlRvEOYGMEG"
      },
      "execution_count": 2,
      "outputs": []
    },
    {
      "cell_type": "code",
      "source": [
        "#Pre processing\n",
        "\n",
        "import numpy as np\n",
        "\n",
        "def extractEpoch3D(data, event, srate, baseline, frame, opt_keep_baseline):\n",
        "    # extract epoch from 2D data into 3D [ch x time x trial]\n",
        "    # input: event, baseline, frame\n",
        "    # extract epoch = baseline[0] to frame[2]   so the time frame is -200 to 600 ms.\n",
        "\n",
        "    # for memory pre-allocation\n",
        "    if opt_keep_baseline == True:\n",
        "        begin_tmp = int(np.floor(baseline[0]/1000*srate))\n",
        "        end_tmp = int(begin_tmp+np.floor(frame[1]-baseline[0])/1000*srate)\n",
        "    else:\n",
        "        begin_tmp = int(np.floor(frame[0]/1000*srate))\n",
        "        end_tmp = int(begin_tmp+np.floor(frame[1]-frame[0])/1000*srate)\n",
        "\n",
        "    epoch3D = np.zeros((data.shape[0], end_tmp-begin_tmp, len(event)))\n",
        "    nth_event = 0 # trial\n",
        "\n",
        "    for i in event:\n",
        "        if opt_keep_baseline == True:\n",
        "            begin_id = int(i + np.floor(baseline[0]/1000 * srate))                 # int(i + begin_tmp)\n",
        "            end_id = int(begin_id + np.floor((frame[1]-baseline[0])/1000*srate))   # int(i + end_tmp)\n",
        "        else:\n",
        "            begin_id = int(i + np.floor(frame[0]/1000 * srate))\n",
        "            end_id = int(begin_id + np.floor((frame[1]-frame[0])/1000*srate))\n",
        "\n",
        "        tmp_data = data[:, begin_id:end_id] # extract the time period\n",
        "\n",
        "        begin_base = int(np.floor(baseline[0]/1000 * srate))\n",
        "        end_base = int(begin_base + np.floor(np.diff(baseline)/1000 * srate)-1)\n",
        "        base = np.mean(tmp_data[:, begin_base:end_base], axis=1)\n",
        "\n",
        "        rmbase_data = tmp_data - base[:, np.newaxis]\n",
        "        epoch3D[:, :, nth_event] = rmbase_data\n",
        "        nth_event = nth_event + 1\n",
        "\n",
        "    return epoch3D\n",
        "\n",
        "def decimation_by_avg(data, factor):\n",
        "    \"\"\"Function for replacing each sequence of previous factor samples with their average\"\"\"\n",
        "    # for example, frame [0, 800]ms -> 17samples (Krusienski et al., 2006)\n",
        "    # data.shape = [ch, time, trial]\n",
        "    ratio_dsample = factor\n",
        "    n_ch, n_frame, n_trial = data.shape\n",
        "\n",
        "    #print(n_frame)\n",
        "    decimated_frame = int(np.floor(n_frame/ratio_dsample))\n",
        "    #print(decimated_frame)\n",
        "\n",
        "    # memory pre-allocation\n",
        "    decimated_data = np.zeros((n_ch, decimated_frame, n_trial))\n",
        "    #print(decimated_data.shape)\n",
        "\n",
        "    for i in range(n_trial):\n",
        "        for j in range(decimated_frame):\n",
        "            cur_data = data[:, :, i]\n",
        "            decimated_data[:, j, i] = np.mean(cur_data[:, j*ratio_dsample:(j+1)*ratio_dsample], axis=1)\n",
        "\n",
        "    return decimated_data\n",
        "\n",
        "def detect_letter_P3speller(pred_score, word_len, label, letter_ind, markers_seq, params):\n",
        "    \"\"\"Function for detecing letter from the predicted results from unknown EEG\"\"\"\n",
        "    user_answer = np.chararray(word_len,1)\n",
        "    acc_on_repetition = np.zeros(params[\"full_repeat\"])\n",
        "    correct_on_repetition = np.zeros(params[\"full_repeat\"])\n",
        "    for n_repeat in range(params[\"full_repeat\"]):\n",
        "        for n_letter in range(word_len):\n",
        "            # begin and end trial for a single letter session\n",
        "            begin_trial = len(params[\"seq_code\"]) * params[\"full_repeat\"] * (n_letter)\n",
        "            end_trial = begin_trial + (n_repeat+1) * len(params[\"seq_code\"])\n",
        "\n",
        "            unknown_speller_code = np.zeros(len(params[\"seq_code\"]))\n",
        "            for j in range(begin_trial, end_trial):\n",
        "                # predict and add lda score\n",
        "                unknown_speller_code[int(markers_seq[letter_ind[j]])-1] = unknown_speller_code[int(markers_seq[letter_ind[j]])-1] + pred_score[j]\n",
        "\n",
        "            row = np.argmax(unknown_speller_code[0:6])\n",
        "            col = np.argmax(unknown_speller_code[6:12])\n",
        "            user_answer[n_letter] = params['spellermatrix'][row*6+col]\n",
        "        user_answer_string = user_answer.tobytes().decode()\n",
        "\n",
        "        correct_on_repetition[n_repeat] = len([i for i, j in zip(user_answer_string, label) if i == j])\n",
        "        acc_on_repetition[n_repeat] = correct_on_repetition[n_repeat] / len(label)\n",
        "\n",
        "    out = {\"text_result\": user_answer_string, \"acc_on_repetition\": acc_on_repetition, \"correct_on_repetition\": correct_on_repetition}\n",
        "    return out"
      ],
      "metadata": {
        "id": "F2pDrZtzGfMU"
      },
      "execution_count": 5,
      "outputs": []
    },
    {
      "cell_type": "code",
      "source": [
        "#Classifier\n",
        "\n",
        "import statsmodels.api as sm\n",
        "import numpy as np\n",
        "from sklearn.linear_model import LinearRegression\n",
        "\n",
        "def get_stats(dat, x_columns, y):\n",
        "    x = dat[:, x_columns]\n",
        "    results = sm.OLS(y, x).fit()\n",
        "    return results\n",
        "\n",
        "def stepwise_linear_model(dat, init_x_column, y_train, p_val):\n",
        "    x_column = init_x_column\n",
        "\n",
        "    while True:\n",
        "        results_stats = get_stats(dat, x_column, y_train)\n",
        "        if np.max(results_stats.pvalues) <= p_val:\n",
        "            break\n",
        "        else:\n",
        "            backward_elim = np.argmax(results_stats.pvalues)\n",
        "            x_column = np.delete(x_column, backward_elim)\n",
        "\n",
        "    return x_column, results_stats\n"
      ],
      "metadata": {
        "id": "TjjIlu-LG_ET"
      },
      "execution_count": 8,
      "outputs": []
    },
    {
      "cell_type": "code",
      "source": [
        "from google.colab import drive"
      ],
      "metadata": {
        "id": "1Z5Qw_iVHWdv"
      },
      "execution_count": 10,
      "outputs": []
    },
    {
      "cell_type": "code",
      "source": [
        "!pip install mat73"
      ],
      "metadata": {
        "colab": {
          "base_uri": "https://localhost:8080/"
        },
        "id": "YWhx22wAJ2x9",
        "outputId": "c64b9af5-8e13-4264-a572-49482df4ca89"
      },
      "execution_count": 24,
      "outputs": [
        {
          "output_type": "stream",
          "name": "stdout",
          "text": [
            "Requirement already satisfied: mat73 in /usr/local/lib/python3.10/dist-packages (0.62)\n",
            "Requirement already satisfied: h5py in /usr/local/lib/python3.10/dist-packages (from mat73) (3.9.0)\n",
            "Requirement already satisfied: numpy in /usr/local/lib/python3.10/dist-packages (from mat73) (1.23.5)\n"
          ]
        }
      ]
    },
    {
      "cell_type": "code",
      "source": [
        "import mat73\n",
        "import scipy\n",
        "import scipy.io as sio # cannot use for v7.3 mat file\n",
        "import numpy as np\n",
        "import matplotlib.pyplot as plt"
      ],
      "metadata": {
        "id": "KCuZBpjMJzss"
      },
      "execution_count": 18,
      "outputs": []
    },
    {
      "cell_type": "code",
      "source": [
        "drive.mount('/content/gdrive')"
      ],
      "metadata": {
        "colab": {
          "base_uri": "https://localhost:8080/"
        },
        "id": "Ee3xzGrtH6Ut",
        "outputId": "652ef554-e252-40d0-c64c-ec7fb8762911"
      },
      "execution_count": 13,
      "outputs": [
        {
          "output_type": "stream",
          "name": "stdout",
          "text": [
            "Mounted at /content/gdrive\n"
          ]
        }
      ]
    },
    {
      "cell_type": "code",
      "source": [
        "# pre-defined parameters\n",
        "baseline = [-200, 0] # in ms\n",
        "frame = [0, 600] # in ms"
      ],
      "metadata": {
        "id": "XfSs-xefHNYL"
      },
      "execution_count": 9,
      "outputs": []
    },
    {
      "cell_type": "code",
      "source": [
        "EEG = sio.loadmat(\"/content/gdrive/MyDrive/Colab Notebooks/FYP_coding/DataSet/s55.mat\")"
      ],
      "metadata": {
        "colab": {
          "base_uri": "https://localhost:8080/",
          "height": 321
        },
        "id": "CACYKcDsL3Ir",
        "outputId": "f7b0fedd-057d-4548-ce5e-5303ebd4598a"
      },
      "execution_count": 29,
      "outputs": [
        {
          "output_type": "error",
          "ename": "NotImplementedError",
          "evalue": "Please use HDF reader for matlab v7.3 files, e.g. h5py",
          "traceback": [
            "\u001b[0;31m---------------------------------------------------------------------------\u001b[0m",
            "\u001b[0;31mNotImplementedError\u001b[0m                       Traceback (most recent call last)",
            "\u001b[0;32m<ipython-input-29-4fb8a4ece255>\u001b[0m in \u001b[0;36m<cell line: 1>\u001b[0;34m()\u001b[0m\n\u001b[0;32m----> 1\u001b[0;31m \u001b[0mEEG\u001b[0m \u001b[0;34m=\u001b[0m \u001b[0msio\u001b[0m\u001b[0;34m.\u001b[0m\u001b[0mloadmat\u001b[0m\u001b[0;34m(\u001b[0m\u001b[0;34m\"/content/gdrive/MyDrive/Colab Notebooks/FYP_coding/DataSet/s55.mat\"\u001b[0m\u001b[0;34m)\u001b[0m\u001b[0;34m\u001b[0m\u001b[0;34m\u001b[0m\u001b[0m\n\u001b[0m",
            "\u001b[0;32m/usr/local/lib/python3.10/dist-packages/scipy/io/matlab/_mio.py\u001b[0m in \u001b[0;36mloadmat\u001b[0;34m(file_name, mdict, appendmat, **kwargs)\u001b[0m\n\u001b[1;32m    224\u001b[0m     \u001b[0mvariable_names\u001b[0m \u001b[0;34m=\u001b[0m \u001b[0mkwargs\u001b[0m\u001b[0;34m.\u001b[0m\u001b[0mpop\u001b[0m\u001b[0;34m(\u001b[0m\u001b[0;34m'variable_names'\u001b[0m\u001b[0;34m,\u001b[0m \u001b[0;32mNone\u001b[0m\u001b[0;34m)\u001b[0m\u001b[0;34m\u001b[0m\u001b[0;34m\u001b[0m\u001b[0m\n\u001b[1;32m    225\u001b[0m     \u001b[0;32mwith\u001b[0m \u001b[0m_open_file_context\u001b[0m\u001b[0;34m(\u001b[0m\u001b[0mfile_name\u001b[0m\u001b[0;34m,\u001b[0m \u001b[0mappendmat\u001b[0m\u001b[0;34m)\u001b[0m \u001b[0;32mas\u001b[0m \u001b[0mf\u001b[0m\u001b[0;34m:\u001b[0m\u001b[0;34m\u001b[0m\u001b[0;34m\u001b[0m\u001b[0m\n\u001b[0;32m--> 226\u001b[0;31m         \u001b[0mMR\u001b[0m\u001b[0;34m,\u001b[0m \u001b[0m_\u001b[0m \u001b[0;34m=\u001b[0m \u001b[0mmat_reader_factory\u001b[0m\u001b[0;34m(\u001b[0m\u001b[0mf\u001b[0m\u001b[0;34m,\u001b[0m \u001b[0;34m**\u001b[0m\u001b[0mkwargs\u001b[0m\u001b[0;34m)\u001b[0m\u001b[0;34m\u001b[0m\u001b[0;34m\u001b[0m\u001b[0m\n\u001b[0m\u001b[1;32m    227\u001b[0m         \u001b[0mmatfile_dict\u001b[0m \u001b[0;34m=\u001b[0m \u001b[0mMR\u001b[0m\u001b[0;34m.\u001b[0m\u001b[0mget_variables\u001b[0m\u001b[0;34m(\u001b[0m\u001b[0mvariable_names\u001b[0m\u001b[0;34m)\u001b[0m\u001b[0;34m\u001b[0m\u001b[0;34m\u001b[0m\u001b[0m\n\u001b[1;32m    228\u001b[0m \u001b[0;34m\u001b[0m\u001b[0m\n",
            "\u001b[0;32m/usr/local/lib/python3.10/dist-packages/scipy/io/matlab/_mio.py\u001b[0m in \u001b[0;36mmat_reader_factory\u001b[0;34m(file_name, appendmat, **kwargs)\u001b[0m\n\u001b[1;32m     78\u001b[0m         \u001b[0;32mreturn\u001b[0m \u001b[0mMatFile5Reader\u001b[0m\u001b[0;34m(\u001b[0m\u001b[0mbyte_stream\u001b[0m\u001b[0;34m,\u001b[0m \u001b[0;34m**\u001b[0m\u001b[0mkwargs\u001b[0m\u001b[0;34m)\u001b[0m\u001b[0;34m,\u001b[0m \u001b[0mfile_opened\u001b[0m\u001b[0;34m\u001b[0m\u001b[0;34m\u001b[0m\u001b[0m\n\u001b[1;32m     79\u001b[0m     \u001b[0;32melif\u001b[0m \u001b[0mmjv\u001b[0m \u001b[0;34m==\u001b[0m \u001b[0;36m2\u001b[0m\u001b[0;34m:\u001b[0m\u001b[0;34m\u001b[0m\u001b[0;34m\u001b[0m\u001b[0m\n\u001b[0;32m---> 80\u001b[0;31m         raise NotImplementedError('Please use HDF reader for matlab v7.3 '\n\u001b[0m\u001b[1;32m     81\u001b[0m                                   'files, e.g. h5py')\n\u001b[1;32m     82\u001b[0m     \u001b[0;32melse\u001b[0m\u001b[0;34m:\u001b[0m\u001b[0;34m\u001b[0m\u001b[0;34m\u001b[0m\u001b[0m\n",
            "\u001b[0;31mNotImplementedError\u001b[0m: Please use HDF reader for matlab v7.3 files, e.g. h5py"
          ]
        }
      ]
    },
    {
      "cell_type": "code",
      "source": [
        "EEG = mat73.loadmat(\"/content/gdrive/MyDrive/Colab Notebooks/FYP_coding/DataSet/s01.mat\")"
      ],
      "metadata": {
        "id": "3vxz9xIzJoBz"
      },
      "execution_count": 31,
      "outputs": []
    },
    {
      "cell_type": "markdown",
      "source": [
        "# **Visualizaion**"
      ],
      "metadata": {
        "id": "uAN7uJ5uP3JP"
      }
    },
    {
      "cell_type": "code",
      "source": [
        "for n_calib in range(len(EEG['test'])):\n",
        "  cur_EEG = EEG['test'][n_calib]\n",
        "  data = np.asarray(cur_EEG['data'])\n",
        "  srate = cur_EEG['srate']\n",
        "  data = butter_bandpass_filter(data, 1, 10, srate, 4)\n",
        "  markers = cur_EEG['markers_target']\n",
        "\n",
        "  targetID = np.where(markers==1)[0]\n",
        "  nontargetID = np.where(markers==2)[0]\n",
        "\n",
        "  tmp_targetEEG = extractEpoch3D(data, targetID, srate, baseline, frame, True)\n",
        "  tmp_nontargetEEG = extractEpoch3D(data, nontargetID, srate, baseline, frame, True)\n",
        "  if n_calib == 0:\n",
        "    targetEEG = tmp_targetEEG\n",
        "    nontargetEEG = tmp_nontargetEEG\n",
        "  else:\n",
        "    targetEEG = np.dstack((targetEEG, tmp_targetEEG))\n",
        "    nontargetEEG = np.dstack((nontargetEEG, tmp_nontargetEEG))\n",
        "\n",
        "avg_target = np.mean(targetEEG, axis=2) # trial average\n",
        "avg_nontarget = np.mean(nontargetEEG, axis=2) # trial average\n",
        "\n",
        "# Channel selection for drawing ERPs\n",
        "elec_midline = [31-1, 32-1, 13-1] # Fz, Cz, and Pz, respectively, -1 for indexing\n",
        "ch_avg_target = np.mean(avg_target[elec_midline, :], axis=0)\n",
        "ch_avg_nontarget = np.mean(avg_nontarget[elec_midline, :], axis=0)\n",
        "\n",
        "# Single subject averaged target & nontarget ERPs - visualization\n",
        "t = np.linspace(-200, 600, avg_target.shape[1])\n",
        "plt.plot(t, ch_avg_target.transpose(), color=[1, 0.5, 0])\n",
        "plt.plot(t, ch_avg_nontarget.transpose(), color=[0, 0, 0])\n",
        "plt.xlabel('ms')\n",
        "plt.ylabel(r'$\\mu V$')\n",
        "plt.gca().yaxis.grid(True)\n",
        "plt.rcParams.update({'font.size': 13})\n",
        "plt.xlim([-200, 600])\n",
        "\n",
        "# plot ratio\n",
        "ratio = .6\n",
        "x_left, x_right = plt.gca().get_xlim()\n",
        "y_low, y_high = plt.gca().get_ylim()\n",
        "\n",
        "plt.gca().set_aspect(abs((x_right-x_left)/(y_low-y_high))*ratio)\n",
        "plt.show()"
      ],
      "metadata": {
        "colab": {
          "base_uri": "https://localhost:8080/",
          "height": 385
        },
        "id": "t9NL8R64JvYq",
        "outputId": "4a6b6dbb-9c11-4c34-97d7-e3f563e96a3c"
      },
      "execution_count": 58,
      "outputs": [
        {
          "output_type": "display_data",
          "data": {
            "text/plain": [
              "<Figure size 640x480 with 1 Axes>"
            ],
            "image/png": "[encoded data removed]"
          },
          "metadata": {}
        }
      ]
    },
    {
      "cell_type": "code",
      "source": [
        "for n_calib in range(len(EEG['train'])):\n",
        "  cur_EEG = EEG['test'][n_calib]\n",
        "  data = np.asarray(cur_EEG['data'])\n",
        "  srate = cur_EEG['srate']\n",
        "  data = butter_bandpass_filter(data, 1, 10, srate, 4)\n",
        "  markers = cur_EEG['markers_target']\n",
        "\n",
        "  targetID = np.where(markers==1)[0]\n",
        "  nontargetID = np.where(markers==2)[0]\n",
        "\n",
        "  tmp_targetEEG = extractEpoch3D(data, targetID, srate, baseline, frame, True)\n",
        "  tmp_nontargetEEG = extractEpoch3D(data, nontargetID, srate, baseline, frame, True)\n",
        "  if n_calib == 0:\n",
        "    targetEEG = tmp_targetEEG\n",
        "    nontargetEEG = tmp_nontargetEEG\n",
        "  else:\n",
        "    targetEEG = np.dstack((targetEEG, tmp_targetEEG))\n",
        "    nontargetEEG = np.dstack((nontargetEEG, tmp_nontargetEEG))\n",
        "\n",
        "avg_target = np.mean(targetEEG, axis=2) # trial average\n",
        "avg_nontarget = np.mean(nontargetEEG, axis=2) # trial average\n",
        "\n",
        "# Channel selection for drawing ERPs\n",
        "elec_midline = [31-1, 32-1, 13-1] # Fz, Cz, and Pz, respectively, -1 for indexing\n",
        "ch_avg_target = np.mean(avg_target[elec_midline, :], axis=0)\n",
        "ch_avg_nontarget = np.mean(avg_nontarget[elec_midline, :], axis=0)\n",
        "\n",
        "# Single subject averaged target & nontarget ERPs - visualization\n",
        "t = np.linspace(-200, 600, avg_target.shape[1])\n",
        "plt.plot(t, ch_avg_target.transpose(), color=[1, 0.5, 0])\n",
        "plt.plot(t, ch_avg_nontarget.transpose(), color=[0, 0, 0])\n",
        "plt.xlabel('ms')\n",
        "plt.ylabel(r'$\\mu V$')\n",
        "plt.gca().yaxis.grid(True)\n",
        "plt.rcParams.update({'font.size': 13})\n",
        "plt.xlim([-200, 600])\n",
        "\n",
        "# plot ratio\n",
        "ratio = .6\n",
        "x_left, x_right = plt.gca().get_xlim()\n",
        "y_low, y_high = plt.gca().get_ylim()\n",
        "\n",
        "plt.gca().set_aspect(abs((x_right-x_left)/(y_low-y_high))*ratio)\n",
        "plt.show()"
      ],
      "metadata": {
        "colab": {
          "base_uri": "https://localhost:8080/",
          "height": 385
        },
        "id": "vGFEKRt5POO7",
        "outputId": "7067ec1f-e248-47d3-b42d-86942a86de54"
      },
      "execution_count": 59,
      "outputs": [
        {
          "output_type": "display_data",
          "data": {
            "text/plain": [
              "<Figure size 640x480 with 1 Axes>"
            ],
            "image/png": "[encoded data removed]"
          },
          "metadata": {}
        }
      ]
    },
    {
      "cell_type": "markdown",
      "source": [
        "# **Code for prediction letters**"
      ],
      "metadata": {
        "id": "L0JmnVd0HcvL"
      }
    },
    {
      "cell_type": "code",
      "source": [
        "#Load Dataset\n",
        "\n",
        "nsub = 1\n",
        "path = '/content/gdrive/MyDrive/Colab Notebooks/FYP_coding/DataSet/'\n",
        "EEg= mat73.loadmat(path+'s{:02d}.mat'.format(int(nsub))) # 's{:02d}.mat': This is a string specifying the name of the MATLAB file to be loaded. It includes a placeholder ({:02d}) for an integer (nsub), where the integer is formatted with at least two digits (padded with zeros if needed). This suggests that the MATLAB files are named in a structured way, with 's' followed by a two-digit number and ending with '.mat'.\n",
        "\n",
        "\n",
        "# for i in range(1,55):\n",
        "#   EEg= mat73.loadmat(path+'s{:02d}.mat'.format(int(nsub)))\n",
        "\n",
        "\n",
        "\n"
      ],
      "metadata": {
        "id": "L5QWS8dzQJiD"
      },
      "execution_count": 40,
      "outputs": []
    },
    {
      "cell_type": "code",
      "source": [
        "#Pre-processing for training EEG\n",
        "\n",
        "for n_calib in range(len(EEG['train'])):\n",
        "    cur_eeg = EEG['train'][n_calib]\n",
        "    data = np.asarray(cur_eeg['data'])\n",
        "    srate = cur_eeg['srate']\n",
        "    data = butter_bandpass_filter(data, 0.5, 10, srate, 4)\n",
        "    markers = cur_eeg['markers_target']\n",
        "\n",
        "    targetID = np.where(markers==1)[0]\n",
        "    nontargetID = np.where(markers==2)[0]\n",
        "\n",
        "    tmp_targetEEG = extractEpoch3D(data, targetID, srate, baseline, frame, False)\n",
        "    tmp_nontargetEEG = extractEpoch3D(data, nontargetID, srate, baseline, frame, False)\n",
        "    if n_calib == 0:\n",
        "        targetEEG = tmp_targetEEG\n",
        "        nontargetEEG = tmp_nontargetEEG\n",
        "    else:\n",
        "        targetEEG = np.dstack((targetEEG, tmp_targetEEG)) # np.dstack is a function that stacks arrays in sequence along the third axis (depth). Given a sequence of arrays with the same shape along the first two dimensions, np.dstack concatenates them along the third axis. The function name \"dstack\" stands for \"depth stack.\"\n",
        "        nontargetEEG = np.dstack((nontargetEEG, tmp_nontargetEEG))\n"
      ],
      "metadata": {
        "id": "ifiax76fSq4O"
      },
      "execution_count": 45,
      "outputs": []
    },
    {
      "cell_type": "code",
      "source": [
        "print((targetEEG).shape)\n",
        "\n",
        "print(targetEEG[0][0])\n",
        "\n"
      ],
      "metadata": {
        "colab": {
          "base_uri": "https://localhost:8080/"
        },
        "id": "-rQA9XIeT9Xb",
        "outputId": "55c81b8f-27c0-4f89-b657-e357b864d6aa"
      },
      "execution_count": 56,
      "outputs": [
        {
          "output_type": "stream",
          "name": "stdout",
          "text": [
            "(32, 307, 300)\n",
            "[-3.69354240e+00  1.35540879e+00  6.42631313e+00 -7.45815905e+00\n",
            "  2.39313006e+00 -2.56577155e+00  7.00504856e-01  8.04677571e+00\n",
            "  2.31459579e+00 -5.67259024e-01 -5.67411075e+00 -4.92733924e+00\n",
            " -3.13850603e+00  2.18231791e+00 -4.85946645e+00 -9.21602309e-01\n",
            "  1.29156280e+00  9.82222132e-01  3.22312883e+00  1.81776928e+00\n",
            "  7.65483422e+00  3.34472366e+00 -5.64604657e+00 -5.38539778e+00\n",
            "  5.76336461e-01  7.28319647e+00  3.30162008e+00  1.40782959e-01\n",
            "  1.73032745e+00 -3.87399622e+00 -2.91569452e+00  1.27129126e+01\n",
            " -4.41916679e+01  8.66573696e+00 -2.17417060e+00 -1.18507583e+00\n",
            "  1.28116751e+00  9.17584017e+00  5.76330688e+00 -8.54490717e-01\n",
            " -8.12386106e-01  2.21089537e+00  1.97667077e+00 -4.65445562e+00\n",
            " -5.92103958e+00 -2.91794468e+00  5.51565891e+00  8.10343144e-02\n",
            " -1.45571100e+00  3.70029443e+00 -1.09247042e+00 -1.46435943e+00\n",
            " -1.83989018e+00 -2.93066749e+00  3.77725827e+00  3.00941916e+00\n",
            "  7.22074731e+00 -3.07926934e+00 -1.11358430e+00  1.70756316e+00\n",
            "  3.33069038e+00  1.12485431e+00 -7.11295432e+00 -2.03601875e+00\n",
            " -2.71785638e+00  2.67659974e+00 -7.70710810e+00  8.33032893e+00\n",
            " -2.01833233e+00  1.09453619e+01 -1.94853606e+01 -1.10529347e+01\n",
            " -2.56361139e-01  1.24855584e+01 -9.05404711e+00 -1.20910532e+00\n",
            " -5.89798384e+00 -1.97127857e+00 -1.47300089e+01  1.31805617e+01\n",
            "  5.54975992e+00  3.92813430e+00  4.44336964e+00  6.11737501e+00\n",
            "  2.04217213e+00  6.35282669e+00  1.51946746e+01  1.12611824e+01\n",
            " -6.63618265e+00 -1.14625271e+01 -2.44011909e+00  2.19065734e+00\n",
            " -6.07092023e+00 -1.68729053e+00  1.25640351e+00 -2.46228205e+01\n",
            " -1.94397041e+01 -1.40025145e+01  3.95833288e+00  6.45644867e-01\n",
            "  4.86374559e+00  1.21254927e+00 -3.32343895e+01 -2.69110112e+01\n",
            "  3.75532735e+01  5.29272161e+00  6.30357678e+00 -4.25646186e+00\n",
            " -1.01122817e+01 -9.15229570e+00  6.59957668e-01  1.05471713e+01\n",
            "  1.59629035e+01  6.34250797e-01 -4.83996730e+00 -9.52160738e-01\n",
            " -8.83853745e-01 -3.88243234e-01 -7.70676558e+00 -1.94213044e+00\n",
            " -4.10554570e+00  2.39729719e-01  6.80286979e+00  4.02339502e+00\n",
            "  7.65793578e-01 -4.84443078e+00 -8.28054708e+00 -2.48062086e+00\n",
            "  1.11121534e-01 -2.74379862e+00 -1.68352411e-01 -1.14757134e+00\n",
            "  3.71382777e-01 -4.32804290e+00 -7.45179591e+00 -2.38871501e+00\n",
            "  2.65998372e+00  2.77105575e+00  8.79681288e+00  4.65314594e+00\n",
            " -6.64936742e+01 -5.78695108e+00  1.24028368e+01 -7.45201833e+00\n",
            "  3.35207805e+00  5.91458641e-01  5.85031579e+00 -1.13003946e+00\n",
            "  1.74129816e+00  6.24039960e+00  4.08425169e+00  8.40199873e-01\n",
            "  6.42180701e+00 -1.88365824e+00 -2.27760646e+00 -8.52897660e+00\n",
            " -5.66699477e+00 -8.04040679e+00  9.66778390e+00 -3.22584290e+00\n",
            "  4.90784102e+00 -2.65475303e+00  3.74703761e+00 -1.40411106e+01\n",
            "  4.57638206e-01 -4.34313061e+01 -1.06853987e+01  2.20657805e+00\n",
            "  3.23113291e+00  6.74162345e+00  4.06546845e+00  2.55161471e+00\n",
            "  2.84743508e+00 -1.68023119e+00 -5.79787176e-01 -9.97379091e+00\n",
            " -3.17359701e+00 -8.15571772e+00 -3.65949313e+00  8.30666616e-01\n",
            " -1.42117698e+01  1.61522502e+00  7.11211297e+00  3.66239215e+00\n",
            "  1.46080357e+00 -1.85469450e+00  1.55026042e+00 -1.81490355e+00\n",
            "  1.17073988e+00 -2.44180076e+00  4.05967644e+00  3.49991993e+00\n",
            "  1.93395510e+00 -8.57111112e-01 -7.94622244e-01  8.62670817e+00\n",
            " -4.00484304e+00 -5.74694066e+00 -8.96007339e+00 -4.47615383e+00\n",
            "  7.04626380e-01 -7.03546133e+00 -9.58697855e-02  8.72662343e-01\n",
            " -8.12110261e+00  1.85005354e+00  4.33110813e+00 -1.06523799e+00\n",
            " -3.93291672e+00  8.66952470e+00  3.17127920e+00  7.33619642e+00\n",
            "  7.54776482e+00 -7.84653883e+00 -4.47086498e+00  5.88505631e-01\n",
            " -9.92029957e+00  2.07301979e+00 -6.69431294e+00 -7.41193986e-01\n",
            "  7.67993581e+00 -6.04722290e-01  5.67472292e+00 -3.78173228e+00\n",
            " -2.37948457e+00  2.50604240e+00 -6.55688816e+00  1.24838306e+00\n",
            "  6.18135577e+00 -3.35980360e+00 -7.00831909e+00  1.96385756e+00\n",
            " -3.46964559e+00  4.30665417e+00  1.77347598e+00 -4.58714448e+00\n",
            " -5.17933483e+00  3.12488123e+00  8.49408290e+00 -1.98797516e+00\n",
            " -1.24180066e+01  5.17769575e+00  2.95544053e+00  1.28547055e+01\n",
            " -5.63242538e+01 -1.15928480e+00  2.76885346e+00  1.03992257e+01\n",
            "  3.49730688e-01  2.98513853e-01  1.03899019e+01  1.12707799e+00\n",
            "  6.56659546e-01  7.15908793e+00 -2.38352295e+00  1.92340810e+00\n",
            " -1.40821392e+00 -4.62500880e+00 -4.66813258e-01 -4.08759977e+00\n",
            "  4.28271796e+00 -1.10428849e+01 -3.68498076e+00  4.00960134e+00\n",
            " -9.84851635e-01 -7.36639585e+00  1.85998047e+00 -3.00627424e+00\n",
            "  9.00611841e-01  4.43812134e+00  2.80706939e+00 -2.32969450e-01\n",
            "  4.02561601e+00  2.14169096e+00 -3.59238889e+00 -1.32304671e+01\n",
            "  3.32921795e+00  2.29087530e-01 -1.49639121e+01  1.44893813e+00\n",
            " -6.46588410e+00  2.91519331e-01 -1.09404376e+01 -5.47837771e+01\n",
            "  1.02949078e+02 -1.36695208e+01  4.04625664e+00 -6.02773785e+00\n",
            "  1.27242378e+01  5.93142318e+00  7.27189270e+00  9.46776937e-01\n",
            "  1.10953919e+01  3.24885537e+00 -9.67521870e+00  3.31081759e+00\n",
            " -1.50864326e+00 -6.24205883e+01 -5.09246510e+00  3.65467773e+01]\n"
          ]
        }
      ]
    },
    {
      "cell_type": "code",
      "source": [
        "cur_eeg = EEG['train'][0]\n",
        "data = np.asarray(cur_eeg['data'])\n",
        "srate = cur_eeg['srate']\n",
        "data = butter_bandpass_filter(data, 0.5, 10, srate, 4)\n",
        "markers = cur_eeg['markers_target']\n",
        "\n",
        "targetID = np.where(markers==1)[0]\n",
        "nontargetID = np.where(markers==2)[0]\n",
        "\n",
        "#tmp_targetEEG = extractEpoch3D(data, targetID, srate, baseline, frame, False)\n",
        "\n",
        "########\n",
        "opt_keep_baseline = False\n",
        "event = targetID\n",
        "if opt_keep_baseline == True:\n",
        "        begin_tmp = int(np.floor(baseline[0]/1000*srate))\n",
        "        end_tmp = int(begin_tmp+np.floor(frame[1]-baseline[0])/1000*srate)\n",
        "else:\n",
        "    begin_tmp = int(np.floor(frame[0]/1000*srate))\n",
        "    end_tmp = int(begin_tmp+np.floor(frame[1]-frame[0])/1000*srate)\n",
        "\n",
        "epoch3D = np.zeros((data.shape[0], end_tmp-begin_tmp, len(event)))\n",
        "nth_event = 0\n",
        "\n",
        "for i in event:\n",
        "  print(i)\n",
        "  if opt_keep_baseline == True:\n",
        "      begin_id = int(i + np.floor(baseline[0]/1000 * srate))                 # int(i + begin_tmp)\n",
        "      end_id = int(begin_id + np.floor((frame[1]-baseline[0])/1000*srate))   # int(i + end_tmp)\n",
        "  else:\n",
        "      begin_id = int(i + np.floor(frame[0]/1000 * srate))\n",
        "      end_id = int(begin_id + np.floor((frame[1]-frame[0])/1000*srate))\n",
        "\n",
        "  tmp_data = data[:, begin_id:end_id] # extract the time period\n",
        "\n",
        "  print(tmp_data[31][-4:-1])\n",
        "  print(\"************\")\n",
        "\n",
        "  print(tmp_data.shape)\n",
        "\n",
        "  begin_base = int(np.floor(baseline[0]/1000 * srate))\n",
        "  end_base = int(begin_base + np.floor(np.diff(baseline)/1000 * srate)-1)\n",
        "\n",
        "  print(begin_base, end_base)\n",
        "\n",
        "  print(tmp_data[:, begin_base:end_base])\n",
        "\n",
        "  print(\"************\")\n",
        "\n",
        "  base = np.mean(tmp_data[:, begin_base:end_base], axis=1)\n",
        "\n",
        "  print(base)\n",
        "\n",
        "  print(base.shape)\n",
        "\n",
        "\n",
        "  rmbase_data = tmp_data - base[:, np.newaxis]\n",
        "\n",
        "  print(rmbase_data.shape)\n",
        "  epoch3D[:, :, nth_event] = rmbase_data\n",
        "  nth_event = nth_event + 1\n",
        "\n",
        "  break\n",
        "\n",
        "\n",
        "\n",
        "\n",
        "\n",
        "\n",
        "\n",
        "\n",
        "\n",
        "\n",
        "\n",
        "\n",
        "\n",
        "\n",
        "\n",
        "\n",
        "\n",
        "\n",
        "#######\n",
        "'''\n",
        "\n",
        "tmp_nontargetEEG = extractEpoch3D(data, nontargetID, srate, baseline, frame, False)\n",
        "\n",
        "\n",
        "\n",
        "if n_calib == 0:\n",
        "    targetEEG = tmp_targetEEG\n",
        "    nontargetEEG = tmp_nontargetEEG\n",
        "else:\n",
        "    targetEEG = np.dstack((targetEEG, tmp_targetEEG)) # np.dstack is a function that stacks arrays in sequence along the third axis (depth). Given a sequence of arrays with the same shape along the first two dimensions, np.dstack concatenates them along the third axis. The function name \"dstack\" stands for \"depth stack.\"\n",
        "    nontargetEEG = np.dstack((nontargetEEG, tmp_nontargetEEG))\n",
        "\n",
        "'''"
      ],
      "metadata": {
        "colab": {
          "base_uri": "https://localhost:8080/",
          "height": 574
        },
        "id": "DNolxnqnkSnf",
        "outputId": "34e2fdb8-6c2a-46a9-b159-d37227e54c6e"
      },
      "execution_count": 66,
      "outputs": [
        {
          "output_type": "stream",
          "name": "stdout",
          "text": [
            "5312\n",
            "[-2.5527287  -2.61840042 -2.67810898]\n",
            "************\n",
            "(32, 307)\n",
            "-103 -2\n",
            "[[-0.60247944 -0.40531306 -0.18772458 ...  8.54906275  8.37223961\n",
            "   8.17861619]\n",
            " [ 0.16580546  0.36820443  0.58364621 ...  3.30048047  3.01432067\n",
            "   2.72389688]\n",
            " [-2.95689124 -2.97721832 -2.98695227 ...  6.34266068  6.19407067\n",
            "   6.05118269]\n",
            " ...\n",
            " [ 1.65667874  1.85713139  2.06487172 ...  5.39395854  5.39711785\n",
            "   5.3862229 ]\n",
            " [ 4.66336085  4.9638802   5.26831875 ... -1.10181366 -1.67536971\n",
            "  -2.24872597]\n",
            " [ 2.97888029  3.06560243  3.15133863 ... -2.4817619  -2.5527287\n",
            "  -2.61840042]]\n",
            "************\n",
            "[ 3.75421241  3.55889138  2.99931111  4.92761112  3.11619343  2.64868893\n",
            "  2.80743435  2.57430573 -0.75922828 -0.75500272 -1.76032697 -1.95206078\n",
            " -1.40804581 -2.66901128 -1.74121279 -3.43788894 -2.96715614 -3.53546575\n",
            " -0.26575264 -3.81102743 -2.82585142 -0.91306291 -1.31920897 -1.68327524\n",
            " -3.54570848  1.9544208   0.87948873 -3.08138656  0.88126568  2.01343518\n",
            "  4.70714277  1.60827147]\n",
            "(32,)\n",
            "(32, 307)\n"
          ]
        },
        {
          "output_type": "execute_result",
          "data": {
            "text/plain": [
              "'\\n\\ntmp_nontargetEEG = extractEpoch3D(data, nontargetID, srate, baseline, frame, False)\\n\\n\\n\\nif n_calib == 0:\\n    targetEEG = tmp_targetEEG\\n    nontargetEEG = tmp_nontargetEEG\\nelse:\\n    targetEEG = np.dstack((targetEEG, tmp_targetEEG)) # np.dstack is a function that stacks arrays in sequence along the third axis (depth). Given a sequence of arrays with the same shape along the first two dimensions, np.dstack concatenates them along the third axis. The function name \"dstack\" stands for \"depth stack.\"\\n    nontargetEEG = np.dstack((nontargetEEG, tmp_nontargetEEG))\\n\\n'"
            ],
            "application/vnd.google.colaboratory.intrinsic+json": {
              "type": "string"
            }
          },
          "metadata": {},
          "execution_count": 66
        }
      ]
    },
    {
      "cell_type": "code",
      "source": [
        "\n",
        "\n",
        "\n",
        "\n",
        "\n",
        "\n",
        "\n",
        "\n",
        "\n",
        "\n",
        "if opt_keep_baseline == True:\n",
        "        begin_tmp = int(np.floor(baseline[0]/1000*srate))\n",
        "        end_tmp = int(begin_tmp+np.floor(frame[1]-baseline[0])/1000*srate)\n",
        "    else:\n",
        "        begin_tmp = int(np.floor(frame[0]/1000*srate))\n",
        "        end_tmp = int(begin_tmp+np.floor(frame[1]-frame[0])/1000*srate)\n",
        "\n",
        "epoch3D = np.zeros((data.shape[0], end_tmp-begin_tmp, len(event)))\n",
        "nth_event = 0\n",
        "\n",
        "for i in event:\n",
        "  if opt_keep_baseline == True:\n",
        "      begin_id = int(i + np.floor(baseline[0]/1000 * srate))                 # int(i + begin_tmp)\n",
        "      end_id = int(begin_id + np.floor((frame[1]-baseline[0])/1000*srate))   # int(i + end_tmp)\n",
        "  else:\n",
        "      begin_id = int(i + np.floor(frame[0]/1000 * srate))\n",
        "      end_id = int(begin_id + np.floor((frame[1]-frame[0])/1000*srate))\n",
        "\n",
        "  tmp_data = data[:, begin_id:end_id] # extract the time period\n",
        "\n",
        "  begin_base = int(np.floor(baseline[0]/1000 * srate))\n",
        "  end_base = int(begin_base + np.floor(np.diff(baseline)/1000 * srate)-1)\n",
        "  base = np.mean(tmp_data[:, begin_base:end_base], axis=1)\n",
        "\n",
        "  rmbase_data = tmp_data - base[:, np.newaxis]\n",
        "  epoch3D[:, :, nth_event] = rmbase_data\n",
        "  nth_event = nth_event + 1"
      ],
      "metadata": {
        "id": "ZXz4QOjQUBVa"
      },
      "execution_count": null,
      "outputs": []
    }
  ]
}