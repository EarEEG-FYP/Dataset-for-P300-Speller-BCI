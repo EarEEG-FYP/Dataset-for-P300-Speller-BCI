{
  "cells": [
    {
      "cell_type": "code",
      "execution_count": 1,
      "metadata": {
        "id": "v3-sV4kwFuIr"
      },
      "outputs": [],
      "source": [
        "import numpy as np\n",
        "import mat73\n",
        "import matplotlib.pyplot as plt\n",
        "import statsmodels.api as sm\n",
        "from scipy.signal import butter, filtfilt, sosfiltfilt\n",
        "from sklearn.model_selection import train_test_split"
      ]
    },
    {
      "cell_type": "markdown",
      "metadata": {},
      "source": [
        "### Filters\n"
      ]
    },
    {
      "cell_type": "code",
      "execution_count": 2,
      "metadata": {},
      "outputs": [],
      "source": [
        "def butter_lowpass_filter(data, lowcut, fs, order):\n",
        "    nyq = fs/2\n",
        "    low = lowcut/nyq\n",
        "    b, a = butter(order, low, btype='low')\n",
        "    # demean before filtering\n",
        "    meandat = np.mean(data, axis=1)\n",
        "    data = data - meandat[:, np.newaxis]\n",
        "    y = filtfilt(b, a, data) # zero-phase filter # data: [ch x time]\n",
        "    return y"
      ]
    },
    {
      "cell_type": "code",
      "execution_count": 3,
      "metadata": {},
      "outputs": [],
      "source": [
        "def butter_highpass_filter(data, highcut, fs, order):\n",
        "    nyq = fs/2\n",
        "    high = highcut/nyq\n",
        "    b, a = butter(order, high, btype='high')\n",
        "    # demean before filtering\n",
        "    meandat = np.mean(data, axis=1)\n",
        "    data = data - meandat[:, np.newaxis]\n",
        "    y = filtfilt(b, a, data) # zero-phase filter # data: [ch x time]\n",
        "    return y"
      ]
    },
    {
      "cell_type": "code",
      "execution_count": 4,
      "metadata": {
        "id": "yvlRvEOYGMEG"
      },
      "outputs": [],
      "source": [
        "def butter_bandpass_filter(data, lowcut, highcut, fs, order):\n",
        "    nyq = fs/2\n",
        "    low = lowcut/nyq\n",
        "    high = highcut/nyq\n",
        "    sos = butter(order, [low, high], btype='band', output='sos')\n",
        "    # demean before filtering\n",
        "    meandat = np.mean(data, axis=1)\n",
        "    data = data - meandat[:, np.newaxis]\n",
        "    y = sosfiltfilt(sos, data) # zero-phase filter # data: [ch x time]\n",
        "    # specify pandlen to make the result the same as Matlab filtfilt()\n",
        "    return y"
      ]
    },
    {
      "cell_type": "markdown",
      "metadata": {},
      "source": [
        "### Preprocessing"
      ]
    },
    {
      "cell_type": "code",
      "execution_count": 5,
      "metadata": {},
      "outputs": [],
      "source": [
        "def extractEpoch3D(data, event, srate, baseline, frame, opt_keep_baseline):\n",
        "    # extract epoch from 2D data into 3D [ch x time x trial]\n",
        "    # input: event, baseline, frame\n",
        "    # extract epoch = baseline[0] to frame[2]   so the time frame is -200 to 600 ms.\n",
        "\n",
        "    # for memory pre-allocation\n",
        "    if opt_keep_baseline == True:\n",
        "        begin_tmp = int(np.floor(baseline[0]/1000*srate))\n",
        "        end_tmp = int(begin_tmp+np.floor(frame[1]-baseline[0])/1000*srate)\n",
        "    else:\n",
        "        begin_tmp = int(np.floor(frame[0]/1000*srate))\n",
        "        end_tmp = int(begin_tmp+np.floor(frame[1]-frame[0])/1000*srate)\n",
        "\n",
        "    epoch3D = np.zeros((data.shape[0], end_tmp-begin_tmp, len(event)))\n",
        "    nth_event = 0 # trial\n",
        "\n",
        "    for i in event:\n",
        "        if opt_keep_baseline == True:\n",
        "            begin_id = int(i + np.floor(baseline[0]/1000 * srate))                 # int(i + begin_tmp)\n",
        "            end_id = int(begin_id + np.floor((frame[1]-baseline[0])/1000*srate))   # int(i + end_tmp)\n",
        "        else:\n",
        "            begin_id = int(i + np.floor(frame[0]/1000 * srate))\n",
        "            end_id = int(begin_id + np.floor((frame[1]-frame[0])/1000*srate))\n",
        "\n",
        "        tmp_data = data[:, begin_id:end_id] # extract the time period\n",
        "\n",
        "        begin_base = int(np.floor(baseline[0]/1000 * srate))+i\n",
        "        end_base = int(begin_base + np.floor(np.diff(baseline)/1000 * srate)-1)\n",
        "        base = np.mean(data[:, begin_base:end_base], axis=1)\n",
        "\n",
        "        rmbase_data = tmp_data - base[:, np.newaxis]\n",
        "        epoch3D[:, :, nth_event] = rmbase_data\n",
        "        nth_event = nth_event + 1\n",
        "\n",
        "    return epoch3D"
      ]
    },
    {
      "cell_type": "code",
      "execution_count": 6,
      "metadata": {},
      "outputs": [],
      "source": [
        "def decimation_by_avg(data, factor):\n",
        "    \"\"\"Function for replacing each sequence of previous factor samples with their average\"\"\"\n",
        "    # for example, frame [0, 800]ms -> 17samples (Krusienski et al., 2006)\n",
        "    # data.shape = [ch, time, trial]\n",
        "    ratio_dsample = factor\n",
        "    n_ch, n_frame, n_trial = data.shape\n",
        "\n",
        "    print(\"n_frame\" ,n_frame)\n",
        "    decimated_frame = int(np.floor(n_frame/ratio_dsample))\n",
        "    print(\"decimated_frame \",decimated_frame)\n",
        "\n",
        "    # memory pre-allocation\n",
        "    decimated_data = np.zeros((n_ch, decimated_frame, n_trial))\n",
        "    print(\"decimated_data.shape \",decimated_data.shape)\n",
        "\n",
        "    for i in range(n_trial):\n",
        "        for j in range(decimated_frame):\n",
        "            cur_data = data[:, :, i]\n",
        "            decimated_data[:, j, i] = np.mean(cur_data[:, j*ratio_dsample:(j+1)*ratio_dsample], axis=1)\n",
        "\n",
        "    return decimated_data"
      ]
    },
    {
      "cell_type": "code",
      "execution_count": 7,
      "metadata": {
        "id": "F2pDrZtzGfMU"
      },
      "outputs": [],
      "source": [
        "def detect_letter_P3speller(pred_score, word_len, label, letter_ind, markers_seq, params):\n",
        "    \"\"\"Function for detecing letter from the predicted results from unknown EEG\"\"\"\n",
        "    user_answer = np.chararray(word_len,1)\n",
        "    acc_on_repetition = np.zeros(params[\"full_repeat\"])\n",
        "    correct_on_repetition = np.zeros(params[\"full_repeat\"])\n",
        "    for n_repeat in range(params[\"full_repeat\"]):\n",
        "        for n_letter in range(word_len):\n",
        "            # begin and end trial for a single letter session\n",
        "            begin_trial = len(params[\"seq_code\"]) * params[\"full_repeat\"] * (n_letter)\n",
        "            end_trial = begin_trial + (n_repeat+1) * len(params[\"seq_code\"])\n",
        "\n",
        "            unknown_speller_code = np.zeros(len(params[\"seq_code\"]))\n",
        "            for j in range(begin_trial, end_trial):\n",
        "                # predict and add lda score\n",
        "                unknown_speller_code[int(markers_seq[letter_ind[j]])-1] = unknown_speller_code[int(markers_seq[letter_ind[j]])-1] + pred_score[j]\n",
        "\n",
        "            row = np.argmax(unknown_speller_code[0:6])\n",
        "            col = np.argmax(unknown_speller_code[6:12])\n",
        "            user_answer[n_letter] = params['spellermatrix'][row*6+col]\n",
        "        user_answer_string = user_answer.tobytes().decode()\n",
        "\n",
        "        correct_on_repetition[n_repeat] = len([i for i, j in zip(user_answer_string, label) if i == j])\n",
        "        acc_on_repetition[n_repeat] = correct_on_repetition[n_repeat] / len(label)\n",
        "\n",
        "    out = {\"text_result\": user_answer_string, \"acc_on_repetition\": acc_on_repetition, \"correct_on_repetition\": correct_on_repetition}\n",
        "    return out"
      ]
    },
    {
      "cell_type": "code",
      "execution_count": 8,
      "metadata": {},
      "outputs": [],
      "source": [
        "# pre-defined parameters\n",
        "baseline = [-200, 0] # in ms\n",
        "frame = [0, 600] # in ms"
      ]
    },
    {
      "cell_type": "code",
      "execution_count": 9,
      "metadata": {},
      "outputs": [],
      "source": [
        "EEG = mat73.loadmat(\"/Volumes/Yohan's_T7/FYP/Datasets/P300 Speller/s01.mat\")"
      ]
    },
    {
      "cell_type": "markdown",
      "metadata": {},
      "source": [
        "### Classifier"
      ]
    },
    {
      "cell_type": "code",
      "execution_count": 10,
      "metadata": {
        "id": "TjjIlu-LG_ET"
      },
      "outputs": [],
      "source": [
        "def get_stats(dat, x_columns, y):\n",
        "    x = dat[:, x_columns]\n",
        "    results = sm.OLS(y, x).fit()\n",
        "    return results\n",
        "\n",
        "def stepwise_linear_model(dat, init_x_column, y_train, p_val):\n",
        "    x_column = init_x_column\n",
        "\n",
        "    while True:\n",
        "        results_stats = get_stats(dat, x_column, y_train)\n",
        "        if np.max(results_stats.pvalues) <= p_val:\n",
        "            break\n",
        "        else:\n",
        "            backward_elim = np.argmax(results_stats.pvalues)\n",
        "            x_column = np.delete(x_column, backward_elim)\n",
        "\n",
        "    return x_column, results_stats\n"
      ]
    },
    {
      "cell_type": "markdown",
      "metadata": {
        "id": "uAN7uJ5uP3JP"
      },
      "source": [
        "### **Visualizaion**"
      ]
    },
    {
      "cell_type": "code",
      "execution_count": 11,
      "metadata": {
        "id": "t9NL8R64JvYq"
      },
      "outputs": [
        {
          "data": {
            "image/png": "[encoded data removed]",
            "text/plain": [
              "<Figure size 640x480 with 1 Axes>"
            ]
          },
          "metadata": {},
          "output_type": "display_data"
        }
      ],
      "source": [
        "for n_calib in range(len(EEG['test'])):\n",
        "  cur_EEG = EEG['test'][n_calib]\n",
        "  data = np.asarray(cur_EEG['data'])\n",
        "  srate = cur_EEG['srate']\n",
        "  data = butter_bandpass_filter(data, 1, 10, srate, 4)\n",
        "  markers = cur_EEG['markers_target']\n",
        "\n",
        "  targetID = np.where(markers==1)[0]\n",
        "  nontargetID = np.where(markers==2)[0]\n",
        "\n",
        "  tmp_targetEEG = extractEpoch3D(data, targetID, srate, baseline, frame, True)\n",
        "  tmp_nontargetEEG = extractEpoch3D(data, nontargetID, srate, baseline, frame, True)\n",
        "  if n_calib == 0:\n",
        "    targetEEG = tmp_targetEEG\n",
        "    nontargetEEG = tmp_nontargetEEG\n",
        "  else:\n",
        "    targetEEG = np.dstack((targetEEG, tmp_targetEEG))\n",
        "    nontargetEEG = np.dstack((nontargetEEG, tmp_nontargetEEG))\n",
        "\n",
        "avg_target = np.mean(targetEEG, axis=2) # trial average\n",
        "avg_nontarget = np.mean(nontargetEEG, axis=2) # trial average\n",
        "\n",
        "# Channel selection for drawing ERPs\n",
        "elec_midline = [31-1, 32-1, 13-1] # Fz, Cz, and Pz, respectively, -1 for indexing\n",
        "ch_avg_target = np.mean(avg_target[elec_midline, :], axis=0)\n",
        "ch_avg_nontarget = np.mean(avg_nontarget[elec_midline, :], axis=0)\n",
        "\n",
        "# Single subject averaged target & nontarget ERPs - visualization\n",
        "t = np.linspace(-200, 600, avg_target.shape[1])\n",
        "plt.plot(t, ch_avg_target.transpose(), color=[1, 0.5, 0])\n",
        "plt.plot(t, ch_avg_nontarget.transpose(), color=[0, 0, 0])\n",
        "plt.xlabel('ms')\n",
        "plt.ylabel(r'$\\mu V$')\n",
        "plt.gca().yaxis.grid(True)\n",
        "plt.rcParams.update({'font.size': 13})\n",
        "plt.xlim([-200, 600])\n",
        "\n",
        "# plot ratio\n",
        "ratio = .6\n",
        "x_left, x_right = plt.gca().get_xlim()\n",
        "y_low, y_high = plt.gca().get_ylim()\n",
        "\n",
        "plt.gca().set_aspect(abs((x_right-x_left)/(y_low-y_high))*ratio)\n",
        "plt.show()"
      ]
    },
    {
      "cell_type": "code",
      "execution_count": 12,
      "metadata": {
        "id": "vGFEKRt5POO7"
      },
      "outputs": [
        {
          "data": {
            "image/png": "[encoded data removed]",
            "text/plain": [
              "<Figure size 640x480 with 1 Axes>"
            ]
          },
          "metadata": {},
          "output_type": "display_data"
        }
      ],
      "source": [
        "for n_calib in range(len(EEG['train'])):\n",
        "  cur_EEG = EEG['test'][n_calib]\n",
        "  data = np.asarray(cur_EEG['data'])\n",
        "  srate = cur_EEG['srate']\n",
        "  data = butter_bandpass_filter(data, 1, 10, srate, 4)\n",
        "  markers = cur_EEG['markers_target']\n",
        "\n",
        "  targetID = np.where(markers==1)[0]\n",
        "  nontargetID = np.where(markers==2)[0]\n",
        "\n",
        "  tmp_targetEEG = extractEpoch3D(data, targetID, srate, baseline, frame, True)\n",
        "  tmp_nontargetEEG = extractEpoch3D(data, nontargetID, srate, baseline, frame, True)\n",
        "  if n_calib == 0:\n",
        "    targetEEG = tmp_targetEEG\n",
        "    nontargetEEG = tmp_nontargetEEG\n",
        "  else:\n",
        "    targetEEG = np.dstack((targetEEG, tmp_targetEEG))\n",
        "    nontargetEEG = np.dstack((nontargetEEG, tmp_nontargetEEG))\n",
        "\n",
        "avg_target = np.mean(targetEEG, axis=2) # trial average\n",
        "avg_nontarget = np.mean(nontargetEEG, axis=2) # trial average\n",
        "\n",
        "# Channel selection for drawing ERPs\n",
        "elec_midline = [31-1, 32-1, 13-1] # Fz, Cz, and Pz, respectively, -1 for indexing\n",
        "ch_avg_target = np.mean(avg_target[elec_midline, :], axis=0)\n",
        "ch_avg_nontarget = np.mean(avg_nontarget[elec_midline, :], axis=0)\n",
        "\n",
        "# Single subject averaged target & nontarget ERPs - visualization\n",
        "t = np.linspace(-200, 600, avg_target.shape[1])\n",
        "plt.plot(t, ch_avg_target.transpose(), color=[1, 0.5, 0])\n",
        "plt.plot(t, ch_avg_nontarget.transpose(), color=[0, 0, 0])\n",
        "plt.xlabel('ms')\n",
        "plt.ylabel(r'$\\mu V$')\n",
        "plt.gca().yaxis.grid(True)\n",
        "plt.rcParams.update({'font.size': 13})\n",
        "plt.xlim([-200, 600])\n",
        "\n",
        "# plot ratio\n",
        "ratio = .6\n",
        "x_left, x_right = plt.gca().get_xlim()\n",
        "y_low, y_high = plt.gca().get_ylim()\n",
        "\n",
        "plt.gca().set_aspect(abs((x_right-x_left)/(y_low-y_high))*ratio)\n",
        "plt.show()"
      ]
    },
    {
      "cell_type": "markdown",
      "metadata": {
        "id": "L0JmnVd0HcvL"
      },
      "source": [
        "### **Pre-processing for training EEG (Xtrain Ytrain Split)**"
      ]
    },
    {
      "cell_type": "code",
      "execution_count": 13,
      "metadata": {
        "id": "L5QWS8dzQJiD"
      },
      "outputs": [],
      "source": [
        "#Load Dataset\n",
        "\n",
        "# nsub = 1\n",
        "# path = \"/Volumes/Yohan's_T7/FYP/Datasets/P300 Speller/\"\n",
        "# EEg= mat73.loadmat(path+'s{:02d}.mat'.format(int(nsub))) # 's{:02d}.mat': This is a string specifying the name of the MATLAB file to be loaded. It includes a placeholder ({:02d}) for an integer (nsub), where the integer is formatted with at least two digits (padded with zeros if needed). This suggests that the MATLAB files are named in a structured way, with 's' followed by a two-digit number and ending with '.mat'.\n",
        "\n",
        "# for i in range(1,55):\n",
        "#   EEg= mat73.loadmat(path+'s{:02d}.mat'.format(int(nsub)))"
      ]
    },
    {
      "cell_type": "code",
      "execution_count": 14,
      "metadata": {
        "colab": {
          "base_uri": "https://localhost:8080/"
        },
        "id": "ifiax76fSq4O",
        "outputId": "205c6797-5496-482e-aac0-5bbfe3ec2b94"
      },
      "outputs": [],
      "source": [
        "for n_calib in range(len(EEG['train'])):\n",
        "    # print(n_calib)\n",
        "    cur_eeg = EEG['train'][n_calib]\n",
        "    data = np.asarray(cur_eeg['data'])\n",
        "    srate = cur_eeg['srate']\n",
        "    data = butter_bandpass_filter(data, 0.5, 10, srate, 4)\n",
        "    markers = cur_eeg['markers_target']\n",
        "\n",
        "    targetID = np.where(markers==1)[0]\n",
        "    nontargetID = np.where(markers==2)[0]\n",
        "\n",
        "    tmp_targetEEG = extractEpoch3D(data, targetID, srate, baseline, frame, True)\n",
        "    tmp_nontargetEEG = extractEpoch3D(data, nontargetID, srate, baseline, frame, True)\n",
        "    if n_calib == 0:\n",
        "        targetEEG = tmp_targetEEG\n",
        "        nontargetEEG = tmp_nontargetEEG\n",
        "    else:\n",
        "        targetEEG = np.dstack((targetEEG, tmp_targetEEG)) # np.dstack is a function that stacks arrays in sequence along the third axis (depth). Given a sequence of arrays with the same shape along the first two dimensions, np.dstack concatenates them along the third axis. The function name \"dstack\" stands for \"depth stack.\"\n",
        "        nontargetEEG = np.dstack((nontargetEEG, tmp_nontargetEEG))\n"
      ]
    },
    {
      "cell_type": "code",
      "execution_count": 15,
      "metadata": {
        "colab": {
          "base_uri": "https://localhost:8080/"
        },
        "id": "Bs8LnCWYjvtP",
        "outputId": "413d8d49-9d0a-4594-d78c-ebbcae8d74db"
      },
      "outputs": [
        {
          "name": "stdout",
          "output_type": "stream",
          "text": [
            "Target EEG shape (32, 409, 300)\n",
            "Nontarget EEG shape (32, 409, 1500)\n"
          ]
        }
      ],
      "source": [
        "# data dimension for\n",
        "print('Target EEG shape', targetEEG.shape) # ch x time x trial                  In one calibration run has 150 target and 750 nontarget events. There are 2 calibration runs, so after stacking shape is Target EEG shape (32, 409, 300),Nontarget EEG shape (32, 409, 1500)\n",
        "print('Nontarget EEG shape', nontargetEEG.shape) # ch x time x trial\n"
      ]
    },
    {
      "cell_type": "code",
      "execution_count": 16,
      "metadata": {
        "colab": {
          "base_uri": "https://localhost:8080/"
        },
        "id": "m80bCMJHunRK",
        "outputId": "71b7fcfa-017b-413b-848a-c1d122809934"
      },
      "outputs": [
        {
          "name": "stdout",
          "output_type": "stream",
          "text": [
            "(409,)\n"
          ]
        },
        {
          "data": {
            "text/plain": [
              "array([-6.6474652 , -6.78293908, -6.91457772, -7.041581  , -7.1631452 ,\n",
              "       -7.27846926, -7.38676124, -7.48724491, -7.57916634, -7.6618003 ,\n",
              "       -7.73445632, -7.79648394, -7.84727702, -7.88627666, -7.91297266,\n",
              "       -7.92690318, -7.92765287, -7.91484945, -7.88815899, -7.84728036,\n",
              "       -7.79193898, -7.72188041, -7.63686405, -7.53665744, -7.42103139,\n",
              "       -7.28975638, -7.14260037, -6.97932831, -6.79970304, -6.60348791,\n",
              "       -6.39045065, -6.1603685 , -5.9130346 , -5.64826538, -5.36590904,\n",
              "       -5.06585507, -4.74804488, -4.41248333, -4.05925125, -3.68851885,\n",
              "       -3.30055967, -2.89576482, -2.47465706, -2.03790428, -1.58633185,\n",
              "       -1.12093345, -0.64288013, -0.1535271 ,  0.34558181,  0.85271258,\n",
              "        1.36594248,  1.88316509,  2.40209897,  2.92030041,  3.43518008,\n",
              "        3.94402368,  4.44401625,  4.93226981,  5.40585391,  5.86182851,\n",
              "        6.29727852,  6.70934926,  7.09528228,  7.45245079,  7.77839407,\n",
              "        8.07085059,  8.32778909,  8.54743744,  8.72830868,  8.86922392,\n",
              "        8.96933168,  9.02812325,  9.04544372,  9.02149847,  8.95685453,\n",
              "        8.85243693,  8.70951981,  8.52971248,  8.31494059,  8.06742301,\n",
              "        7.78964476,  7.48432674,  7.15439291,  6.80293558,  6.4331795 ,\n",
              "        6.04844541,  5.65211348,  5.24758724,  4.83825858,  4.42747426,\n",
              "        4.01850453,  3.61451428,  3.21853717,  2.833453  ,  2.46196847,\n",
              "        2.10660148,  1.76966887,  1.45327744,  1.15931806,  0.88946254,\n",
              "        0.6451629 ,  0.4276527 ,  0.23794987,  0.07686082, -0.05501471,\n",
              "       -0.15727834, -0.22972757, -0.2723504 , -0.28532014, -0.2689907 ,\n",
              "       -0.22389225, -0.15072734, -0.05036732,  0.07615094,  0.2276284 ,\n",
              "        0.40270708,  0.59987346,  0.81746194,  1.05365862,  1.30650545,\n",
              "        1.57390526,  1.85362793,  2.14331833,  2.44050642,  2.74262008,\n",
              "        3.04700076,  3.35092234,  3.65161303,  3.94628012,  4.23213723,\n",
              "        4.50643368,  4.76648519,  5.00970546,  5.23363775,  5.43598579,\n",
              "        5.61464337,  5.76772197,  5.89357596,  5.99082495,  6.05837295,\n",
              "        6.09542423,  6.10149583,  6.07642671,  6.02038386,  5.93386535,\n",
              "        5.81770055,  5.67304733,  5.50138627,  5.30451145,  5.08451765,\n",
              "        4.84378361,  4.58495124,  4.31090072,  4.02472141,  3.72967901,\n",
              "        3.42917919,  3.12672824,  2.82589148,  2.53025003,  2.24335695,\n",
              "        1.96869363,  1.70962733,  1.46937076,  1.25094434,  1.05714193,\n",
              "        0.89050017,  0.75327184,  0.64740333,  0.57451617,  0.5358927 ,\n",
              "        0.53246547,  0.56481059,  0.6331444 ,  0.73732367,  0.87684898,\n",
              "        1.05087135,  1.25820215,  1.49732636,  1.76641933,  2.06336691,\n",
              "        2.38578922,  2.7310676 ,  3.09637481,  3.47870778,  3.87492252,\n",
              "        4.28177047,  4.69593547,  5.11407077,  5.53283528,  5.94892856,\n",
              "        6.35912399,  6.76029973,  7.14946725,  7.52379702,  7.88064144,\n",
              "        8.21755476,  8.53231   ,  8.82291306,  9.08761385,  9.32491501,\n",
              "        9.53357815,  9.71262805,  9.86135504,  9.97931569, 10.06633201,\n",
              "       10.1224893 , 10.14813275, 10.14386283, 10.11052976, 10.04922693,\n",
              "        9.96128345,  9.84825562,  9.71191737,  9.55424927,  9.37742612,\n",
              "        9.18380271,  8.9758975 ,  8.75637415,  8.52802057,  8.2937254 ,\n",
              "        8.05645202,  7.81921015,  7.58502526,  7.35690623,  7.13781176,\n",
              "        6.930616  ,  6.73807425,  6.56278927,  6.40717898,  6.27344654,\n",
              "        6.1635532 ,  6.07919492,  6.02178313,  5.99243004,  5.99193873,\n",
              "        6.02079789,  6.07918115,  6.16695048,  6.28366352,  6.42858408,\n",
              "        6.60069561,  6.79871714,  7.02112136,  7.26615447,  7.53185777,\n",
              "        7.81609051,  8.11655378,  8.43081537,  8.75633507,  9.09049051,\n",
              "        9.43060317,  9.77396447, 10.11786177, 10.45960398, 10.79654685,\n",
              "       11.12611763, 11.44583918, 11.75335329, 12.04644308, 12.32305446,\n",
              "       12.58131617, 12.81955845, 13.03632978, 13.23041148, 13.40082969,\n",
              "       13.54686426, 13.66805416, 13.76419907, 13.83535705, 13.88183835,\n",
              "       13.90419553, 13.90321026, 13.87987741, 13.83538675, 13.77110289,\n",
              "       13.68854387, 13.58935884, 13.47530505, 13.34822439, 13.21001952,\n",
              "       13.06262974, 12.90800655, 12.74808887, 12.58477794, 12.41991202,\n",
              "       12.25524103, 12.09240143, 11.93289188, 11.77805002, 11.62903104,\n",
              "       11.48678836, 11.35205702, 11.22534001, 11.10689796, 10.99674225,\n",
              "       10.89463193, 10.80007445, 10.71233051, 10.63042326, 10.55315191,\n",
              "       10.47910974, 10.40670655, 10.33419495, 10.25970008, 10.18125198,\n",
              "       10.09681987, 10.00434748,  9.90178874,  9.78714293,  9.65848883,\n",
              "        9.51401704,  9.35206001,  9.17111937,  8.96989   ,  8.74728065,\n",
              "        8.50243074,  8.23472303,  7.94379221,  7.62952918,  7.29208131,\n",
              "        6.93184905,  6.54947911,  6.14585481,  5.72208384,  5.27948387,\n",
              "        4.81956617,  4.34401759,  3.85468106,  3.35353494,  2.84267144,\n",
              "        2.32427453,  1.80059749,  1.27394076,  0.74663018,  0.22099629,\n",
              "       -0.30064508, -0.81601052, -1.32286504, -1.81903615, -2.30242623,\n",
              "       -2.77102323, -3.22290993, -3.65627211, -4.06940558, -4.46072266,\n",
              "       -4.82875804, -5.17217442, -5.489768  , -5.78047387, -6.04337142,\n",
              "       -6.27768953, -6.48281174, -6.65828086, -6.80380328, -6.9192525 ,\n",
              "       -7.00467191, -7.06027674, -7.08645518, -7.08376862, -7.05295105,\n",
              "       -6.99490777, -6.91071319, -6.80160785, -6.66899454, -6.51443335,\n",
              "       -6.33963542, -6.14645524, -5.93688115, -5.71302376, -5.47710215,\n",
              "       -5.23142777, -4.9783862 , -4.72041718, -4.45999317, -4.19959736,\n",
              "       -3.94170127, -3.68874281, -3.44310497, -3.2070955 , -2.98292765,\n",
              "       -2.77270202, -2.57838927, -2.40181371, -2.24463751, -2.10834543,\n",
              "       -1.99423023, -1.9033787 , -1.8366587 , -1.79470745, -1.77792158,\n",
              "       -1.78644939, -1.82018564, -1.87876938, -1.96158492, -2.0677661 ,\n",
              "       -2.19620384, -2.34555678, -2.51426483, -2.70056541, -2.90251194,\n",
              "       -3.11799453, -3.34476232, -3.58044754, -3.82259061, -4.06866637,\n",
              "       -4.31611075, -4.56234757, -4.80481504, -5.04099141])"
            ]
          },
          "execution_count": 16,
          "metadata": {},
          "output_type": "execute_result"
        }
      ],
      "source": [
        "print(targetEEG[0,:,1].shape)\n",
        "targetEEG[0,:,1]"
      ]
    },
    {
      "cell_type": "code",
      "execution_count": 17,
      "metadata": {
        "id": "RnulbJ0alvv_"
      },
      "outputs": [
        {
          "name": "stdout",
          "output_type": "stream",
          "text": [
            "n_frame 409\n",
            "decimated_frame  17\n",
            "decimated_data.shape  (32, 17, 300)\n",
            "n_frame 409\n",
            "decimated_frame  17\n",
            "decimated_data.shape  (32, 17, 1500)\n"
          ]
        }
      ],
      "source": [
        "# training target data\n",
        "down_target = decimation_by_avg(targetEEG, 24)\n",
        "down_nontarget = decimation_by_avg(nontargetEEG, 24)"
      ]
    },
    {
      "cell_type": "code",
      "execution_count": 18,
      "metadata": {
        "colab": {
          "base_uri": "https://localhost:8080/"
        },
        "id": "LZLTbUV7uHhs",
        "outputId": "108f433a-ce25-49ae-e1a3-b79bd8c3bfed"
      },
      "outputs": [
        {
          "name": "stdout",
          "output_type": "stream",
          "text": [
            "down_target.shape  (32, 17, 300)\n",
            "down_nontarget.shape  (32, 17, 1500)\n"
          ]
        }
      ],
      "source": [
        "print(\"down_target.shape \", down_target.shape)\n",
        "print(\"down_nontarget.shape \", down_nontarget.shape)\n",
        "\n",
        "ch_target, frame_target, trial_target = down_target.shape\n",
        "ch_nontarget, frame_nontarget, trial_nontarget = down_nontarget.shape"
      ]
    },
    {
      "cell_type": "code",
      "execution_count": 19,
      "metadata": {
        "id": "ZfLthWGSu6_G"
      },
      "outputs": [],
      "source": [
        "# ch x time x trial -> (ch* time) x trial -> trial x (ch*time)\n",
        "feat_target = np.reshape(down_target, (ch_target*frame_target, trial_target)).transpose()\n",
        "feat_nontarget = np.reshape(down_nontarget, (ch_nontarget*frame_nontarget, trial_nontarget)).transpose()\n"
      ]
    },
    {
      "cell_type": "code",
      "execution_count": 20,
      "metadata": {
        "colab": {
          "base_uri": "https://localhost:8080/"
        },
        "id": "qIwt0vxEvpbK",
        "outputId": "ad6094ed-e531-4e5e-f437-4e6f5cdc06da"
      },
      "outputs": [
        {
          "name": "stdout",
          "output_type": "stream",
          "text": [
            "Target feature vector shape (300, 544)\n",
            "Nontarget feature vector shape (1500, 544)\n"
          ]
        }
      ],
      "source": [
        "# labels - (+1) for target and (-1) for nontarget\n",
        "y_target = np.ones((feat_target.shape[0],1))\n",
        "y_nontarget = -np.ones((feat_nontarget.shape[0],1))\n",
        "\n",
        "print('Target feature vector shape', feat_target.shape)\n",
        "print('Nontarget feature vector shape', feat_nontarget.shape)\n"
      ]
    },
    {
      "cell_type": "code",
      "execution_count": 21,
      "metadata": {
        "colab": {
          "base_uri": "https://localhost:8080/"
        },
        "id": "b5sFA-Z_yNR0",
        "outputId": "09404f20-b98d-4bdb-cc1f-afd6a4f57a4d"
      },
      "outputs": [
        {
          "name": "stdout",
          "output_type": "stream",
          "text": [
            "feat_train vector shape (1800, 544)\n",
            "y_train vector shape (1800, 1)\n"
          ]
        }
      ],
      "source": [
        "feat_train = np.vstack((feat_target, feat_nontarget))\n",
        "y_train = np.vstack((y_target, y_nontarget))\n",
        "\n",
        "print('feat_train vector shape', feat_train.shape)\n",
        "print('y_train vector shape', y_train.shape)"
      ]
    },
    {
      "cell_type": "code",
      "execution_count": 22,
      "metadata": {
        "id": "IjFSjcCL0jHy"
      },
      "outputs": [],
      "source": [
        "# shuffle target and nontarget indices\n",
        "np.random.seed(101)\n",
        "idx_train = np.arange(feat_train.shape[0])\n",
        "np.random.shuffle(idx_train)\n",
        "feat_train = feat_train[idx_train, :]\n",
        "y_train = y_train[idx_train, :]"
      ]
    },
    {
      "cell_type": "code",
      "execution_count": 23,
      "metadata": {
        "id": "zgBe2ym82Kdy"
      },
      "outputs": [],
      "source": [
        "X_train, X_test, y_train, y_test = train_test_split(feat_train, y_train, test_size=0.2, random_state=42)"
      ]
    },
    {
      "cell_type": "markdown",
      "metadata": {},
      "source": [
        "## SVM Classification"
      ]
    },
    {
      "cell_type": "code",
      "execution_count": 24,
      "metadata": {
        "colab": {
          "base_uri": "https://localhost:8080/",
          "height": 129
        },
        "id": "X1F3jwIQ5OdM",
        "outputId": "47208164-35f2-4e5e-f30b-72abcaa428eb"
      },
      "outputs": [
        {
          "name": "stderr",
          "output_type": "stream",
          "text": [
            "/Users/yohanabeysinghe/miniconda3/envs/torch/lib/python3.9/site-packages/sklearn/utils/validation.py:1141: DataConversionWarning: A column-vector y was passed when a 1d array was expected. Please change the shape of y to (n_samples, ), for example using ravel().\n",
            "  y = column_or_1d(y, warn=True)\n"
          ]
        },
        {
          "data": {
            "text/html": [
              "<style>#sk-container-id-1 {color: black;background-color: white;}#sk-container-id-1 pre{padding: 0;}#sk-container-id-1 div.sk-toggleable {background-color: white;}#sk-container-id-1 label.sk-toggleable__label {cursor: pointer;display: block;width: 100%;margin-bottom: 0;padding: 0.3em;box-sizing: border-box;text-align: center;}#sk-container-id-1 label.sk-toggleable__label-arrow:before {content: \"▸\";float: left;margin-right: 0.25em;color: #696969;}#sk-container-id-1 label.sk-toggleable__label-arrow:hover:before {color: black;}#sk-container-id-1 div.sk-estimator:hover label.sk-toggleable__label-arrow:before {color: black;}#sk-container-id-1 div.sk-toggleable__content {max-height: 0;max-width: 0;overflow: hidden;text-align: left;background-color: #f0f8ff;}#sk-container-id-1 div.sk-toggleable__content pre {margin: 0.2em;color: black;border-radius: 0.25em;background-color: #f0f8ff;}#sk-container-id-1 input.sk-toggleable__control:checked~div.sk-toggleable__content {max-height: 200px;max-width: 100%;overflow: auto;}#sk-container-id-1 input.sk-toggleable__control:checked~label.sk-toggleable__label-arrow:before {content: \"▾\";}#sk-container-id-1 div.sk-estimator input.sk-toggleable__control:checked~label.sk-toggleable__label {background-color: #d4ebff;}#sk-container-id-1 div.sk-label input.sk-toggleable__control:checked~label.sk-toggleable__label {background-color: #d4ebff;}#sk-container-id-1 input.sk-hidden--visually {border: 0;clip: rect(1px 1px 1px 1px);clip: rect(1px, 1px, 1px, 1px);height: 1px;margin: -1px;overflow: hidden;padding: 0;position: absolute;width: 1px;}#sk-container-id-1 div.sk-estimator {font-family: monospace;background-color: #f0f8ff;border: 1px dotted black;border-radius: 0.25em;box-sizing: border-box;margin-bottom: 0.5em;}#sk-container-id-1 div.sk-estimator:hover {background-color: #d4ebff;}#sk-container-id-1 div.sk-parallel-item::after {content: \"\";width: 100%;border-bottom: 1px solid gray;flex-grow: 1;}#sk-container-id-1 div.sk-label:hover label.sk-toggleable__label {background-color: #d4ebff;}#sk-container-id-1 div.sk-serial::before {content: \"\";position: absolute;border-left: 1px solid gray;box-sizing: border-box;top: 0;bottom: 0;left: 50%;z-index: 0;}#sk-container-id-1 div.sk-serial {display: flex;flex-direction: column;align-items: center;background-color: white;padding-right: 0.2em;padding-left: 0.2em;position: relative;}#sk-container-id-1 div.sk-item {position: relative;z-index: 1;}#sk-container-id-1 div.sk-parallel {display: flex;align-items: stretch;justify-content: center;background-color: white;position: relative;}#sk-container-id-1 div.sk-item::before, #sk-container-id-1 div.sk-parallel-item::before {content: \"\";position: absolute;border-left: 1px solid gray;box-sizing: border-box;top: 0;bottom: 0;left: 50%;z-index: -1;}#sk-container-id-1 div.sk-parallel-item {display: flex;flex-direction: column;z-index: 1;position: relative;background-color: white;}#sk-container-id-1 div.sk-parallel-item:first-child::after {align-self: flex-end;width: 50%;}#sk-container-id-1 div.sk-parallel-item:last-child::after {align-self: flex-start;width: 50%;}#sk-container-id-1 div.sk-parallel-item:only-child::after {width: 0;}#sk-container-id-1 div.sk-dashed-wrapped {border: 1px dashed gray;margin: 0 0.4em 0.5em 0.4em;box-sizing: border-box;padding-bottom: 0.4em;background-color: white;}#sk-container-id-1 div.sk-label label {font-family: monospace;font-weight: bold;display: inline-block;line-height: 1.2em;}#sk-container-id-1 div.sk-label-container {text-align: center;}#sk-container-id-1 div.sk-container {/* jupyter's `normalize.less` sets `[hidden] { display: none; }` but bootstrap.min.css set `[hidden] { display: none !important; }` so we also need the `!important` here to be able to override the default hidden behavior on the sphinx rendered scikit-learn.org. See: https://github.com/scikit-learn/scikit-learn/issues/21755 */display: inline-block !important;position: relative;}#sk-container-id-1 div.sk-text-repr-fallback {display: none;}</style><div id=\"sk-container-id-1\" class=\"sk-top-container\"><div class=\"sk-text-repr-fallback\"><pre>SVC(kernel=&#x27;linear&#x27;)</pre><b>In a Jupyter environment, please rerun this cell to show the HTML representation or trust the notebook. <br />On GitHub, the HTML representation is unable to render, please try loading this page with nbviewer.org.</b></div><div class=\"sk-container\" hidden><div class=\"sk-item\"><div class=\"sk-estimator sk-toggleable\"><input class=\"sk-toggleable__control sk-hidden--visually\" id=\"sk-estimator-id-1\" type=\"checkbox\" checked><label for=\"sk-estimator-id-1\" class=\"sk-toggleable__label sk-toggleable__label-arrow\">SVC</label><div class=\"sk-toggleable__content\"><pre>SVC(kernel=&#x27;linear&#x27;)</pre></div></div></div></div></div>"
            ],
            "text/plain": [
              "SVC(kernel='linear')"
            ]
          },
          "execution_count": 24,
          "metadata": {},
          "output_type": "execute_result"
        }
      ],
      "source": [
        "from sklearn.preprocessing import StandardScaler\n",
        "from sklearn.svm import SVC\n",
        "from sklearn.metrics import accuracy_score, classification_report, confusion_matrix\n",
        "\n",
        "# Standardize the features (optional but recommended for SVM)\n",
        "scaler = StandardScaler()\n",
        "X_train = scaler.fit_transform(X_train)\n",
        "X_test = scaler.transform(X_test)\n",
        "\n",
        "# Create and train the SVM model\n",
        "svm_model = SVC(kernel='linear', C=1.0)  # 'linear' kernel for linear SVM\n",
        "svm_model.fit(X_train, y_train)"
      ]
    },
    {
      "cell_type": "code",
      "execution_count": 25,
      "metadata": {
        "colab": {
          "base_uri": "https://localhost:8080/"
        },
        "id": "vluw2h4m5li3",
        "outputId": "4355a98f-9f54-4bc3-9622-2d91ec17d2d0"
      },
      "outputs": [
        {
          "name": "stdout",
          "output_type": "stream",
          "text": [
            "Accuracy: 0.83\n",
            "\n",
            "Confusion Matrix:\n",
            "[[268  29]\n",
            " [ 31  32]]\n",
            "\n",
            "Classification Report:\n",
            "              precision    recall  f1-score   support\n",
            "\n",
            "        -1.0       0.90      0.90      0.90       297\n",
            "         1.0       0.52      0.51      0.52        63\n",
            "\n",
            "    accuracy                           0.83       360\n",
            "   macro avg       0.71      0.71      0.71       360\n",
            "weighted avg       0.83      0.83      0.83       360\n",
            "\n"
          ]
        }
      ],
      "source": [
        "# Make predictions on the test set\n",
        "y_pred = svm_model.predict(X_test)\n",
        "\n",
        "# Evaluate the model\n",
        "accuracy = accuracy_score(y_test, y_pred)\n",
        "conf_matrix = confusion_matrix(y_test, y_pred)\n",
        "classification_report_str = classification_report(y_test, y_pred)\n",
        "\n",
        "# Print the results\n",
        "print(f\"Accuracy: {accuracy:.2f}\")\n",
        "print(\"\\nConfusion Matrix:\")\n",
        "print(conf_matrix)\n",
        "print(\"\\nClassification Report:\")\n",
        "print(classification_report_str)"
      ]
    }
  ],
  "metadata": {
    "colab": {
      "provenance": []
    },
    "kernelspec": {
      "display_name": "Python 3",
      "name": "python3"
    },
    "language_info": {
      "codemirror_mode": {
        "name": "ipython",
        "version": 3
      },
      "file_extension": ".py",
      "mimetype": "text/x-python",
      "name": "python",
      "nbconvert_exporter": "python",
      "pygments_lexer": "ipython3",
      "version": "3.9.15"
    }
  },
  "nbformat": 4,
  "nbformat_minor": 0
}
