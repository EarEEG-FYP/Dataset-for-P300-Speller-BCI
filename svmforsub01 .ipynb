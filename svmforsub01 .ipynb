{
  "nbformat": 4,
  "nbformat_minor": 0,
  "metadata": {
    "colab": {
      "provenance": []
    },
    "kernelspec": {
      "name": "python3",
      "display_name": "Python 3"
    },
    "language_info": {
      "name": "python"
    }
  },
  "cells": [
    {
      "cell_type": "code",
      "execution_count": 31,
      "metadata": {
        "id": "v3-sV4kwFuIr"
      },
      "outputs": [],
      "source": [
        "import statsmodels.api as sm\n",
        "import numpy as np\n",
        "from sklearn.linear_model import LinearRegression"
      ]
    },
    {
      "cell_type": "code",
      "source": [
        "# filters\n",
        "import numpy as np\n",
        "from scipy.signal import butter, filtfilt, sosfiltfilt\n",
        "\n",
        "def butter_lowpass_filter(data, lowcut, fs, order):\n",
        "    nyq = fs/2\n",
        "    low = lowcut/nyq\n",
        "    b, a = butter(order, low, btype='low')\n",
        "    # demean before filtering\n",
        "    meandat = np.mean(data, axis=1)\n",
        "    data = data - meandat[:, np.newaxis]\n",
        "    y = filtfilt(b, a, data) # zero-phase filter # data: [ch x time]\n",
        "    return y\n",
        "\n",
        "def butter_highpass_filter(data, highcut, fs, order):\n",
        "    nyq = fs/2\n",
        "    high = highcut/nyq\n",
        "    b, a = butter(order, high, btype='high')\n",
        "    # demean before filtering\n",
        "    meandat = np.mean(data, axis=1)\n",
        "    data = data - meandat[:, np.newaxis]\n",
        "    y = filtfilt(b, a, data) # zero-phase filter # data: [ch x time]\n",
        "    return y\n",
        "\n",
        "def butter_bandpass_filter(data, lowcut, highcut, fs, order):\n",
        "    nyq = fs/2\n",
        "    low = lowcut/nyq\n",
        "    high = highcut/nyq\n",
        "    sos = butter(order, [low, high], btype='band', output='sos')\n",
        "    # demean before filtering\n",
        "    meandat = np.mean(data, axis=1)\n",
        "    data = data - meandat[:, np.newaxis]\n",
        "    y = sosfiltfilt(sos, data) # zero-phase filter # data: [ch x time]\n",
        "    # specify pandlen to make the result the same as Matlab filtfilt()\n",
        "    return y"
      ],
      "metadata": {
        "id": "yvlRvEOYGMEG"
      },
      "execution_count": 32,
      "outputs": []
    },
    {
      "cell_type": "code",
      "source": [
        "#Pre processing\n",
        "\n",
        "import numpy as np\n",
        "\n",
        "def extractEpoch3D(data, event, srate, baseline, frame, opt_keep_baseline):\n",
        "    # extract epoch from 2D data into 3D [ch x time x trial]\n",
        "    # input: event, baseline, frame\n",
        "    # extract epoch = baseline[0] to frame[2]   so the time frame is -200 to 600 ms.\n",
        "\n",
        "    # for memory pre-allocation\n",
        "    if opt_keep_baseline == True:\n",
        "        begin_tmp = int(np.floor(baseline[0]/1000*srate))\n",
        "        end_tmp = int(begin_tmp+np.floor(frame[1]-baseline[0])/1000*srate)\n",
        "    else:\n",
        "        begin_tmp = int(np.floor(frame[0]/1000*srate))\n",
        "        end_tmp = int(begin_tmp+np.floor(frame[1]-frame[0])/1000*srate)\n",
        "\n",
        "    epoch3D = np.zeros((data.shape[0], end_tmp-begin_tmp, len(event)))\n",
        "    nth_event = 0 # trial\n",
        "\n",
        "    for i in event:\n",
        "        if opt_keep_baseline == True:\n",
        "            begin_id = int(i + np.floor(baseline[0]/1000 * srate))                 # int(i + begin_tmp)\n",
        "            end_id = int(begin_id + np.floor((frame[1]-baseline[0])/1000*srate))   # int(i + end_tmp)\n",
        "        else:\n",
        "            begin_id = int(i + np.floor(frame[0]/1000 * srate))\n",
        "            end_id = int(begin_id + np.floor((frame[1]-frame[0])/1000*srate))\n",
        "\n",
        "        tmp_data = data[:, begin_id:end_id] # extract the time period\n",
        "\n",
        "        begin_base = int(np.floor(baseline[0]/1000 * srate))+i\n",
        "        end_base = int(begin_base + np.floor(np.diff(baseline)/1000 * srate)-1)\n",
        "        base = np.mean(data[:, begin_base:end_base], axis=1)\n",
        "\n",
        "        rmbase_data = tmp_data - base[:, np.newaxis]\n",
        "        epoch3D[:, :, nth_event] = rmbase_data\n",
        "        nth_event = nth_event + 1\n",
        "\n",
        "    return epoch3D\n",
        "\n",
        "def decimation_by_avg(data, factor):\n",
        "    \"\"\"Function for replacing each sequence of previous factor samples with their average\"\"\"\n",
        "    # for example, frame [0, 800]ms -> 17samples (Krusienski et al., 2006)\n",
        "    # data.shape = [ch, time, trial]\n",
        "    ratio_dsample = factor\n",
        "    n_ch, n_frame, n_trial = data.shape\n",
        "\n",
        "    print(\"n_frame\" ,n_frame)\n",
        "    decimated_frame = int(np.floor(n_frame/ratio_dsample))\n",
        "    print(\"decimated_frame \",decimated_frame)\n",
        "\n",
        "    # memory pre-allocation\n",
        "    decimated_data = np.zeros((n_ch, decimated_frame, n_trial))\n",
        "    print(\"decimated_data.shape \",decimated_data.shape)\n",
        "\n",
        "    for i in range(n_trial):\n",
        "        for j in range(decimated_frame):\n",
        "            cur_data = data[:, :, i]\n",
        "            decimated_data[:, j, i] = np.mean(cur_data[:, j*ratio_dsample:(j+1)*ratio_dsample], axis=1)\n",
        "\n",
        "    return decimated_data\n",
        "\n",
        "def detect_letter_P3speller(pred_score, word_len, label, letter_ind, markers_seq, params):\n",
        "    \"\"\"Function for detecing letter from the predicted results from unknown EEG\"\"\"\n",
        "    user_answer = np.chararray(word_len,1)\n",
        "    acc_on_repetition = np.zeros(params[\"full_repeat\"])\n",
        "    correct_on_repetition = np.zeros(params[\"full_repeat\"])\n",
        "    for n_repeat in range(params[\"full_repeat\"]):\n",
        "        for n_letter in range(word_len):\n",
        "            # begin and end trial for a single letter session\n",
        "            begin_trial = len(params[\"seq_code\"]) * params[\"full_repeat\"] * (n_letter)\n",
        "            end_trial = begin_trial + (n_repeat+1) * len(params[\"seq_code\"])\n",
        "\n",
        "            unknown_speller_code = np.zeros(len(params[\"seq_code\"]))\n",
        "            for j in range(begin_trial, end_trial):\n",
        "                # predict and add lda score\n",
        "                unknown_speller_code[int(markers_seq[letter_ind[j]])-1] = unknown_speller_code[int(markers_seq[letter_ind[j]])-1] + pred_score[j]\n",
        "\n",
        "            row = np.argmax(unknown_speller_code[0:6])\n",
        "            col = np.argmax(unknown_speller_code[6:12])\n",
        "            user_answer[n_letter] = params['spellermatrix'][row*6+col]\n",
        "        user_answer_string = user_answer.tobytes().decode()\n",
        "\n",
        "        correct_on_repetition[n_repeat] = len([i for i, j in zip(user_answer_string, label) if i == j])\n",
        "        acc_on_repetition[n_repeat] = correct_on_repetition[n_repeat] / len(label)\n",
        "\n",
        "    out = {\"text_result\": user_answer_string, \"acc_on_repetition\": acc_on_repetition, \"correct_on_repetition\": correct_on_repetition}\n",
        "    return out"
      ],
      "metadata": {
        "id": "F2pDrZtzGfMU"
      },
      "execution_count": 33,
      "outputs": []
    },
    {
      "cell_type": "code",
      "source": [
        "#Classifier\n",
        "\n",
        "import statsmodels.api as sm\n",
        "import numpy as np\n",
        "from sklearn.linear_model import LinearRegression\n",
        "\n",
        "def get_stats(dat, x_columns, y):\n",
        "    x = dat[:, x_columns]\n",
        "    results = sm.OLS(y, x).fit()\n",
        "    return results\n",
        "\n",
        "def stepwise_linear_model(dat, init_x_column, y_train, p_val):\n",
        "    x_column = init_x_column\n",
        "\n",
        "    while True:\n",
        "        results_stats = get_stats(dat, x_column, y_train)\n",
        "        if np.max(results_stats.pvalues) <= p_val:\n",
        "            break\n",
        "        else:\n",
        "            backward_elim = np.argmax(results_stats.pvalues)\n",
        "            x_column = np.delete(x_column, backward_elim)\n",
        "\n",
        "    return x_column, results_stats\n"
      ],
      "metadata": {
        "id": "TjjIlu-LG_ET"
      },
      "execution_count": null,
      "outputs": []
    },
    {
      "cell_type": "code",
      "source": [
        "from google.colab import drive"
      ],
      "metadata": {
        "id": "1Z5Qw_iVHWdv"
      },
      "execution_count": 34,
      "outputs": []
    },
    {
      "cell_type": "code",
      "source": [
        "!pip install mat73"
      ],
      "metadata": {
        "colab": {
          "base_uri": "https://localhost:8080/"
        },
        "id": "YWhx22wAJ2x9",
        "outputId": "345a0fbd-dc61-4b5a-d764-183bbb44992d"
      },
      "execution_count": 35,
      "outputs": [
        {
          "output_type": "stream",
          "name": "stdout",
          "text": [
            "Requirement already satisfied: mat73 in /usr/local/lib/python3.10/dist-packages (0.62)\n",
            "Requirement already satisfied: h5py in /usr/local/lib/python3.10/dist-packages (from mat73) (3.9.0)\n",
            "Requirement already satisfied: numpy in /usr/local/lib/python3.10/dist-packages (from mat73) (1.23.5)\n"
          ]
        }
      ]
    },
    {
      "cell_type": "code",
      "source": [
        "import mat73\n",
        "import scipy\n",
        "import scipy.io as sio # cannot use for v7.3 mat file\n",
        "import numpy as np\n",
        "import matplotlib.pyplot as plt"
      ],
      "metadata": {
        "id": "KCuZBpjMJzss"
      },
      "execution_count": 36,
      "outputs": []
    },
    {
      "cell_type": "code",
      "source": [
        "drive.mount('/content/gdrive')"
      ],
      "metadata": {
        "colab": {
          "base_uri": "https://localhost:8080/"
        },
        "id": "Ee3xzGrtH6Ut",
        "outputId": "82e19724-2321-458b-a19c-56ac28637152"
      },
      "execution_count": 38,
      "outputs": [
        {
          "output_type": "stream",
          "name": "stdout",
          "text": [
            "Drive already mounted at /content/gdrive; to attempt to forcibly remount, call drive.mount(\"/content/gdrive\", force_remount=True).\n"
          ]
        }
      ]
    },
    {
      "cell_type": "code",
      "source": [
        "# pre-defined parameters\n",
        "baseline = [-200, 0] # in ms\n",
        "frame = [0, 600] # in ms"
      ],
      "metadata": {
        "id": "XfSs-xefHNYL"
      },
      "execution_count": 37,
      "outputs": []
    },
    {
      "cell_type": "code",
      "source": [
        "EEG = sio.loadmat(\"/content/gdrive/MyDrive/Colab Notebooks/FYP_coding/DataSet/s55.mat\")"
      ],
      "metadata": {
        "colab": {
          "base_uri": "https://localhost:8080/",
          "height": 321
        },
        "id": "CACYKcDsL3Ir",
        "outputId": "750d5cbe-84b9-4b3c-cef6-c05d4fae5efb"
      },
      "execution_count": null,
      "outputs": [
        {
          "output_type": "error",
          "ename": "NotImplementedError",
          "evalue": "Please use HDF reader for matlab v7.3 files, e.g. h5py",
          "traceback": [
            "\u001b[0;31m---------------------------------------------------------------------------\u001b[0m",
            "\u001b[0;31mNotImplementedError\u001b[0m                       Traceback (most recent call last)",
            "\u001b[0;32m<ipython-input-30-4fb8a4ece255>\u001b[0m in \u001b[0;36m<cell line: 1>\u001b[0;34m()\u001b[0m\n\u001b[0;32m----> 1\u001b[0;31m \u001b[0mEEG\u001b[0m \u001b[0;34m=\u001b[0m \u001b[0msio\u001b[0m\u001b[0;34m.\u001b[0m\u001b[0mloadmat\u001b[0m\u001b[0;34m(\u001b[0m\u001b[0;34m\"/content/gdrive/MyDrive/Colab Notebooks/FYP_coding/DataSet/s55.mat\"\u001b[0m\u001b[0;34m)\u001b[0m\u001b[0;34m\u001b[0m\u001b[0;34m\u001b[0m\u001b[0m\n\u001b[0m",
            "\u001b[0;32m/usr/local/lib/python3.10/dist-packages/scipy/io/matlab/_mio.py\u001b[0m in \u001b[0;36mloadmat\u001b[0;34m(file_name, mdict, appendmat, **kwargs)\u001b[0m\n\u001b[1;32m    224\u001b[0m     \u001b[0mvariable_names\u001b[0m \u001b[0;34m=\u001b[0m \u001b[0mkwargs\u001b[0m\u001b[0;34m.\u001b[0m\u001b[0mpop\u001b[0m\u001b[0;34m(\u001b[0m\u001b[0;34m'variable_names'\u001b[0m\u001b[0;34m,\u001b[0m \u001b[0;32mNone\u001b[0m\u001b[0;34m)\u001b[0m\u001b[0;34m\u001b[0m\u001b[0;34m\u001b[0m\u001b[0m\n\u001b[1;32m    225\u001b[0m     \u001b[0;32mwith\u001b[0m \u001b[0m_open_file_context\u001b[0m\u001b[0;34m(\u001b[0m\u001b[0mfile_name\u001b[0m\u001b[0;34m,\u001b[0m \u001b[0mappendmat\u001b[0m\u001b[0;34m)\u001b[0m \u001b[0;32mas\u001b[0m \u001b[0mf\u001b[0m\u001b[0;34m:\u001b[0m\u001b[0;34m\u001b[0m\u001b[0;34m\u001b[0m\u001b[0m\n\u001b[0;32m--> 226\u001b[0;31m         \u001b[0mMR\u001b[0m\u001b[0;34m,\u001b[0m \u001b[0m_\u001b[0m \u001b[0;34m=\u001b[0m \u001b[0mmat_reader_factory\u001b[0m\u001b[0;34m(\u001b[0m\u001b[0mf\u001b[0m\u001b[0;34m,\u001b[0m \u001b[0;34m**\u001b[0m\u001b[0mkwargs\u001b[0m\u001b[0;34m)\u001b[0m\u001b[0;34m\u001b[0m\u001b[0;34m\u001b[0m\u001b[0m\n\u001b[0m\u001b[1;32m    227\u001b[0m         \u001b[0mmatfile_dict\u001b[0m \u001b[0;34m=\u001b[0m \u001b[0mMR\u001b[0m\u001b[0;34m.\u001b[0m\u001b[0mget_variables\u001b[0m\u001b[0;34m(\u001b[0m\u001b[0mvariable_names\u001b[0m\u001b[0;34m)\u001b[0m\u001b[0;34m\u001b[0m\u001b[0;34m\u001b[0m\u001b[0m\n\u001b[1;32m    228\u001b[0m \u001b[0;34m\u001b[0m\u001b[0m\n",
            "\u001b[0;32m/usr/local/lib/python3.10/dist-packages/scipy/io/matlab/_mio.py\u001b[0m in \u001b[0;36mmat_reader_factory\u001b[0;34m(file_name, appendmat, **kwargs)\u001b[0m\n\u001b[1;32m     78\u001b[0m         \u001b[0;32mreturn\u001b[0m \u001b[0mMatFile5Reader\u001b[0m\u001b[0;34m(\u001b[0m\u001b[0mbyte_stream\u001b[0m\u001b[0;34m,\u001b[0m \u001b[0;34m**\u001b[0m\u001b[0mkwargs\u001b[0m\u001b[0;34m)\u001b[0m\u001b[0;34m,\u001b[0m \u001b[0mfile_opened\u001b[0m\u001b[0;34m\u001b[0m\u001b[0;34m\u001b[0m\u001b[0m\n\u001b[1;32m     79\u001b[0m     \u001b[0;32melif\u001b[0m \u001b[0mmjv\u001b[0m \u001b[0;34m==\u001b[0m \u001b[0;36m2\u001b[0m\u001b[0;34m:\u001b[0m\u001b[0;34m\u001b[0m\u001b[0;34m\u001b[0m\u001b[0m\n\u001b[0;32m---> 80\u001b[0;31m         raise NotImplementedError('Please use HDF reader for matlab v7.3 '\n\u001b[0m\u001b[1;32m     81\u001b[0m                                   'files, e.g. h5py')\n\u001b[1;32m     82\u001b[0m     \u001b[0;32melse\u001b[0m\u001b[0;34m:\u001b[0m\u001b[0;34m\u001b[0m\u001b[0;34m\u001b[0m\u001b[0m\n",
            "\u001b[0;31mNotImplementedError\u001b[0m: Please use HDF reader for matlab v7.3 files, e.g. h5py"
          ]
        }
      ]
    },
    {
      "cell_type": "code",
      "source": [
        "EEG = mat73.loadmat(\"/content/gdrive/MyDrive/Colab Notebooks/FYP_coding/DataSet/s01.mat\")"
      ],
      "metadata": {
        "id": "3vxz9xIzJoBz"
      },
      "execution_count": 39,
      "outputs": []
    },
    {
      "cell_type": "markdown",
      "source": [
        "# **Visualizaion**"
      ],
      "metadata": {
        "id": "uAN7uJ5uP3JP"
      }
    },
    {
      "cell_type": "code",
      "source": [
        "for n_calib in range(len(EEG['test'])):\n",
        "  cur_EEG = EEG['test'][n_calib]\n",
        "  data = np.asarray(cur_EEG['data'])\n",
        "  srate = cur_EEG['srate']\n",
        "  data = butter_bandpass_filter(data, 1, 10, srate, 4)\n",
        "  markers = cur_EEG['markers_target']\n",
        "\n",
        "  targetID = np.where(markers==1)[0]\n",
        "  nontargetID = np.where(markers==2)[0]\n",
        "\n",
        "  tmp_targetEEG = extractEpoch3D(data, targetID, srate, baseline, frame, True)\n",
        "  tmp_nontargetEEG = extractEpoch3D(data, nontargetID, srate, baseline, frame, True)\n",
        "  if n_calib == 0:\n",
        "    targetEEG = tmp_targetEEG\n",
        "    nontargetEEG = tmp_nontargetEEG\n",
        "  else:\n",
        "    targetEEG = np.dstack((targetEEG, tmp_targetEEG))\n",
        "    nontargetEEG = np.dstack((nontargetEEG, tmp_nontargetEEG))\n",
        "\n",
        "avg_target = np.mean(targetEEG, axis=2) # trial average\n",
        "avg_nontarget = np.mean(nontargetEEG, axis=2) # trial average\n",
        "\n",
        "# Channel selection for drawing ERPs\n",
        "elec_midline = [31-1, 32-1, 13-1] # Fz, Cz, and Pz, respectively, -1 for indexing\n",
        "ch_avg_target = np.mean(avg_target[elec_midline, :], axis=0)\n",
        "ch_avg_nontarget = np.mean(avg_nontarget[elec_midline, :], axis=0)\n",
        "\n",
        "# Single subject averaged target & nontarget ERPs - visualization\n",
        "t = np.linspace(-200, 600, avg_target.shape[1])\n",
        "plt.plot(t, ch_avg_target.transpose(), color=[1, 0.5, 0])\n",
        "plt.plot(t, ch_avg_nontarget.transpose(), color=[0, 0, 0])\n",
        "plt.xlabel('ms')\n",
        "plt.ylabel(r'$\\mu V$')\n",
        "plt.gca().yaxis.grid(True)\n",
        "plt.rcParams.update({'font.size': 13})\n",
        "plt.xlim([-200, 600])\n",
        "\n",
        "# plot ratio\n",
        "ratio = .6\n",
        "x_left, x_right = plt.gca().get_xlim()\n",
        "y_low, y_high = plt.gca().get_ylim()\n",
        "\n",
        "plt.gca().set_aspect(abs((x_right-x_left)/(y_low-y_high))*ratio)\n",
        "plt.show()"
      ],
      "metadata": {
        "id": "t9NL8R64JvYq"
      },
      "execution_count": null,
      "outputs": []
    },
    {
      "cell_type": "code",
      "source": [
        "for n_calib in range(len(EEG['train'])):\n",
        "  cur_EEG = EEG['test'][n_calib]\n",
        "  data = np.asarray(cur_EEG['data'])\n",
        "  srate = cur_EEG['srate']\n",
        "  data = butter_bandpass_filter(data, 1, 10, srate, 4)\n",
        "  markers = cur_EEG['markers_target']\n",
        "\n",
        "  targetID = np.where(markers==1)[0]\n",
        "  nontargetID = np.where(markers==2)[0]\n",
        "\n",
        "  tmp_targetEEG = extractEpoch3D(data, targetID, srate, baseline, frame, True)\n",
        "  tmp_nontargetEEG = extractEpoch3D(data, nontargetID, srate, baseline, frame, True)\n",
        "  if n_calib == 0:\n",
        "    targetEEG = tmp_targetEEG\n",
        "    nontargetEEG = tmp_nontargetEEG\n",
        "  else:\n",
        "    targetEEG = np.dstack((targetEEG, tmp_targetEEG))\n",
        "    nontargetEEG = np.dstack((nontargetEEG, tmp_nontargetEEG))\n",
        "\n",
        "avg_target = np.mean(targetEEG, axis=2) # trial average\n",
        "avg_nontarget = np.mean(nontargetEEG, axis=2) # trial average\n",
        "\n",
        "# Channel selection for drawing ERPs\n",
        "elec_midline = [31-1, 32-1, 13-1] # Fz, Cz, and Pz, respectively, -1 for indexing\n",
        "ch_avg_target = np.mean(avg_target[elec_midline, :], axis=0)\n",
        "ch_avg_nontarget = np.mean(avg_nontarget[elec_midline, :], axis=0)\n",
        "\n",
        "# Single subject averaged target & nontarget ERPs - visualization\n",
        "t = np.linspace(-200, 600, avg_target.shape[1])\n",
        "plt.plot(t, ch_avg_target.transpose(), color=[1, 0.5, 0])\n",
        "plt.plot(t, ch_avg_nontarget.transpose(), color=[0, 0, 0])\n",
        "plt.xlabel('ms')\n",
        "plt.ylabel(r'$\\mu V$')\n",
        "plt.gca().yaxis.grid(True)\n",
        "plt.rcParams.update({'font.size': 13})\n",
        "plt.xlim([-200, 600])\n",
        "\n",
        "# plot ratio\n",
        "ratio = .6\n",
        "x_left, x_right = plt.gca().get_xlim()\n",
        "y_low, y_high = plt.gca().get_ylim()\n",
        "\n",
        "plt.gca().set_aspect(abs((x_right-x_left)/(y_low-y_high))*ratio)\n",
        "plt.show()"
      ],
      "metadata": {
        "id": "vGFEKRt5POO7"
      },
      "execution_count": null,
      "outputs": []
    },
    {
      "cell_type": "markdown",
      "source": [
        "# **Code for prediction letters**"
      ],
      "metadata": {
        "id": "L0JmnVd0HcvL"
      }
    },
    {
      "cell_type": "code",
      "source": [
        "#Load Dataset\n",
        "\n",
        "nsub = 1\n",
        "path = '/content/gdrive/MyDrive/Colab Notebooks/FYP_coding/DataSet/'\n",
        "EEg= mat73.loadmat(path+'s{:02d}.mat'.format(int(nsub))) # 's{:02d}.mat': This is a string specifying the name of the MATLAB file to be loaded. It includes a placeholder ({:02d}) for an integer (nsub), where the integer is formatted with at least two digits (padded with zeros if needed). This suggests that the MATLAB files are named in a structured way, with 's' followed by a two-digit number and ending with '.mat'.\n",
        "\n",
        "\n",
        "# for i in range(1,55):\n",
        "#   EEg= mat73.loadmat(path+'s{:02d}.mat'.format(int(nsub)))\n",
        "\n",
        "\n",
        "\n"
      ],
      "metadata": {
        "id": "L5QWS8dzQJiD"
      },
      "execution_count": null,
      "outputs": []
    },
    {
      "cell_type": "code",
      "source": [
        "EEG = mat73.loadmat(\"/content/gdrive/MyDrive/Colab Notebooks/FYP_coding/DataSet/s01.mat\")"
      ],
      "metadata": {
        "id": "ukXSWt0vj5pa"
      },
      "execution_count": 48,
      "outputs": []
    },
    {
      "cell_type": "code",
      "source": [
        "#Pre-processing for training EEG\n",
        "\n",
        "for n_calib in range(len(EEG['train'])):\n",
        "    # print(n_calib)\n",
        "    cur_eeg = EEG['train'][n_calib]\n",
        "    data = np.asarray(cur_eeg['data'])\n",
        "    srate = cur_eeg['srate']\n",
        "    data = butter_bandpass_filter(data, 0.5, 10, srate, 4)\n",
        "    markers = cur_eeg['markers_target']\n",
        "\n",
        "    targetID = np.where(markers==1)[0]\n",
        "    nontargetID = np.where(markers==2)[0]\n",
        "\n",
        "    tmp_targetEEG = extractEpoch3D(data, targetID, srate, baseline, frame, True)\n",
        "    tmp_nontargetEEG = extractEpoch3D(data, nontargetID, srate, baseline, frame, True)\n",
        "    if n_calib == 0:\n",
        "        targetEEG = tmp_targetEEG\n",
        "        nontargetEEG = tmp_nontargetEEG\n",
        "    else:\n",
        "        targetEEG = np.dstack((targetEEG, tmp_targetEEG)) # np.dstack is a function that stacks arrays in sequence along the third axis (depth). Given a sequence of arrays with the same shape along the first two dimensions, np.dstack concatenates them along the third axis. The function name \"dstack\" stands for \"depth stack.\"\n",
        "        nontargetEEG = np.dstack((nontargetEEG, tmp_nontargetEEG))\n"
      ],
      "metadata": {
        "id": "ifiax76fSq4O",
        "colab": {
          "base_uri": "https://localhost:8080/"
        },
        "outputId": "205c6797-5496-482e-aac0-5bbfe3ec2b94"
      },
      "execution_count": 52,
      "outputs": [
        {
          "output_type": "stream",
          "name": "stdout",
          "text": [
            "0\n",
            "1\n"
          ]
        }
      ]
    },
    {
      "cell_type": "code",
      "source": [
        "# data dimension for\n",
        "print('Target EEG shape', targetEEG.shape) # ch x time x trial                  In one calibration run has 150 target and 750 nontarget events. There are 2 calibration runs, so after stacking shape is Target EEG shape (32, 409, 300),Nontarget EEG shape (32, 409, 1500)\n",
        "print('Nontarget EEG shape', nontargetEEG.shape) # ch x time x trial\n"
      ],
      "metadata": {
        "colab": {
          "base_uri": "https://localhost:8080/"
        },
        "id": "Bs8LnCWYjvtP",
        "outputId": "413d8d49-9d0a-4594-d78c-ebbcae8d74db"
      },
      "execution_count": 51,
      "outputs": [
        {
          "output_type": "stream",
          "name": "stdout",
          "text": [
            "Target EEG shape (32, 409, 300)\n",
            "Nontarget EEG shape (32, 409, 1500)\n"
          ]
        }
      ]
    },
    {
      "cell_type": "code",
      "source": [
        "print(targetEEG[0,:,1].shape)\n",
        "targetEEG[0,:,1]"
      ],
      "metadata": {
        "colab": {
          "base_uri": "https://localhost:8080/"
        },
        "id": "m80bCMJHunRK",
        "outputId": "71b7fcfa-017b-413b-848a-c1d122809934"
      },
      "execution_count": 61,
      "outputs": [
        {
          "output_type": "stream",
          "name": "stdout",
          "text": [
            "(409,)\n"
          ]
        },
        {
          "output_type": "execute_result",
          "data": {
            "text/plain": [
              "array([-5.51554261e+00, -5.65101649e+00, -5.78265513e+00, -5.90965841e+00,\n",
              "       -6.03122261e+00, -6.14654667e+00, -6.25483865e+00, -6.35532232e+00,\n",
              "       -6.44724375e+00, -6.52987771e+00, -6.60253373e+00, -6.66456135e+00,\n",
              "       -6.71535442e+00, -6.75435407e+00, -6.78105007e+00, -6.79498059e+00,\n",
              "       -6.79573028e+00, -6.78292685e+00, -6.75623640e+00, -6.71535777e+00,\n",
              "       -6.66001639e+00, -6.58995781e+00, -6.50494146e+00, -6.40473485e+00,\n",
              "       -6.28910880e+00, -6.15783378e+00, -6.01067778e+00, -5.84740571e+00,\n",
              "       -5.66778045e+00, -5.47156532e+00, -5.25852805e+00, -5.02844591e+00,\n",
              "       -4.78111201e+00, -4.51634279e+00, -4.23398644e+00, -3.93393248e+00,\n",
              "       -3.61612229e+00, -3.28056073e+00, -2.92732866e+00, -2.55659626e+00,\n",
              "       -2.16863708e+00, -1.76384222e+00, -1.34273446e+00, -9.05981687e-01,\n",
              "       -4.54409256e-01,  1.09891382e-02,  4.89042464e-01,  9.78395492e-01,\n",
              "        1.47750440e+00,  1.98463517e+00,  2.49786508e+00,  3.01508768e+00,\n",
              "        3.53402156e+00,  4.05222300e+00,  4.56710267e+00,  5.07594628e+00,\n",
              "        5.57593884e+00,  6.06419240e+00,  6.53777650e+00,  6.99375110e+00,\n",
              "        7.42920111e+00,  7.84127185e+00,  8.22720488e+00,  8.58437338e+00,\n",
              "        8.91031666e+00,  9.20277318e+00,  9.45971168e+00,  9.67936003e+00,\n",
              "        9.86023127e+00,  1.00011465e+01,  1.01012543e+01,  1.01600458e+01,\n",
              "        1.01773663e+01,  1.01534211e+01,  1.00887771e+01,  9.98435952e+00,\n",
              "        9.84144240e+00,  9.66163507e+00,  9.44686318e+00,  9.19934560e+00,\n",
              "        8.92156735e+00,  8.61624934e+00,  8.28631551e+00,  7.93485817e+00,\n",
              "        7.56510209e+00,  7.18036800e+00,  6.78403607e+00,  6.37950983e+00,\n",
              "        5.97018117e+00,  5.55939686e+00,  5.15042712e+00,  4.74643687e+00,\n",
              "        4.35045977e+00,  3.96537559e+00,  3.59389106e+00,  3.23852407e+00,\n",
              "        2.90159146e+00,  2.58520004e+00,  2.29124065e+00,  2.02138513e+00,\n",
              "        1.77708549e+00,  1.55957529e+00,  1.36987246e+00,  1.20878341e+00,\n",
              "        1.07690789e+00,  9.74644257e-01,  9.02195020e-01,  8.59572191e-01,\n",
              "        8.46602448e-01,  8.62931888e-01,  9.08030340e-01,  9.81195256e-01,\n",
              "        1.08155527e+00,  1.20807353e+00,  1.35955099e+00,  1.53462967e+00,\n",
              "        1.73179605e+00,  1.94938453e+00,  2.18558121e+00,  2.43842805e+00,\n",
              "        2.70582786e+00,  2.98555053e+00,  3.27524092e+00,  3.57242902e+00,\n",
              "        3.87454267e+00,  4.17892335e+00,  4.48284493e+00,  4.78353562e+00,\n",
              "        5.07820271e+00,  5.36405983e+00,  5.63835627e+00,  5.89840778e+00,\n",
              "        6.14162805e+00,  6.36556034e+00,  6.56790838e+00,  6.74656596e+00,\n",
              "        6.89964456e+00,  7.02549855e+00,  7.12274754e+00,  7.19029554e+00,\n",
              "        7.22734682e+00,  7.23341842e+00,  7.20834930e+00,  7.15230645e+00,\n",
              "        7.06578794e+00,  6.94962314e+00,  6.80496992e+00,  6.63330886e+00,\n",
              "        6.43643404e+00,  6.21644024e+00,  5.97570620e+00,  5.71687384e+00,\n",
              "        5.44282332e+00,  5.15664401e+00,  4.86160160e+00,  4.56110178e+00,\n",
              "        4.25865083e+00,  3.95781407e+00,  3.66217262e+00,  3.37527954e+00,\n",
              "        3.10061622e+00,  2.84154993e+00,  2.60129335e+00,  2.38286693e+00,\n",
              "        2.18906452e+00,  2.02242276e+00,  1.88519443e+00,  1.77932592e+00,\n",
              "        1.70643877e+00,  1.66781529e+00,  1.66438807e+00,  1.69673318e+00,\n",
              "        1.76506699e+00,  1.86924626e+00,  2.00877157e+00,  2.18279394e+00,\n",
              "        2.39012474e+00,  2.62924896e+00,  2.89834192e+00,  3.19528950e+00,\n",
              "        3.51771181e+00,  3.86299019e+00,  4.22829740e+00,  4.61063037e+00,\n",
              "        5.00684511e+00,  5.41369306e+00,  5.82785806e+00,  6.24599336e+00,\n",
              "        6.66475787e+00,  7.08085115e+00,  7.49104658e+00,  7.89222232e+00,\n",
              "        8.28138984e+00,  8.65571961e+00,  9.01256404e+00,  9.34947735e+00,\n",
              "        9.66423260e+00,  9.95483565e+00,  1.02195364e+01,  1.04568376e+01,\n",
              "        1.06655007e+01,  1.08445506e+01,  1.09932776e+01,  1.11112383e+01,\n",
              "        1.11982546e+01,  1.12544119e+01,  1.12800553e+01,  1.12757854e+01,\n",
              "        1.12424524e+01,  1.11811495e+01,  1.10932060e+01,  1.09801782e+01,\n",
              "        1.08438400e+01,  1.06861719e+01,  1.05093487e+01,  1.03157253e+01,\n",
              "        1.01078201e+01,  9.88829675e+00,  9.65994316e+00,  9.42564799e+00,\n",
              "        9.18837461e+00,  8.95113274e+00,  8.71694785e+00,  8.48882883e+00,\n",
              "        8.26973435e+00,  8.06253859e+00,  7.86999685e+00,  7.69471186e+00,\n",
              "        7.53910157e+00,  7.40536913e+00,  7.29547579e+00,  7.21111751e+00,\n",
              "        7.15370572e+00,  7.12435263e+00,  7.12386132e+00,  7.15272049e+00,\n",
              "        7.21110374e+00,  7.29887308e+00,  7.41558612e+00,  7.56050667e+00,\n",
              "        7.73261820e+00,  7.93063974e+00,  8.15304395e+00,  8.39807706e+00,\n",
              "        8.66378036e+00,  8.94801310e+00,  9.24847638e+00,  9.56273797e+00,\n",
              "        9.88825767e+00,  1.02224131e+01,  1.05625258e+01,  1.09058871e+01,\n",
              "        1.12497844e+01,  1.15915266e+01,  1.19284694e+01,  1.22580402e+01,\n",
              "        1.25777618e+01,  1.28852759e+01,  1.31783657e+01,  1.34549770e+01,\n",
              "        1.37132388e+01,  1.39514810e+01,  1.41682524e+01,  1.43623341e+01,\n",
              "        1.45327523e+01,  1.46787869e+01,  1.47999768e+01,  1.48961217e+01,\n",
              "        1.49672796e+01,  1.50137609e+01,  1.50361181e+01,  1.50351329e+01,\n",
              "        1.50118000e+01,  1.49673093e+01,  1.49030255e+01,  1.48204665e+01,\n",
              "        1.47212814e+01,  1.46072276e+01,  1.44801470e+01,  1.43419421e+01,\n",
              "        1.41945523e+01,  1.40399291e+01,  1.38800115e+01,  1.37167005e+01,\n",
              "        1.35518346e+01,  1.33871636e+01,  1.32243240e+01,  1.30648145e+01,\n",
              "        1.29099726e+01,  1.27609536e+01,  1.26187110e+01,  1.24839796e+01,\n",
              "        1.23572626e+01,  1.22388206e+01,  1.21286648e+01,  1.20265545e+01,\n",
              "        1.19319970e+01,  1.18442531e+01,  1.17623459e+01,  1.16850745e+01,\n",
              "        1.16110323e+01,  1.15386291e+01,  1.14661175e+01,  1.13916227e+01,\n",
              "        1.13131746e+01,  1.12287425e+01,  1.11362701e+01,  1.10337113e+01,\n",
              "        1.09190655e+01,  1.07904114e+01,  1.06459396e+01,  1.04839826e+01,\n",
              "        1.03030420e+01,  1.01018126e+01,  9.87920324e+00,  9.63435333e+00,\n",
              "        9.36664562e+00,  9.07571481e+00,  8.76145177e+00,  8.42400390e+00,\n",
              "        8.06377164e+00,  7.68140170e+00,  7.27777740e+00,  6.85400644e+00,\n",
              "        6.41140646e+00,  5.95148877e+00,  5.47594019e+00,  4.98660366e+00,\n",
              "        4.48545753e+00,  3.97459404e+00,  3.45619712e+00,  2.93252009e+00,\n",
              "        2.40586336e+00,  1.87855277e+00,  1.35291888e+00,  8.31277513e-01,\n",
              "        3.15912075e-01, -1.90942443e-01, -6.87113558e-01, -1.17050364e+00,\n",
              "       -1.63910063e+00, -2.09098734e+00, -2.52434952e+00, -2.93748299e+00,\n",
              "       -3.32880007e+00, -3.69683544e+00, -4.04025182e+00, -4.35784540e+00,\n",
              "       -4.64855128e+00, -4.91144882e+00, -5.14576694e+00, -5.35088914e+00,\n",
              "       -5.52635827e+00, -5.67188069e+00, -5.78732991e+00, -5.87274931e+00,\n",
              "       -5.92835414e+00, -5.95453259e+00, -5.95184602e+00, -5.92102846e+00,\n",
              "       -5.86298518e+00, -5.77879060e+00, -5.66968525e+00, -5.53707195e+00,\n",
              "       -5.38251076e+00, -5.20771283e+00, -5.01453265e+00, -4.80495856e+00,\n",
              "       -4.58110117e+00, -4.34517956e+00, -4.09950518e+00, -3.84646361e+00,\n",
              "       -3.58849458e+00, -3.32807058e+00, -3.06767477e+00, -2.80977868e+00,\n",
              "       -2.55682022e+00, -2.31118238e+00, -2.07517290e+00, -1.85100506e+00,\n",
              "       -1.64077943e+00, -1.44646668e+00, -1.26989112e+00, -1.11271491e+00,\n",
              "       -9.76422835e-01, -8.62307636e-01, -7.71456111e-01, -7.04736110e-01,\n",
              "       -6.62784857e-01, -6.45998992e-01, -6.54526800e-01, -6.88263050e-01,\n",
              "       -7.46846789e-01, -8.29662325e-01, -9.35843506e-01, -1.06428125e+00,\n",
              "       -1.21363418e+00, -1.38234224e+00, -1.56864282e+00, -1.77058935e+00,\n",
              "       -1.98607193e+00, -2.21283973e+00, -2.44852494e+00, -2.69066801e+00,\n",
              "       -2.93674378e+00, -3.18418815e+00, -3.43042498e+00, -3.67289245e+00,\n",
              "       -3.90906881e+00])"
            ]
          },
          "metadata": {},
          "execution_count": 61
        }
      ]
    },
    {
      "cell_type": "code",
      "source": [
        "# training target data\n",
        "down_target = decimation_by_avg(targetEEG, 24)\n",
        "down_nontarget = decimation_by_avg(nontargetEEG, 24)"
      ],
      "metadata": {
        "id": "RnulbJ0alvv_"
      },
      "execution_count": 55,
      "outputs": []
    },
    {
      "cell_type": "code",
      "source": [
        "print(\"down_target.shape \", down_target.shape)\n",
        "print(\"down_nontarget.shape \", down_nontarget.shape)\n",
        "\n",
        "ch_target, frame_target, trial_target = down_target.shape\n",
        "ch_nontarget, frame_nontarget, trial_nontarget = down_nontarget.shape"
      ],
      "metadata": {
        "colab": {
          "base_uri": "https://localhost:8080/"
        },
        "id": "LZLTbUV7uHhs",
        "outputId": "108f433a-ce25-49ae-e1a3-b79bd8c3bfed"
      },
      "execution_count": 57,
      "outputs": [
        {
          "output_type": "stream",
          "name": "stdout",
          "text": [
            "down_target.shape  (32, 17, 300)\n",
            "down_nontarget.shape  (32, 17, 1500)\n"
          ]
        }
      ]
    },
    {
      "cell_type": "code",
      "source": [
        "# ch x time x trial -> (ch* time) x trial -> trial x (ch*time)\n",
        "feat_target = np.reshape(down_target, (ch_target*frame_target, trial_target)).transpose()\n",
        "feat_nontarget = np.reshape(down_nontarget, (ch_nontarget*frame_nontarget, trial_nontarget)).transpose()\n"
      ],
      "metadata": {
        "id": "ZfLthWGSu6_G"
      },
      "execution_count": 62,
      "outputs": []
    },
    {
      "cell_type": "code",
      "source": [
        "# labels - (+1) for target and (-1) for nontarget\n",
        "y_target = np.ones((feat_target.shape[0],1))\n",
        "y_nontarget = -np.ones((feat_nontarget.shape[0],1))\n",
        "\n",
        "print('Target feature vector shape', feat_target.shape)\n",
        "print('Nontarget feature vector shape', feat_nontarget.shape)\n"
      ],
      "metadata": {
        "colab": {
          "base_uri": "https://localhost:8080/"
        },
        "id": "qIwt0vxEvpbK",
        "outputId": "ad6094ed-e531-4e5e-f437-4e6f5cdc06da"
      },
      "execution_count": 63,
      "outputs": [
        {
          "output_type": "stream",
          "name": "stdout",
          "text": [
            "Target feature vector shape (300, 544)\n",
            "Nontarget feature vector shape (1500, 544)\n"
          ]
        }
      ]
    },
    {
      "cell_type": "code",
      "source": [
        "feat_train = np.vstack((feat_target, feat_nontarget))\n",
        "y_train = np.vstack((y_target, y_nontarget))\n",
        "\n",
        "print('feat_train vector shape', feat_train.shape)\n",
        "print('y_train vector shape', y_train.shape)"
      ],
      "metadata": {
        "colab": {
          "base_uri": "https://localhost:8080/"
        },
        "id": "b5sFA-Z_yNR0",
        "outputId": "09404f20-b98d-4bdb-cc1f-afd6a4f57a4d"
      },
      "execution_count": 66,
      "outputs": [
        {
          "output_type": "stream",
          "name": "stdout",
          "text": [
            "feat_train vector shape (1800, 544)\n",
            "y_train vector shape (1800, 1)\n"
          ]
        }
      ]
    },
    {
      "cell_type": "code",
      "source": [
        "# shuffle target and nontarget indices\n",
        "np.random.seed(101)\n",
        "idx_train = np.arange(feat_train.shape[0])\n",
        "np.random.shuffle(idx_train)\n",
        "feat_train = feat_train[idx_train, :]\n",
        "y_train = y_train[idx_train, :]"
      ],
      "metadata": {
        "id": "IjFSjcCL0jHy"
      },
      "execution_count": 67,
      "outputs": []
    },
    {
      "cell_type": "code",
      "source": [
        "from sklearn.linear_model import LinearRegression\n",
        "from sklearn.model_selection import train_test_split\n",
        "\n",
        "X_train, X_test, y_train, y_test = train_test_split(feat_train, y_train, test_size=0.2, random_state=42)\n",
        "\n",
        "reg = LinearRegression().fit(X_train, y_train)\n"
      ],
      "metadata": {
        "id": "zgBe2ym82Kdy"
      },
      "execution_count": 70,
      "outputs": []
    },
    {
      "cell_type": "code",
      "source": [
        "reg.score(X_train, y_train)"
      ],
      "metadata": {
        "colab": {
          "base_uri": "https://localhost:8080/"
        },
        "id": "H-TmOmJP3vnZ",
        "outputId": "a5cda004-026b-4b2f-88e7-7c3c9a98ec70"
      },
      "execution_count": 72,
      "outputs": [
        {
          "output_type": "execute_result",
          "data": {
            "text/plain": [
              "0.5670112178153068"
            ]
          },
          "metadata": {},
          "execution_count": 72
        }
      ]
    },
    {
      "cell_type": "code",
      "source": [
        "reg.score(X_test, y_test)"
      ],
      "metadata": {
        "colab": {
          "base_uri": "https://localhost:8080/"
        },
        "id": "l54WwTUf3oUt",
        "outputId": "120f835a-2f35-469c-fb15-3b03adee293e"
      },
      "execution_count": 71,
      "outputs": [
        {
          "output_type": "execute_result",
          "data": {
            "text/plain": [
              "-0.011005040768029772"
            ]
          },
          "metadata": {},
          "execution_count": 71
        }
      ]
    },
    {
      "cell_type": "code",
      "source": [
        "from sklearn.model_selection import train_test_split\n",
        "from sklearn.preprocessing import StandardScaler\n",
        "from sklearn.svm import SVC\n",
        "from sklearn.metrics import accuracy_score, classification_report, confusion_matrix\n",
        "\n",
        "# Standardize the features (optional but recommended for SVM)\n",
        "scaler = StandardScaler()\n",
        "X_train = scaler.fit_transform(X_train)\n",
        "X_test = scaler.transform(X_test)\n",
        "\n",
        "# Create and train the SVM model\n",
        "svm_model = SVC(kernel='linear', C=1.0)  # 'linear' kernel for linear SVM\n",
        "svm_model.fit(X_train, y_train)\n",
        "\n",
        "\n"
      ],
      "metadata": {
        "colab": {
          "base_uri": "https://localhost:8080/",
          "height": 129
        },
        "id": "X1F3jwIQ5OdM",
        "outputId": "47208164-35f2-4e5e-f30b-72abcaa428eb"
      },
      "execution_count": 73,
      "outputs": [
        {
          "output_type": "stream",
          "name": "stderr",
          "text": [
            "/usr/local/lib/python3.10/dist-packages/sklearn/utils/validation.py:1143: DataConversionWarning: A column-vector y was passed when a 1d array was expected. Please change the shape of y to (n_samples, ), for example using ravel().\n",
            "  y = column_or_1d(y, warn=True)\n"
          ]
        },
        {
          "output_type": "execute_result",
          "data": {
            "text/plain": [
              "SVC(kernel='linear')"
            ],
            "text/html": [
              "<style>#sk-container-id-1 {color: black;background-color: white;}#sk-container-id-1 pre{padding: 0;}#sk-container-id-1 div.sk-toggleable {background-color: white;}#sk-container-id-1 label.sk-toggleable__label {cursor: pointer;display: block;width: 100%;margin-bottom: 0;padding: 0.3em;box-sizing: border-box;text-align: center;}#sk-container-id-1 label.sk-toggleable__label-arrow:before {content: \"▸\";float: left;margin-right: 0.25em;color: #696969;}#sk-container-id-1 label.sk-toggleable__label-arrow:hover:before {color: black;}#sk-container-id-1 div.sk-estimator:hover label.sk-toggleable__label-arrow:before {color: black;}#sk-container-id-1 div.sk-toggleable__content {max-height: 0;max-width: 0;overflow: hidden;text-align: left;background-color: #f0f8ff;}#sk-container-id-1 div.sk-toggleable__content pre {margin: 0.2em;color: black;border-radius: 0.25em;background-color: #f0f8ff;}#sk-container-id-1 input.sk-toggleable__control:checked~div.sk-toggleable__content {max-height: 200px;max-width: 100%;overflow: auto;}#sk-container-id-1 input.sk-toggleable__control:checked~label.sk-toggleable__label-arrow:before {content: \"▾\";}#sk-container-id-1 div.sk-estimator input.sk-toggleable__control:checked~label.sk-toggleable__label {background-color: #d4ebff;}#sk-container-id-1 div.sk-label input.sk-toggleable__control:checked~label.sk-toggleable__label {background-color: #d4ebff;}#sk-container-id-1 input.sk-hidden--visually {border: 0;clip: rect(1px 1px 1px 1px);clip: rect(1px, 1px, 1px, 1px);height: 1px;margin: -1px;overflow: hidden;padding: 0;position: absolute;width: 1px;}#sk-container-id-1 div.sk-estimator {font-family: monospace;background-color: #f0f8ff;border: 1px dotted black;border-radius: 0.25em;box-sizing: border-box;margin-bottom: 0.5em;}#sk-container-id-1 div.sk-estimator:hover {background-color: #d4ebff;}#sk-container-id-1 div.sk-parallel-item::after {content: \"\";width: 100%;border-bottom: 1px solid gray;flex-grow: 1;}#sk-container-id-1 div.sk-label:hover label.sk-toggleable__label {background-color: #d4ebff;}#sk-container-id-1 div.sk-serial::before {content: \"\";position: absolute;border-left: 1px solid gray;box-sizing: border-box;top: 0;bottom: 0;left: 50%;z-index: 0;}#sk-container-id-1 div.sk-serial {display: flex;flex-direction: column;align-items: center;background-color: white;padding-right: 0.2em;padding-left: 0.2em;position: relative;}#sk-container-id-1 div.sk-item {position: relative;z-index: 1;}#sk-container-id-1 div.sk-parallel {display: flex;align-items: stretch;justify-content: center;background-color: white;position: relative;}#sk-container-id-1 div.sk-item::before, #sk-container-id-1 div.sk-parallel-item::before {content: \"\";position: absolute;border-left: 1px solid gray;box-sizing: border-box;top: 0;bottom: 0;left: 50%;z-index: -1;}#sk-container-id-1 div.sk-parallel-item {display: flex;flex-direction: column;z-index: 1;position: relative;background-color: white;}#sk-container-id-1 div.sk-parallel-item:first-child::after {align-self: flex-end;width: 50%;}#sk-container-id-1 div.sk-parallel-item:last-child::after {align-self: flex-start;width: 50%;}#sk-container-id-1 div.sk-parallel-item:only-child::after {width: 0;}#sk-container-id-1 div.sk-dashed-wrapped {border: 1px dashed gray;margin: 0 0.4em 0.5em 0.4em;box-sizing: border-box;padding-bottom: 0.4em;background-color: white;}#sk-container-id-1 div.sk-label label {font-family: monospace;font-weight: bold;display: inline-block;line-height: 1.2em;}#sk-container-id-1 div.sk-label-container {text-align: center;}#sk-container-id-1 div.sk-container {/* jupyter's `normalize.less` sets `[hidden] { display: none; }` but bootstrap.min.css set `[hidden] { display: none !important; }` so we also need the `!important` here to be able to override the default hidden behavior on the sphinx rendered scikit-learn.org. See: https://github.com/scikit-learn/scikit-learn/issues/21755 */display: inline-block !important;position: relative;}#sk-container-id-1 div.sk-text-repr-fallback {display: none;}</style><div id=\"sk-container-id-1\" class=\"sk-top-container\"><div class=\"sk-text-repr-fallback\"><pre>SVC(kernel=&#x27;linear&#x27;)</pre><b>In a Jupyter environment, please rerun this cell to show the HTML representation or trust the notebook. <br />On GitHub, the HTML representation is unable to render, please try loading this page with nbviewer.org.</b></div><div class=\"sk-container\" hidden><div class=\"sk-item\"><div class=\"sk-estimator sk-toggleable\"><input class=\"sk-toggleable__control sk-hidden--visually\" id=\"sk-estimator-id-1\" type=\"checkbox\" checked><label for=\"sk-estimator-id-1\" class=\"sk-toggleable__label sk-toggleable__label-arrow\">SVC</label><div class=\"sk-toggleable__content\"><pre>SVC(kernel=&#x27;linear&#x27;)</pre></div></div></div></div></div>"
            ]
          },
          "metadata": {},
          "execution_count": 73
        }
      ]
    },
    {
      "cell_type": "code",
      "source": [
        "# Make predictions on the test set\n",
        "y_pred = svm_model.predict(X_test)\n",
        "\n",
        "# Evaluate the model\n",
        "accuracy = accuracy_score(y_test, y_pred)\n",
        "conf_matrix = confusion_matrix(y_test, y_pred)\n",
        "classification_report_str = classification_report(y_test, y_pred)\n",
        "\n",
        "# Print the results\n",
        "print(f\"Accuracy: {accuracy:.2f}\")\n",
        "print(\"\\nConfusion Matrix:\")\n",
        "print(conf_matrix)\n",
        "print(\"\\nClassification Report:\")\n",
        "print(classification_report_str)"
      ],
      "metadata": {
        "colab": {
          "base_uri": "https://localhost:8080/"
        },
        "id": "vluw2h4m5li3",
        "outputId": "4355a98f-9f54-4bc3-9622-2d91ec17d2d0"
      },
      "execution_count": 74,
      "outputs": [
        {
          "output_type": "stream",
          "name": "stdout",
          "text": [
            "Accuracy: 0.82\n",
            "\n",
            "Confusion Matrix:\n",
            "[[269  28]\n",
            " [ 35  28]]\n",
            "\n",
            "Classification Report:\n",
            "              precision    recall  f1-score   support\n",
            "\n",
            "        -1.0       0.88      0.91      0.90       297\n",
            "         1.0       0.50      0.44      0.47        63\n",
            "\n",
            "    accuracy                           0.82       360\n",
            "   macro avg       0.69      0.68      0.68       360\n",
            "weighted avg       0.82      0.82      0.82       360\n",
            "\n"
          ]
        }
      ]
    }
  ]
}