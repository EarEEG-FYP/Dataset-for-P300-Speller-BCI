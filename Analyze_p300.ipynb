{
 "cells": [
  {
   "cell_type": "code",
   "execution_count": 1,
   "metadata": {},
   "outputs": [],
   "source": [
    "import mat73\n",
    "import scipy\n",
    "import numpy as np \n",
    "import matplotlib.pyplot as plt \n",
    "\n",
    "\n",
    "\n",
    "import scipy.io as sio "
   ]
  },
  {
   "cell_type": "code",
   "execution_count": 2,
   "metadata": {},
   "outputs": [],
   "source": [
    "from scipy.signal import butter, filtfilt"
   ]
  },
  {
   "cell_type": "code",
   "execution_count": 3,
   "metadata": {},
   "outputs": [],
   "source": [
    "EEG = mat73.loadmat(\"s01.mat\")"
   ]
  },
  {
   "cell_type": "code",
   "execution_count": 4,
   "metadata": {},
   "outputs": [
    {
     "data": {
      "text/plain": [
       "dict_keys(['RSVP', 'rest', 'senloc', 'test', 'train'])"
      ]
     },
     "execution_count": 4,
     "metadata": {},
     "output_type": "execute_result"
    }
   ],
   "source": [
    "EEG.keys()"
   ]
  },
  {
   "cell_type": "code",
   "execution_count": 7,
   "metadata": {},
   "outputs": [
    {
     "data": {
      "text/plain": [
       "dict_keys(['accuracy_t1', 'chanlocs', 'data', 'keyboard_response', 'markers_target', 'nbTrials', 'nbTrials_nontarget', 'nbTrials_target', 'srate', 'target'])"
      ]
     },
     "execution_count": 7,
     "metadata": {},
     "output_type": "execute_result"
    }
   ],
   "source": [
    "EEG['RSVP'].keys()"
   ]
  },
  {
   "cell_type": "code",
   "execution_count": 10,
   "metadata": {},
   "outputs": [
    {
     "data": {
      "text/plain": [
       "array([[-22.28307343, -28.10352898, -31.72365379, ..., -58.98933029,\n",
       "        -60.01023483, -61.5905838 ],\n",
       "       [ 37.1714325 ,  29.36697006,  23.67318153, ..., -11.28929424,\n",
       "        -11.91798306, -10.6981945 ],\n",
       "       [  3.29181385,  -0.32949379,  -0.24470732, ..., -16.37091446,\n",
       "        -15.91370106, -15.53999805],\n",
       "       ...,\n",
       "       [-16.4982357 , -21.23736   , -22.346735  , ..., -52.62401581,\n",
       "        -52.4106636 , -50.44983673],\n",
       "       [ 41.17608261,  36.11454391,  33.31502151, ..., -10.31910038,\n",
       "        -11.26855564, -11.28609276],\n",
       "       [ 16.31048203,  11.76788425,   9.03576183, ..., -21.76364326,\n",
       "        -22.84052467, -23.53224564]])"
      ]
     },
     "execution_count": 10,
     "metadata": {},
     "output_type": "execute_result"
    }
   ],
   "source": [
    "EEG['RSVP']['data']"
   ]
  },
  {
   "cell_type": "code",
   "execution_count": 12,
   "metadata": {},
   "outputs": [
    {
     "data": {
      "text/plain": [
       "(32, 166770)"
      ]
     },
     "execution_count": 12,
     "metadata": {},
     "output_type": "execute_result"
    }
   ],
   "source": [
    "EEG['RSVP']['data'].shape"
   ]
  },
  {
   "cell_type": "code",
   "execution_count": 19,
   "metadata": {},
   "outputs": [
    {
     "data": {
      "text/plain": [
       "list"
      ]
     },
     "execution_count": 19,
     "metadata": {},
     "output_type": "execute_result"
    }
   ],
   "source": [
    "type(EEG['test'])"
   ]
  },
  {
   "cell_type": "code",
   "execution_count": 27,
   "metadata": {},
   "outputs": [
    {
     "data": {
      "text/plain": [
       "{'chanlocs': [{'X': array(0.95047716),\n",
       "   'Y': array(0.30882875),\n",
       "   'Z': array(-0.0348995),\n",
       "   'labels': 'FP1',\n",
       "   'radius': array(0.51111111),\n",
       "   'sph_phi': array(-2.),\n",
       "   'sph_phi_besa': array(-72.),\n",
       "   'sph_radius': array(1.),\n",
       "   'sph_theta': array(18.),\n",
       "   'sph_theta_besa': array(-92.),\n",
       "   'theta': array(-18.)},\n",
       "  {'X': array(0.88484606),\n",
       "   'Y': array(0.37559487),\n",
       "   'Z': array(0.27563736),\n",
       "   'labels': 'AF3',\n",
       "   'radius': array(0.41111111),\n",
       "   'sph_phi': array(16.),\n",
       "   'sph_phi_besa': array(-67.),\n",
       "   'sph_radius': array(1.),\n",
       "   'sph_theta': array(23.),\n",
       "   'sph_theta_besa': array(-74.),\n",
       "   'theta': array(-23.)},\n",
       "  {'X': array(0.58742719),\n",
       "   'Y': array(0.80852416),\n",
       "   'Z': array(-0.0348995),\n",
       "   'labels': 'F7',\n",
       "   'radius': array(0.51111111),\n",
       "   'sph_phi': array(-2.),\n",
       "   'sph_phi_besa': array(-36.),\n",
       "   'sph_radius': array(1.),\n",
       "   'sph_theta': array(54.),\n",
       "   'sph_theta_besa': array(-92.),\n",
       "   'theta': array(-54.)},\n",
       "  {'X': array(0.67302815),\n",
       "   'Y': array(0.54500745),\n",
       "   'Z': array(0.5),\n",
       "   'labels': 'F3',\n",
       "   'radius': array(0.33333333),\n",
       "   'sph_phi': array(30.),\n",
       "   'sph_phi_besa': array(-51.),\n",
       "   'sph_radius': array(1.),\n",
       "   'sph_theta': array(39.),\n",
       "   'sph_theta_besa': array(-60.),\n",
       "   'theta': array(-39.)},\n",
       "  {'X': array(0.37470951),\n",
       "   'Y': array(0.37470951),\n",
       "   'Z': array(0.8480481),\n",
       "   'labels': 'FC1',\n",
       "   'radius': array(0.17777778),\n",
       "   'sph_phi': array(58.),\n",
       "   'sph_phi_besa': array(-45.),\n",
       "   'sph_radius': array(1.),\n",
       "   'sph_theta': array(45.),\n",
       "   'sph_theta_besa': array(-32.),\n",
       "   'theta': array(-45.)},\n",
       "  {'X': array(0.33884355),\n",
       "   'Y': array(0.88271764),\n",
       "   'Z': array(0.32556815),\n",
       "   'labels': 'FC5',\n",
       "   'radius': array(0.39444444),\n",
       "   'sph_phi': array(19.),\n",
       "   'sph_phi_besa': array(-21.),\n",
       "   'sph_radius': array(1.),\n",
       "   'sph_theta': array(69.),\n",
       "   'sph_theta_besa': array(-71.),\n",
       "   'theta': array(-69.)},\n",
       "  {'X': array(6.11950389e-17),\n",
       "   'Y': array(0.99939083),\n",
       "   'Z': array(-0.0348995),\n",
       "   'labels': 'T7',\n",
       "   'radius': array(0.51111111),\n",
       "   'sph_phi': array(-2.),\n",
       "   'sph_phi_besa': array(-0.),\n",
       "   'sph_radius': array(1.),\n",
       "   'sph_theta': array(90.),\n",
       "   'sph_theta_besa': array(-92.),\n",
       "   'theta': array(-90.)},\n",
       "  {'X': array(4.40468592e-17),\n",
       "   'Y': array(0.7193398),\n",
       "   'Z': array(0.69465837),\n",
       "   'labels': 'C3',\n",
       "   'radius': array(0.25555556),\n",
       "   'sph_phi': array(44.),\n",
       "   'sph_phi_besa': array(-0.),\n",
       "   'sph_radius': array(1.),\n",
       "   'sph_theta': array(90.),\n",
       "   'sph_theta_besa': array(-46.),\n",
       "   'theta': array(-90.)},\n",
       "  {'X': array(-0.37470951),\n",
       "   'Y': array(0.37470951),\n",
       "   'Z': array(0.8480481),\n",
       "   'labels': 'CP1',\n",
       "   'radius': array(0.17777778),\n",
       "   'sph_phi': array(58.),\n",
       "   'sph_phi_besa': array(45.),\n",
       "   'sph_radius': array(1.),\n",
       "   'sph_theta': array(135.),\n",
       "   'sph_theta_besa': array(-32.),\n",
       "   'theta': array(-135.)},\n",
       "  {'X': array(-0.33884355),\n",
       "   'Y': array(0.88271764),\n",
       "   'Z': array(0.32556815),\n",
       "   'labels': 'CP5',\n",
       "   'radius': array(0.39444444),\n",
       "   'sph_phi': array(19.),\n",
       "   'sph_phi_besa': array(21.),\n",
       "   'sph_radius': array(1.),\n",
       "   'sph_theta': array(111.),\n",
       "   'sph_theta_besa': array(-71.),\n",
       "   'theta': array(-111.)},\n",
       "  {'X': array(-0.58742719),\n",
       "   'Y': array(0.80852416),\n",
       "   'Z': array(-0.0348995),\n",
       "   'labels': 'P7',\n",
       "   'radius': array(0.51111111),\n",
       "   'sph_phi': array(-2.),\n",
       "   'sph_phi_besa': array(36.),\n",
       "   'sph_radius': array(1.),\n",
       "   'sph_theta': array(126.),\n",
       "   'sph_theta_besa': array(-92.),\n",
       "   'theta': array(-126.)},\n",
       "  {'X': array(-0.67302815),\n",
       "   'Y': array(0.54500745),\n",
       "   'Z': array(0.5),\n",
       "   'labels': 'P3',\n",
       "   'radius': array(0.33333333),\n",
       "   'sph_phi': array(30.),\n",
       "   'sph_phi_besa': array(51.),\n",
       "   'sph_radius': array(1.),\n",
       "   'sph_theta': array(141.),\n",
       "   'sph_theta_besa': array(-60.),\n",
       "   'theta': array(-141.)},\n",
       "  {'X': array(-0.7193398),\n",
       "   'Y': array(-8.80937184e-17),\n",
       "   'Z': array(0.69465837),\n",
       "   'labels': 'Pz',\n",
       "   'radius': array(0.25555556),\n",
       "   'sph_phi': array(44.),\n",
       "   'sph_phi_besa': array(-90.),\n",
       "   'sph_radius': array(1.),\n",
       "   'sph_theta': array(-180.),\n",
       "   'sph_theta_besa': array(46.),\n",
       "   'theta': array(180.)},\n",
       "  {'X': array(-0.88484606),\n",
       "   'Y': array(0.37559487),\n",
       "   'Z': array(0.27563736),\n",
       "   'labels': 'PO3',\n",
       "   'radius': array(0.41111111),\n",
       "   'sph_phi': array(16.),\n",
       "   'sph_phi_besa': array(67.),\n",
       "   'sph_radius': array(1.),\n",
       "   'sph_theta': array(157.),\n",
       "   'sph_theta_besa': array(-74.),\n",
       "   'theta': array(-157.)},\n",
       "  {'X': array(-0.95047716),\n",
       "   'Y': array(0.30882875),\n",
       "   'Z': array(-0.0348995),\n",
       "   'labels': 'O1',\n",
       "   'radius': array(0.51111111),\n",
       "   'sph_phi': array(-2.),\n",
       "   'sph_phi_besa': array(72.),\n",
       "   'sph_radius': array(1.),\n",
       "   'sph_theta': array(162.),\n",
       "   'sph_theta_besa': array(-92.),\n",
       "   'theta': array(-162.)},\n",
       "  {'X': array(-0.99939083),\n",
       "   'Y': array(-1.22390078e-16),\n",
       "   'Z': array(-0.0348995),\n",
       "   'labels': 'Oz',\n",
       "   'radius': array(0.51111111),\n",
       "   'sph_phi': array(-2.),\n",
       "   'sph_phi_besa': array(-90.),\n",
       "   'sph_radius': array(1.),\n",
       "   'sph_theta': array(-180.),\n",
       "   'sph_theta_besa': array(92.),\n",
       "   'theta': array(180.)},\n",
       "  {'X': array(-0.95047716),\n",
       "   'Y': array(-0.30882875),\n",
       "   'Z': array(-0.0348995),\n",
       "   'labels': 'O2',\n",
       "   'radius': array(0.51111111),\n",
       "   'sph_phi': array(-2.),\n",
       "   'sph_phi_besa': array(-72.),\n",
       "   'sph_radius': array(1.),\n",
       "   'sph_theta': array(-162.),\n",
       "   'sph_theta_besa': array(92.),\n",
       "   'theta': array(162.)},\n",
       "  {'X': array(-0.88484606),\n",
       "   'Y': array(-0.37559487),\n",
       "   'Z': array(0.27563736),\n",
       "   'labels': 'PO4',\n",
       "   'radius': array(0.41111111),\n",
       "   'sph_phi': array(16.),\n",
       "   'sph_phi_besa': array(-67.),\n",
       "   'sph_radius': array(1.),\n",
       "   'sph_theta': array(-157.),\n",
       "   'sph_theta_besa': array(74.),\n",
       "   'theta': array(157.)},\n",
       "  {'X': array(-0.67302815),\n",
       "   'Y': array(-0.54500745),\n",
       "   'Z': array(0.5),\n",
       "   'labels': 'P4',\n",
       "   'radius': array(0.33333333),\n",
       "   'sph_phi': array(30.),\n",
       "   'sph_phi_besa': array(-51.),\n",
       "   'sph_radius': array(1.),\n",
       "   'sph_theta': array(-141.),\n",
       "   'sph_theta_besa': array(60.),\n",
       "   'theta': array(141.)},\n",
       "  {'X': array(-0.58742719),\n",
       "   'Y': array(-0.80852416),\n",
       "   'Z': array(-0.0348995),\n",
       "   'labels': 'P8',\n",
       "   'radius': array(0.51111111),\n",
       "   'sph_phi': array(-2.),\n",
       "   'sph_phi_besa': array(-36.),\n",
       "   'sph_radius': array(1.),\n",
       "   'sph_theta': array(-126.),\n",
       "   'sph_theta_besa': array(92.),\n",
       "   'theta': array(126.)},\n",
       "  {'X': array(-0.33884355),\n",
       "   'Y': array(-0.88271764),\n",
       "   'Z': array(0.32556815),\n",
       "   'labels': 'CP6',\n",
       "   'radius': array(0.39444444),\n",
       "   'sph_phi': array(19.),\n",
       "   'sph_phi_besa': array(-21.),\n",
       "   'sph_radius': array(1.),\n",
       "   'sph_theta': array(-111.),\n",
       "   'sph_theta_besa': array(71.),\n",
       "   'theta': array(111.)},\n",
       "  {'X': array(-0.37470951),\n",
       "   'Y': array(-0.37470951),\n",
       "   'Z': array(0.8480481),\n",
       "   'labels': 'CP2',\n",
       "   'radius': array(0.17777778),\n",
       "   'sph_phi': array(58.),\n",
       "   'sph_phi_besa': array(-45.),\n",
       "   'sph_radius': array(1.),\n",
       "   'sph_theta': array(-135.),\n",
       "   'sph_theta_besa': array(32.),\n",
       "   'theta': array(135.)},\n",
       "  {'X': array(4.40468592e-17),\n",
       "   'Y': array(-0.7193398),\n",
       "   'Z': array(0.69465837),\n",
       "   'labels': 'C4',\n",
       "   'radius': array(0.25555556),\n",
       "   'sph_phi': array(44.),\n",
       "   'sph_phi_besa': array(0.),\n",
       "   'sph_radius': array(1.),\n",
       "   'sph_theta': array(-90.),\n",
       "   'sph_theta_besa': array(46.),\n",
       "   'theta': array(90.)},\n",
       "  {'X': array(6.11950389e-17),\n",
       "   'Y': array(-0.99939083),\n",
       "   'Z': array(-0.0348995),\n",
       "   'labels': 'T8',\n",
       "   'radius': array(0.51111111),\n",
       "   'sph_phi': array(-2.),\n",
       "   'sph_phi_besa': array(0.),\n",
       "   'sph_radius': array(1.),\n",
       "   'sph_theta': array(-90.),\n",
       "   'sph_theta_besa': array(92.),\n",
       "   'theta': array(90.)},\n",
       "  {'X': array(0.33884355),\n",
       "   'Y': array(-0.88271764),\n",
       "   'Z': array(0.32556815),\n",
       "   'labels': 'FC6',\n",
       "   'radius': array(0.39444444),\n",
       "   'sph_phi': array(19.),\n",
       "   'sph_phi_besa': array(21.),\n",
       "   'sph_radius': array(1.),\n",
       "   'sph_theta': array(-69.),\n",
       "   'sph_theta_besa': array(71.),\n",
       "   'theta': array(69.)},\n",
       "  {'X': array(0.37470951),\n",
       "   'Y': array(-0.37470951),\n",
       "   'Z': array(0.8480481),\n",
       "   'labels': 'FC2',\n",
       "   'radius': array(0.17777778),\n",
       "   'sph_phi': array(58.),\n",
       "   'sph_phi_besa': array(45.),\n",
       "   'sph_radius': array(1.),\n",
       "   'sph_theta': array(-45.),\n",
       "   'sph_theta_besa': array(32.),\n",
       "   'theta': array(45.)},\n",
       "  {'X': array(0.67302815),\n",
       "   'Y': array(-0.54500745),\n",
       "   'Z': array(0.5),\n",
       "   'labels': 'F4',\n",
       "   'radius': array(0.33333333),\n",
       "   'sph_phi': array(30.),\n",
       "   'sph_phi_besa': array(51.),\n",
       "   'sph_radius': array(1.),\n",
       "   'sph_theta': array(-39.),\n",
       "   'sph_theta_besa': array(60.),\n",
       "   'theta': array(39.)},\n",
       "  {'X': array(0.58742719),\n",
       "   'Y': array(-0.80852416),\n",
       "   'Z': array(-0.0348995),\n",
       "   'labels': 'F8',\n",
       "   'radius': array(0.51111111),\n",
       "   'sph_phi': array(-2.),\n",
       "   'sph_phi_besa': array(36.),\n",
       "   'sph_radius': array(1.),\n",
       "   'sph_theta': array(-54.),\n",
       "   'sph_theta_besa': array(92.),\n",
       "   'theta': array(54.)},\n",
       "  {'X': array(0.88484606),\n",
       "   'Y': array(-0.37559487),\n",
       "   'Z': array(0.27563736),\n",
       "   'labels': 'AF4',\n",
       "   'radius': array(0.41111111),\n",
       "   'sph_phi': array(16.),\n",
       "   'sph_phi_besa': array(67.),\n",
       "   'sph_radius': array(1.),\n",
       "   'sph_theta': array(-23.),\n",
       "   'sph_theta_besa': array(74.),\n",
       "   'theta': array(23.)},\n",
       "  {'X': array(0.95047716),\n",
       "   'Y': array(-0.30882875),\n",
       "   'Z': array(-0.0348995),\n",
       "   'labels': 'FP2',\n",
       "   'radius': array(0.51111111),\n",
       "   'sph_phi': array(-2.),\n",
       "   'sph_phi_besa': array(72.),\n",
       "   'sph_radius': array(1.),\n",
       "   'sph_theta': array(-18.),\n",
       "   'sph_theta_besa': array(92.),\n",
       "   'theta': array(18.)},\n",
       "  {'X': array(0.7193398),\n",
       "   'Y': array(0.),\n",
       "   'Z': array(0.69465837),\n",
       "   'labels': 'FZ',\n",
       "   'radius': array(0.25555556),\n",
       "   'sph_phi': array(44.),\n",
       "   'sph_phi_besa': array(90.),\n",
       "   'sph_radius': array(1.),\n",
       "   'sph_theta': array(0.),\n",
       "   'sph_theta_besa': array(46.),\n",
       "   'theta': array(-0.)},\n",
       "  {'X': array(3.74939946e-33),\n",
       "   'Y': array(-6.123234e-17),\n",
       "   'Z': array(1.),\n",
       "   'labels': 'Cz',\n",
       "   'radius': array(0.),\n",
       "   'sph_phi': array(90.),\n",
       "   'sph_phi_besa': array(0.),\n",
       "   'sph_radius': array(1.),\n",
       "   'sph_theta': array(-90.),\n",
       "   'sph_theta_besa': array(0.),\n",
       "   'theta': array(90.)}],\n",
       " 'data': array([[-40.15550744, -39.99250686, -37.26248953, ..., -36.02964691,\n",
       "         -36.85946934, -33.58930582],\n",
       "        [-28.5351924 , -29.22410333, -28.5141742 , ..., -17.13602356,\n",
       "         -17.69540302, -19.18941111],\n",
       "        [ 27.97870696,  26.01078618,  25.84344652, ..., -14.89229111,\n",
       "         -16.61532871, -17.37646479],\n",
       "        ...,\n",
       "        [-15.71692407, -12.55522716, -10.86471102, ..., -51.51781753,\n",
       "         -50.0896024 , -46.03137964],\n",
       "        [  9.65612471,  10.24582112,  10.78709199, ...,  12.06254192,\n",
       "          10.77690227,   8.48100668],\n",
       "        [ -3.18567598,  -2.76949108,  -2.81792662, ...,   7.95336624,\n",
       "           7.88002403,   7.09849554]]),\n",
       " 'markers_seq': array([0., 0., 0., ..., 0., 0., 0.]),\n",
       " 'markers_target': array([0., 0., 0., ..., 0., 0., 0.]),\n",
       " 'nbTrials': array(1260.),\n",
       " 'nbTrials_nontarget': array(1050.),\n",
       " 'nbTrials_target': array(210.),\n",
       " 'online_acc': array(0.85714286),\n",
       " 'srate': array(512.),\n",
       " 'text_result': 'SUBJECU',\n",
       " 'text_to_spell': 'SUBJECT'}"
      ]
     },
     "execution_count": 27,
     "metadata": {},
     "output_type": "execute_result"
    }
   ],
   "source": [
    "EEG['test'][0]"
   ]
  },
  {
   "cell_type": "code",
   "execution_count": 42,
   "metadata": {},
   "outputs": [
    {
     "name": "stdout",
     "output_type": "stream",
     "text": [
      "11\n"
     ]
    },
    {
     "data": {
      "text/plain": [
       "dict"
      ]
     },
     "execution_count": 42,
     "metadata": {},
     "output_type": "execute_result"
    }
   ],
   "source": [
    "print(len(EEG['train'][0]))\n",
    "type(EEG['train'][0])"
   ]
  },
  {
   "cell_type": "code",
   "execution_count": 26,
   "metadata": {},
   "outputs": [
    {
     "data": {
      "text/plain": [
       "dict_keys(['chanlocs', 'data', 'markers_seq', 'markers_target', 'nbTrials', 'nbTrials_nontarget', 'nbTrials_target', 'online_acc', 'srate', 'text_result', 'text_to_spell'])"
      ]
     },
     "execution_count": 26,
     "metadata": {},
     "output_type": "execute_result"
    }
   ],
   "source": [
    "EEG['train'][0].keys()"
   ]
  },
  {
   "cell_type": "code",
   "execution_count": 29,
   "metadata": {},
   "outputs": [],
   "source": [
    "cal_01 = EEG['train'][0]"
   ]
  },
  {
   "cell_type": "code",
   "execution_count": 37,
   "metadata": {},
   "outputs": [
    {
     "name": "stdout",
     "output_type": "stream",
     "text": [
      "*************************\n",
      "chanlocs [{'X': array(0.95047716), 'Y': array(0.30882875), 'Z': array(-0.0348995), 'labels': 'FP1', 'radius': array(0.51111111), 'sph_phi': array(-2.), 'sph_phi_besa': array(-72.), 'sph_radius': array(1.), 'sph_theta': array(18.), 'sph_theta_besa': array(-92.), 'theta': array(-18.)}, {'X': array(0.88484606), 'Y': array(0.37559487), 'Z': array(0.27563736), 'labels': 'AF3', 'radius': array(0.41111111), 'sph_phi': array(16.), 'sph_phi_besa': array(-67.), 'sph_radius': array(1.), 'sph_theta': array(23.), 'sph_theta_besa': array(-74.), 'theta': array(-23.)}, {'X': array(0.58742719), 'Y': array(0.80852416), 'Z': array(-0.0348995), 'labels': 'F7', 'radius': array(0.51111111), 'sph_phi': array(-2.), 'sph_phi_besa': array(-36.), 'sph_radius': array(1.), 'sph_theta': array(54.), 'sph_theta_besa': array(-92.), 'theta': array(-54.)}, {'X': array(0.67302815), 'Y': array(0.54500745), 'Z': array(0.5), 'labels': 'F3', 'radius': array(0.33333333), 'sph_phi': array(30.), 'sph_phi_besa': array(-51.), 'sph_radius': array(1.), 'sph_theta': array(39.), 'sph_theta_besa': array(-60.), 'theta': array(-39.)}, {'X': array(0.37470951), 'Y': array(0.37470951), 'Z': array(0.8480481), 'labels': 'FC1', 'radius': array(0.17777778), 'sph_phi': array(58.), 'sph_phi_besa': array(-45.), 'sph_radius': array(1.), 'sph_theta': array(45.), 'sph_theta_besa': array(-32.), 'theta': array(-45.)}, {'X': array(0.33884355), 'Y': array(0.88271764), 'Z': array(0.32556815), 'labels': 'FC5', 'radius': array(0.39444444), 'sph_phi': array(19.), 'sph_phi_besa': array(-21.), 'sph_radius': array(1.), 'sph_theta': array(69.), 'sph_theta_besa': array(-71.), 'theta': array(-69.)}, {'X': array(6.11950389e-17), 'Y': array(0.99939083), 'Z': array(-0.0348995), 'labels': 'T7', 'radius': array(0.51111111), 'sph_phi': array(-2.), 'sph_phi_besa': array(-0.), 'sph_radius': array(1.), 'sph_theta': array(90.), 'sph_theta_besa': array(-92.), 'theta': array(-90.)}, {'X': array(4.40468592e-17), 'Y': array(0.7193398), 'Z': array(0.69465837), 'labels': 'C3', 'radius': array(0.25555556), 'sph_phi': array(44.), 'sph_phi_besa': array(-0.), 'sph_radius': array(1.), 'sph_theta': array(90.), 'sph_theta_besa': array(-46.), 'theta': array(-90.)}, {'X': array(-0.37470951), 'Y': array(0.37470951), 'Z': array(0.8480481), 'labels': 'CP1', 'radius': array(0.17777778), 'sph_phi': array(58.), 'sph_phi_besa': array(45.), 'sph_radius': array(1.), 'sph_theta': array(135.), 'sph_theta_besa': array(-32.), 'theta': array(-135.)}, {'X': array(-0.33884355), 'Y': array(0.88271764), 'Z': array(0.32556815), 'labels': 'CP5', 'radius': array(0.39444444), 'sph_phi': array(19.), 'sph_phi_besa': array(21.), 'sph_radius': array(1.), 'sph_theta': array(111.), 'sph_theta_besa': array(-71.), 'theta': array(-111.)}, {'X': array(-0.58742719), 'Y': array(0.80852416), 'Z': array(-0.0348995), 'labels': 'P7', 'radius': array(0.51111111), 'sph_phi': array(-2.), 'sph_phi_besa': array(36.), 'sph_radius': array(1.), 'sph_theta': array(126.), 'sph_theta_besa': array(-92.), 'theta': array(-126.)}, {'X': array(-0.67302815), 'Y': array(0.54500745), 'Z': array(0.5), 'labels': 'P3', 'radius': array(0.33333333), 'sph_phi': array(30.), 'sph_phi_besa': array(51.), 'sph_radius': array(1.), 'sph_theta': array(141.), 'sph_theta_besa': array(-60.), 'theta': array(-141.)}, {'X': array(-0.7193398), 'Y': array(-8.80937184e-17), 'Z': array(0.69465837), 'labels': 'Pz', 'radius': array(0.25555556), 'sph_phi': array(44.), 'sph_phi_besa': array(-90.), 'sph_radius': array(1.), 'sph_theta': array(-180.), 'sph_theta_besa': array(46.), 'theta': array(180.)}, {'X': array(-0.88484606), 'Y': array(0.37559487), 'Z': array(0.27563736), 'labels': 'PO3', 'radius': array(0.41111111), 'sph_phi': array(16.), 'sph_phi_besa': array(67.), 'sph_radius': array(1.), 'sph_theta': array(157.), 'sph_theta_besa': array(-74.), 'theta': array(-157.)}, {'X': array(-0.95047716), 'Y': array(0.30882875), 'Z': array(-0.0348995), 'labels': 'O1', 'radius': array(0.51111111), 'sph_phi': array(-2.), 'sph_phi_besa': array(72.), 'sph_radius': array(1.), 'sph_theta': array(162.), 'sph_theta_besa': array(-92.), 'theta': array(-162.)}, {'X': array(-0.99939083), 'Y': array(-1.22390078e-16), 'Z': array(-0.0348995), 'labels': 'Oz', 'radius': array(0.51111111), 'sph_phi': array(-2.), 'sph_phi_besa': array(-90.), 'sph_radius': array(1.), 'sph_theta': array(-180.), 'sph_theta_besa': array(92.), 'theta': array(180.)}, {'X': array(-0.95047716), 'Y': array(-0.30882875), 'Z': array(-0.0348995), 'labels': 'O2', 'radius': array(0.51111111), 'sph_phi': array(-2.), 'sph_phi_besa': array(-72.), 'sph_radius': array(1.), 'sph_theta': array(-162.), 'sph_theta_besa': array(92.), 'theta': array(162.)}, {'X': array(-0.88484606), 'Y': array(-0.37559487), 'Z': array(0.27563736), 'labels': 'PO4', 'radius': array(0.41111111), 'sph_phi': array(16.), 'sph_phi_besa': array(-67.), 'sph_radius': array(1.), 'sph_theta': array(-157.), 'sph_theta_besa': array(74.), 'theta': array(157.)}, {'X': array(-0.67302815), 'Y': array(-0.54500745), 'Z': array(0.5), 'labels': 'P4', 'radius': array(0.33333333), 'sph_phi': array(30.), 'sph_phi_besa': array(-51.), 'sph_radius': array(1.), 'sph_theta': array(-141.), 'sph_theta_besa': array(60.), 'theta': array(141.)}, {'X': array(-0.58742719), 'Y': array(-0.80852416), 'Z': array(-0.0348995), 'labels': 'P8', 'radius': array(0.51111111), 'sph_phi': array(-2.), 'sph_phi_besa': array(-36.), 'sph_radius': array(1.), 'sph_theta': array(-126.), 'sph_theta_besa': array(92.), 'theta': array(126.)}, {'X': array(-0.33884355), 'Y': array(-0.88271764), 'Z': array(0.32556815), 'labels': 'CP6', 'radius': array(0.39444444), 'sph_phi': array(19.), 'sph_phi_besa': array(-21.), 'sph_radius': array(1.), 'sph_theta': array(-111.), 'sph_theta_besa': array(71.), 'theta': array(111.)}, {'X': array(-0.37470951), 'Y': array(-0.37470951), 'Z': array(0.8480481), 'labels': 'CP2', 'radius': array(0.17777778), 'sph_phi': array(58.), 'sph_phi_besa': array(-45.), 'sph_radius': array(1.), 'sph_theta': array(-135.), 'sph_theta_besa': array(32.), 'theta': array(135.)}, {'X': array(4.40468592e-17), 'Y': array(-0.7193398), 'Z': array(0.69465837), 'labels': 'C4', 'radius': array(0.25555556), 'sph_phi': array(44.), 'sph_phi_besa': array(0.), 'sph_radius': array(1.), 'sph_theta': array(-90.), 'sph_theta_besa': array(46.), 'theta': array(90.)}, {'X': array(6.11950389e-17), 'Y': array(-0.99939083), 'Z': array(-0.0348995), 'labels': 'T8', 'radius': array(0.51111111), 'sph_phi': array(-2.), 'sph_phi_besa': array(0.), 'sph_radius': array(1.), 'sph_theta': array(-90.), 'sph_theta_besa': array(92.), 'theta': array(90.)}, {'X': array(0.33884355), 'Y': array(-0.88271764), 'Z': array(0.32556815), 'labels': 'FC6', 'radius': array(0.39444444), 'sph_phi': array(19.), 'sph_phi_besa': array(21.), 'sph_radius': array(1.), 'sph_theta': array(-69.), 'sph_theta_besa': array(71.), 'theta': array(69.)}, {'X': array(0.37470951), 'Y': array(-0.37470951), 'Z': array(0.8480481), 'labels': 'FC2', 'radius': array(0.17777778), 'sph_phi': array(58.), 'sph_phi_besa': array(45.), 'sph_radius': array(1.), 'sph_theta': array(-45.), 'sph_theta_besa': array(32.), 'theta': array(45.)}, {'X': array(0.67302815), 'Y': array(-0.54500745), 'Z': array(0.5), 'labels': 'F4', 'radius': array(0.33333333), 'sph_phi': array(30.), 'sph_phi_besa': array(51.), 'sph_radius': array(1.), 'sph_theta': array(-39.), 'sph_theta_besa': array(60.), 'theta': array(39.)}, {'X': array(0.58742719), 'Y': array(-0.80852416), 'Z': array(-0.0348995), 'labels': 'F8', 'radius': array(0.51111111), 'sph_phi': array(-2.), 'sph_phi_besa': array(36.), 'sph_radius': array(1.), 'sph_theta': array(-54.), 'sph_theta_besa': array(92.), 'theta': array(54.)}, {'X': array(0.88484606), 'Y': array(-0.37559487), 'Z': array(0.27563736), 'labels': 'AF4', 'radius': array(0.41111111), 'sph_phi': array(16.), 'sph_phi_besa': array(67.), 'sph_radius': array(1.), 'sph_theta': array(-23.), 'sph_theta_besa': array(74.), 'theta': array(23.)}, {'X': array(0.95047716), 'Y': array(-0.30882875), 'Z': array(-0.0348995), 'labels': 'FP2', 'radius': array(0.51111111), 'sph_phi': array(-2.), 'sph_phi_besa': array(72.), 'sph_radius': array(1.), 'sph_theta': array(-18.), 'sph_theta_besa': array(92.), 'theta': array(18.)}, {'X': array(0.7193398), 'Y': array(0.), 'Z': array(0.69465837), 'labels': 'FZ', 'radius': array(0.25555556), 'sph_phi': array(44.), 'sph_phi_besa': array(90.), 'sph_radius': array(1.), 'sph_theta': array(0.), 'sph_theta_besa': array(46.), 'theta': array(-0.)}, {'X': array(3.74939946e-33), 'Y': array(-6.123234e-17), 'Z': array(1.), 'labels': 'Cz', 'radius': array(0.), 'sph_phi': array(90.), 'sph_phi_besa': array(0.), 'sph_radius': array(1.), 'sph_theta': array(-90.), 'sph_theta_besa': array(0.), 'theta': array(90.)}]\n",
      "data [[-15.93772623 -13.84439812 -12.74234446 ... -23.03133021 -25.62126822\n",
      "  -27.68425291]\n",
      " [-15.65041468 -15.23191414 -15.78227289 ...  -7.78646384  -7.46472353\n",
      "   -8.12912195]\n",
      " [  2.57278064   2.20179977   0.73351495 ... -24.29084121 -23.98951716\n",
      "  -25.21242445]\n",
      " ...\n",
      " [ -6.61377117  -4.233358    -2.64722283 ...  -7.58094512  -8.57125849\n",
      "   -9.78834456]\n",
      " [ -8.66699431  -7.81863174  -7.47784193 ...  11.34613599  10.72447687\n",
      "   10.57287008]\n",
      " [ -3.10987565  -3.27721128  -3.21324463 ...  -7.32540904  -6.70724101\n",
      "   -6.90843027]]\n",
      "markers_seq [0. 0. 0. ... 0. 0. 0.]\n",
      "markers_target [0. 0. 0. ... 0. 0. 0.]\n",
      "nbTrials 900.0\n",
      "nbTrials_nontarget 750.0\n",
      "nbTrials_target 150.0\n",
      "online_acc 0.0\n",
      "srate 512.0\n",
      "text_result HWIH1\n",
      "text_to_spell BRAIN\n",
      "*************************\n",
      "chanlocs [{'X': array(0.95047716), 'Y': array(0.30882875), 'Z': array(-0.0348995), 'labels': 'FP1', 'radius': array(0.51111111), 'sph_phi': array(-2.), 'sph_phi_besa': array(-72.), 'sph_radius': array(1.), 'sph_theta': array(18.), 'sph_theta_besa': array(-92.), 'theta': array(-18.)}, {'X': array(0.88484606), 'Y': array(0.37559487), 'Z': array(0.27563736), 'labels': 'AF3', 'radius': array(0.41111111), 'sph_phi': array(16.), 'sph_phi_besa': array(-67.), 'sph_radius': array(1.), 'sph_theta': array(23.), 'sph_theta_besa': array(-74.), 'theta': array(-23.)}, {'X': array(0.58742719), 'Y': array(0.80852416), 'Z': array(-0.0348995), 'labels': 'F7', 'radius': array(0.51111111), 'sph_phi': array(-2.), 'sph_phi_besa': array(-36.), 'sph_radius': array(1.), 'sph_theta': array(54.), 'sph_theta_besa': array(-92.), 'theta': array(-54.)}, {'X': array(0.67302815), 'Y': array(0.54500745), 'Z': array(0.5), 'labels': 'F3', 'radius': array(0.33333333), 'sph_phi': array(30.), 'sph_phi_besa': array(-51.), 'sph_radius': array(1.), 'sph_theta': array(39.), 'sph_theta_besa': array(-60.), 'theta': array(-39.)}, {'X': array(0.37470951), 'Y': array(0.37470951), 'Z': array(0.8480481), 'labels': 'FC1', 'radius': array(0.17777778), 'sph_phi': array(58.), 'sph_phi_besa': array(-45.), 'sph_radius': array(1.), 'sph_theta': array(45.), 'sph_theta_besa': array(-32.), 'theta': array(-45.)}, {'X': array(0.33884355), 'Y': array(0.88271764), 'Z': array(0.32556815), 'labels': 'FC5', 'radius': array(0.39444444), 'sph_phi': array(19.), 'sph_phi_besa': array(-21.), 'sph_radius': array(1.), 'sph_theta': array(69.), 'sph_theta_besa': array(-71.), 'theta': array(-69.)}, {'X': array(6.11950389e-17), 'Y': array(0.99939083), 'Z': array(-0.0348995), 'labels': 'T7', 'radius': array(0.51111111), 'sph_phi': array(-2.), 'sph_phi_besa': array(-0.), 'sph_radius': array(1.), 'sph_theta': array(90.), 'sph_theta_besa': array(-92.), 'theta': array(-90.)}, {'X': array(4.40468592e-17), 'Y': array(0.7193398), 'Z': array(0.69465837), 'labels': 'C3', 'radius': array(0.25555556), 'sph_phi': array(44.), 'sph_phi_besa': array(-0.), 'sph_radius': array(1.), 'sph_theta': array(90.), 'sph_theta_besa': array(-46.), 'theta': array(-90.)}, {'X': array(-0.37470951), 'Y': array(0.37470951), 'Z': array(0.8480481), 'labels': 'CP1', 'radius': array(0.17777778), 'sph_phi': array(58.), 'sph_phi_besa': array(45.), 'sph_radius': array(1.), 'sph_theta': array(135.), 'sph_theta_besa': array(-32.), 'theta': array(-135.)}, {'X': array(-0.33884355), 'Y': array(0.88271764), 'Z': array(0.32556815), 'labels': 'CP5', 'radius': array(0.39444444), 'sph_phi': array(19.), 'sph_phi_besa': array(21.), 'sph_radius': array(1.), 'sph_theta': array(111.), 'sph_theta_besa': array(-71.), 'theta': array(-111.)}, {'X': array(-0.58742719), 'Y': array(0.80852416), 'Z': array(-0.0348995), 'labels': 'P7', 'radius': array(0.51111111), 'sph_phi': array(-2.), 'sph_phi_besa': array(36.), 'sph_radius': array(1.), 'sph_theta': array(126.), 'sph_theta_besa': array(-92.), 'theta': array(-126.)}, {'X': array(-0.67302815), 'Y': array(0.54500745), 'Z': array(0.5), 'labels': 'P3', 'radius': array(0.33333333), 'sph_phi': array(30.), 'sph_phi_besa': array(51.), 'sph_radius': array(1.), 'sph_theta': array(141.), 'sph_theta_besa': array(-60.), 'theta': array(-141.)}, {'X': array(-0.7193398), 'Y': array(-8.80937184e-17), 'Z': array(0.69465837), 'labels': 'Pz', 'radius': array(0.25555556), 'sph_phi': array(44.), 'sph_phi_besa': array(-90.), 'sph_radius': array(1.), 'sph_theta': array(-180.), 'sph_theta_besa': array(46.), 'theta': array(180.)}, {'X': array(-0.88484606), 'Y': array(0.37559487), 'Z': array(0.27563736), 'labels': 'PO3', 'radius': array(0.41111111), 'sph_phi': array(16.), 'sph_phi_besa': array(67.), 'sph_radius': array(1.), 'sph_theta': array(157.), 'sph_theta_besa': array(-74.), 'theta': array(-157.)}, {'X': array(-0.95047716), 'Y': array(0.30882875), 'Z': array(-0.0348995), 'labels': 'O1', 'radius': array(0.51111111), 'sph_phi': array(-2.), 'sph_phi_besa': array(72.), 'sph_radius': array(1.), 'sph_theta': array(162.), 'sph_theta_besa': array(-92.), 'theta': array(-162.)}, {'X': array(-0.99939083), 'Y': array(-1.22390078e-16), 'Z': array(-0.0348995), 'labels': 'Oz', 'radius': array(0.51111111), 'sph_phi': array(-2.), 'sph_phi_besa': array(-90.), 'sph_radius': array(1.), 'sph_theta': array(-180.), 'sph_theta_besa': array(92.), 'theta': array(180.)}, {'X': array(-0.95047716), 'Y': array(-0.30882875), 'Z': array(-0.0348995), 'labels': 'O2', 'radius': array(0.51111111), 'sph_phi': array(-2.), 'sph_phi_besa': array(-72.), 'sph_radius': array(1.), 'sph_theta': array(-162.), 'sph_theta_besa': array(92.), 'theta': array(162.)}, {'X': array(-0.88484606), 'Y': array(-0.37559487), 'Z': array(0.27563736), 'labels': 'PO4', 'radius': array(0.41111111), 'sph_phi': array(16.), 'sph_phi_besa': array(-67.), 'sph_radius': array(1.), 'sph_theta': array(-157.), 'sph_theta_besa': array(74.), 'theta': array(157.)}, {'X': array(-0.67302815), 'Y': array(-0.54500745), 'Z': array(0.5), 'labels': 'P4', 'radius': array(0.33333333), 'sph_phi': array(30.), 'sph_phi_besa': array(-51.), 'sph_radius': array(1.), 'sph_theta': array(-141.), 'sph_theta_besa': array(60.), 'theta': array(141.)}, {'X': array(-0.58742719), 'Y': array(-0.80852416), 'Z': array(-0.0348995), 'labels': 'P8', 'radius': array(0.51111111), 'sph_phi': array(-2.), 'sph_phi_besa': array(-36.), 'sph_radius': array(1.), 'sph_theta': array(-126.), 'sph_theta_besa': array(92.), 'theta': array(126.)}, {'X': array(-0.33884355), 'Y': array(-0.88271764), 'Z': array(0.32556815), 'labels': 'CP6', 'radius': array(0.39444444), 'sph_phi': array(19.), 'sph_phi_besa': array(-21.), 'sph_radius': array(1.), 'sph_theta': array(-111.), 'sph_theta_besa': array(71.), 'theta': array(111.)}, {'X': array(-0.37470951), 'Y': array(-0.37470951), 'Z': array(0.8480481), 'labels': 'CP2', 'radius': array(0.17777778), 'sph_phi': array(58.), 'sph_phi_besa': array(-45.), 'sph_radius': array(1.), 'sph_theta': array(-135.), 'sph_theta_besa': array(32.), 'theta': array(135.)}, {'X': array(4.40468592e-17), 'Y': array(-0.7193398), 'Z': array(0.69465837), 'labels': 'C4', 'radius': array(0.25555556), 'sph_phi': array(44.), 'sph_phi_besa': array(0.), 'sph_radius': array(1.), 'sph_theta': array(-90.), 'sph_theta_besa': array(46.), 'theta': array(90.)}, {'X': array(6.11950389e-17), 'Y': array(-0.99939083), 'Z': array(-0.0348995), 'labels': 'T8', 'radius': array(0.51111111), 'sph_phi': array(-2.), 'sph_phi_besa': array(0.), 'sph_radius': array(1.), 'sph_theta': array(-90.), 'sph_theta_besa': array(92.), 'theta': array(90.)}, {'X': array(0.33884355), 'Y': array(-0.88271764), 'Z': array(0.32556815), 'labels': 'FC6', 'radius': array(0.39444444), 'sph_phi': array(19.), 'sph_phi_besa': array(21.), 'sph_radius': array(1.), 'sph_theta': array(-69.), 'sph_theta_besa': array(71.), 'theta': array(69.)}, {'X': array(0.37470951), 'Y': array(-0.37470951), 'Z': array(0.8480481), 'labels': 'FC2', 'radius': array(0.17777778), 'sph_phi': array(58.), 'sph_phi_besa': array(45.), 'sph_radius': array(1.), 'sph_theta': array(-45.), 'sph_theta_besa': array(32.), 'theta': array(45.)}, {'X': array(0.67302815), 'Y': array(-0.54500745), 'Z': array(0.5), 'labels': 'F4', 'radius': array(0.33333333), 'sph_phi': array(30.), 'sph_phi_besa': array(51.), 'sph_radius': array(1.), 'sph_theta': array(-39.), 'sph_theta_besa': array(60.), 'theta': array(39.)}, {'X': array(0.58742719), 'Y': array(-0.80852416), 'Z': array(-0.0348995), 'labels': 'F8', 'radius': array(0.51111111), 'sph_phi': array(-2.), 'sph_phi_besa': array(36.), 'sph_radius': array(1.), 'sph_theta': array(-54.), 'sph_theta_besa': array(92.), 'theta': array(54.)}, {'X': array(0.88484606), 'Y': array(-0.37559487), 'Z': array(0.27563736), 'labels': 'AF4', 'radius': array(0.41111111), 'sph_phi': array(16.), 'sph_phi_besa': array(67.), 'sph_radius': array(1.), 'sph_theta': array(-23.), 'sph_theta_besa': array(74.), 'theta': array(23.)}, {'X': array(0.95047716), 'Y': array(-0.30882875), 'Z': array(-0.0348995), 'labels': 'FP2', 'radius': array(0.51111111), 'sph_phi': array(-2.), 'sph_phi_besa': array(72.), 'sph_radius': array(1.), 'sph_theta': array(-18.), 'sph_theta_besa': array(92.), 'theta': array(18.)}, {'X': array(0.7193398), 'Y': array(0.), 'Z': array(0.69465837), 'labels': 'FZ', 'radius': array(0.25555556), 'sph_phi': array(44.), 'sph_phi_besa': array(90.), 'sph_radius': array(1.), 'sph_theta': array(0.), 'sph_theta_besa': array(46.), 'theta': array(-0.)}, {'X': array(3.74939946e-33), 'Y': array(-6.123234e-17), 'Z': array(1.), 'labels': 'Cz', 'radius': array(0.), 'sph_phi': array(90.), 'sph_phi_besa': array(0.), 'sph_radius': array(1.), 'sph_theta': array(-90.), 'sph_theta_besa': array(0.), 'theta': array(90.)}]\n",
      "data [[-15.93772623 -13.84439812 -12.74234446 ... -23.03133021 -25.62126822\n",
      "  -27.68425291]\n",
      " [-15.65041468 -15.23191414 -15.78227289 ...  -7.78646384  -7.46472353\n",
      "   -8.12912195]\n",
      " [  2.57278064   2.20179977   0.73351495 ... -24.29084121 -23.98951716\n",
      "  -25.21242445]\n",
      " ...\n",
      " [ -6.61377117  -4.233358    -2.64722283 ...  -7.58094512  -8.57125849\n",
      "   -9.78834456]\n",
      " [ -8.66699431  -7.81863174  -7.47784193 ...  11.34613599  10.72447687\n",
      "   10.57287008]\n",
      " [ -3.10987565  -3.27721128  -3.21324463 ...  -7.32540904  -6.70724101\n",
      "   -6.90843027]]\n",
      "markers_seq [0. 0. 0. ... 0. 0. 0.]\n",
      "markers_target [0. 0. 0. ... 0. 0. 0.]\n",
      "nbTrials 900.0\n",
      "nbTrials_nontarget 750.0\n",
      "nbTrials_target 150.0\n",
      "online_acc 0.0\n",
      "srate 512.0\n",
      "text_result HWIH1\n",
      "text_to_spell BRAIN\n"
     ]
    }
   ],
   "source": [
    "\n",
    "for cal in EEG['train']:              # 2 Calibration runs. \n",
    "    print(\"*************************\")\n",
    "    for key in cal:\n",
    "        print(key, cal_01[key])\n"
   ]
  },
  {
   "cell_type": "code",
   "execution_count": 45,
   "metadata": {},
   "outputs": [
    {
     "name": "stdout",
     "output_type": "stream",
     "text": [
      "(32, 117120)\n"
     ]
    }
   ],
   "source": [
    "data = cal_01['data']\n",
    "print(data.shape)             # 32 channels and the 1/512 * 117120 = nearly 4 minites "
   ]
  },
  {
   "cell_type": "code",
   "execution_count": 46,
   "metadata": {},
   "outputs": [
    {
     "data": {
      "text/plain": [
       "array([[-15.93772623, -13.84439812, -12.74234446, ..., -23.03133021,\n",
       "        -25.62126822, -27.68425291],\n",
       "       [-15.65041468, -15.23191414, -15.78227289, ...,  -7.78646384,\n",
       "         -7.46472353,  -8.12912195],\n",
       "       [  2.57278064,   2.20179977,   0.73351495, ..., -24.29084121,\n",
       "        -23.98951716, -25.21242445],\n",
       "       ...,\n",
       "       [ -6.61377117,  -4.233358  ,  -2.64722283, ...,  -7.58094512,\n",
       "         -8.57125849,  -9.78834456],\n",
       "       [ -8.66699431,  -7.81863174,  -7.47784193, ...,  11.34613599,\n",
       "         10.72447687,  10.57287008],\n",
       "       [ -3.10987565,  -3.27721128,  -3.21324463, ...,  -7.32540904,\n",
       "         -6.70724101,  -6.90843027]])"
      ]
     },
     "execution_count": 46,
     "metadata": {},
     "output_type": "execute_result"
    }
   ],
   "source": [
    "data"
   ]
  },
  {
   "cell_type": "code",
   "execution_count": 60,
   "metadata": {},
   "outputs": [
    {
     "name": "stdout",
     "output_type": "stream",
     "text": [
      "[0. 0. 0. ... 0. 0. 0.]\n",
      "<class 'numpy.ndarray'>\n",
      "0 116220\n",
      "1 150\n",
      "2 750\n"
     ]
    }
   ],
   "source": [
    "print(cal_01['markers_target'])\n",
    "markers = cal_01['markers_target']\n",
    "print(type(markers))\n",
    "\n",
    "print(0,np.count_nonzero(markers == 0))\n",
    "print(1,np.count_nonzero(markers == 1)) # target IDs\n",
    "print(2,np.count_nonzero(markers == 2)) # non-target IDs"
   ]
  }
 ],
 "metadata": {
  "kernelspec": {
   "display_name": "base",
   "language": "python",
   "name": "python3"
  },
  "language_info": {
   "codemirror_mode": {
    "name": "ipython",
    "version": 3
   },
   "file_extension": ".py",
   "mimetype": "text/x-python",
   "name": "python",
   "nbconvert_exporter": "python",
   "pygments_lexer": "ipython3",
   "version": "3.8.8"
  }
 },
 "nbformat": 4,
 "nbformat_minor": 2
}
