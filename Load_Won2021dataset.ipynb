{
 "cells": [
  {
   "cell_type": "code",
   "execution_count": 1,
   "metadata": {
    "executionInfo": {
     "elapsed": 452,
     "status": "ok",
     "timestamp": 1630910980477,
     "user": {
      "displayName": "Kyungho Won",
      "photoUrl": "https://lh3.googleusercontent.com/a-/AOh14GjFDtLYzIB3ExPPuLRrY7LEt8jAOx_pz5B5UU4z1Q=s64",
      "userId": "05826323827943571801"
     },
     "user_tz": -540
    },
    "id": "9SQTdSADPNIV"
   },
   "outputs": [],
   "source": [
    "from google.colab import drive"
   ]
  },
  {
   "cell_type": "code",
   "execution_count": 2,
   "metadata": {
    "colab": {
     "base_uri": "https://localhost:8080/"
    },
    "executionInfo": {
     "elapsed": 13196,
     "status": "ok",
     "timestamp": 1630911007745,
     "user": {
      "displayName": "Kyungho Won",
      "photoUrl": "https://lh3.googleusercontent.com/a-/AOh14GjFDtLYzIB3ExPPuLRrY7LEt8jAOx_pz5B5UU4z1Q=s64",
      "userId": "05826323827943571801"
     },
     "user_tz": -540
    },
    "id": "T4aRRpiQrfaY",
    "outputId": "42996644-7600-40d8-871a-82693262479b"
   },
   "outputs": [
    {
     "name": "stdout",
     "output_type": "stream",
     "text": [
      "Mounted at /content/gdrive\n"
     ]
    }
   ],
   "source": [
    "drive.mount('/content/gdrive')"
   ]
  },
  {
   "cell_type": "markdown",
   "metadata": {
    "id": "e1RQtSF7sGwX"
   },
   "source": [
    "To mount Google drive, you should run the above lines"
   ]
  },
  {
   "cell_type": "code",
   "execution_count": 3,
   "metadata": {
    "colab": {
     "base_uri": "https://localhost:8080/"
    },
    "executionInfo": {
     "elapsed": 4379,
     "status": "ok",
     "timestamp": 1630911014467,
     "user": {
      "displayName": "Kyungho Won",
      "photoUrl": "https://lh3.googleusercontent.com/a-/AOh14GjFDtLYzIB3ExPPuLRrY7LEt8jAOx_pz5B5UU4z1Q=s64",
      "userId": "05826323827943571801"
     },
     "user_tz": -540
    },
    "id": "oINV0LShPPvl",
    "outputId": "cc8756ee-a8ea-4825-f325-497c43c0c368"
   },
   "outputs": [
    {
     "name": "stdout",
     "output_type": "stream",
     "text": [
      "Collecting mat73\n",
      "  Downloading mat73-0.52-py3-none-any.whl (17 kB)\n",
      "Requirement already satisfied: numpy in /usr/local/lib/python3.7/dist-packages (from mat73) (1.19.5)\n",
      "Requirement already satisfied: h5py in /usr/local/lib/python3.7/dist-packages (from mat73) (3.1.0)\n",
      "Requirement already satisfied: cached-property in /usr/local/lib/python3.7/dist-packages (from h5py->mat73) (1.5.2)\n",
      "Installing collected packages: mat73\n",
      "Successfully installed mat73-0.52\n"
     ]
    }
   ],
   "source": [
    "pip install mat73"
   ]
  },
  {
   "cell_type": "code",
   "execution_count": 4,
   "metadata": {
    "executionInfo": {
     "elapsed": 265,
     "status": "ok",
     "timestamp": 1630911016560,
     "user": {
      "displayName": "Kyungho Won",
      "photoUrl": "https://lh3.googleusercontent.com/a-/AOh14GjFDtLYzIB3ExPPuLRrY7LEt8jAOx_pz5B5UU4z1Q=s64",
      "userId": "05826323827943571801"
     },
     "user_tz": -540
    },
    "id": "Uc01fbIjpD_z"
   },
   "outputs": [],
   "source": [
    "import mat73\n",
    "import scipy\n",
    "import scipy.io as sio # cannot use for v7.3 mat file\n",
    "import numpy as np\n",
    "import matplotlib.pyplot as plt"
   ]
  },
  {
   "cell_type": "code",
   "execution_count": 5,
   "metadata": {
    "executionInfo": {
     "elapsed": 812,
     "status": "ok",
     "timestamp": 1630911022642,
     "user": {
      "displayName": "Kyungho Won",
      "photoUrl": "https://lh3.googleusercontent.com/a-/AOh14GjFDtLYzIB3ExPPuLRrY7LEt8jAOx_pz5B5UU4z1Q=s64",
      "userId": "05826323827943571801"
     },
     "user_tz": -540
    },
    "id": "aY3JveEw27QL"
   },
   "outputs": [],
   "source": [
    "# filtering\n",
    "from scipy.signal import butter, filtfilt\n",
    "\n",
    "def butter_lowpass_filter(data, lowcut, fs, order):\n",
    "  nyq = fs/2\n",
    "  low = lowcut/nyq\n",
    "  b, a = butter(order, low, btype='low')\n",
    "  y = filtfilt(b, a, data) # zero-phase filter # data: [ch x time]\n",
    "  return y\n",
    "\n",
    "def butter_highpass_filter(data, highcut, fs, order):\n",
    "  nyq = fs/2\n",
    "  high = highcut/nyq\n",
    "  b, a = butter(order, high, btype='high')\n",
    "  y = filtfilt(b, a, data) # zero-phase filter\n",
    "  return y\n",
    "\n",
    "def butter_bandpass_filter(data, lowcut, highcut, fs, order):\n",
    "  nyq = fs/2\n",
    "  low = lowcut/nyq\n",
    "  high = highcut/nyq\n",
    "  b, a = butter(order, [low, high], btype='band')\n",
    "  # demean before filtering\n",
    "  meandat = np.mean(data, axis=1)\n",
    "  data = data - meandat[:, np.newaxis]\n",
    "  y = filtfilt(b, a, data)\n",
    "  return y"
   ]
  },
  {
   "cell_type": "code",
   "execution_count": 9,
   "metadata": {
    "executionInfo": {
     "elapsed": 274,
     "status": "ok",
     "timestamp": 1630911105464,
     "user": {
      "displayName": "Kyungho Won",
      "photoUrl": "https://lh3.googleusercontent.com/a-/AOh14GjFDtLYzIB3ExPPuLRrY7LEt8jAOx_pz5B5UU4z1Q=s64",
      "userId": "05826323827943571801"
     },
     "user_tz": -540
    },
    "id": "oNailpnQ4IHn"
   },
   "outputs": [],
   "source": [
    "def extractEpoch3D(data, event, srate, baseline, frame, opt_keep_baseline):\n",
    "  # extract epoch from 2D data into 3D [ch x time x trial]\n",
    "  # input: event, baseline, frame\n",
    "  # extract epoch = baseline[0] to frame[2]\n",
    "\n",
    "  # for memory pre-allocation\n",
    "  if opt_keep_baseline == True:\n",
    "    begin_tmp = int(np.floor(baseline[0]/1000*srate))\n",
    "    end_tmp = int(begin_tmp+np.floor(frame[1]-baseline[0])/1000*srate)\n",
    "  else:\n",
    "    begin_tmp = int(np.floor(frame[0]/1000*srate))\n",
    "    end_tmp = int(begin_tmp+np.floor(frame[1]-frame[0])/1000*srate)\n",
    "  \n",
    "  epoch3D = np.zeros((data.shape[0], end_tmp-begin_tmp, len(event)))\n",
    "  nth_event = 0\n",
    "\n",
    "  for i in event:\n",
    "    if opt_keep_baseline == True:\n",
    "      begin_id = int(i + np.floor(baseline[0]/1000 * srate))\n",
    "      end_id = int(begin_id + np.floor((frame[1]-baseline[0])/1000*srate))\n",
    "    else:\n",
    "      begin_id = int(i + np.floor(frame[0]/1000 * srate))\n",
    "      end_id = int(begin_id + np.floor((frame[1]-frame[0])/1000*srate))\n",
    "    \n",
    "    tmp_data = data[:, begin_id:end_id]\n",
    "\n",
    "    begin_base = int(np.floor(baseline[0]/1000 * srate))\n",
    "    end_base = int(begin_base + np.floor(np.diff(baseline)/1000 * srate)-1)\n",
    "    base = np.mean(tmp_data[:, begin_base:end_base], axis=1)\n",
    "\n",
    "    rmbase_data = tmp_data - base[:, np.newaxis]\n",
    "    epoch3D[:, :, nth_event] = rmbase_data\n",
    "    nth_event = nth_event + 1\n",
    "\n",
    "  return epoch3D"
   ]
  },
  {
   "cell_type": "code",
   "execution_count": 97,
   "metadata": {
    "executionInfo": {
     "elapsed": 5583,
     "status": "ok",
     "timestamp": 1630915411714,
     "user": {
      "displayName": "Kyungho Won",
      "photoUrl": "https://lh3.googleusercontent.com/a-/AOh14GjFDtLYzIB3ExPPuLRrY7LEt8jAOx_pz5B5UU4z1Q=s64",
      "userId": "05826323827943571801"
     },
     "user_tz": -540
    },
    "id": "UbWgIdXGPWMv"
   },
   "outputs": [],
   "source": [
    "EEG = mat73.loadmat(\"s01.mat\")"
   ]
  },
  {
   "cell_type": "markdown",
   "metadata": {
    "id": "Z1Injl_jrkAR"
   },
   "source": [
    "1. For using mat73, data distributor should save mat file using '-v7.3'\n",
    "2. After loading a file, data filed names are displayed using keys() function, otherwise it prints all names and values at the same time.\n",
    "3. This dataset consists of structural cell array so their should be a few indicies"
   ]
  },
  {
   "cell_type": "code",
   "execution_count": null,
   "metadata": {
    "colab": {
     "base_uri": "https://localhost:8080/"
    },
    "executionInfo": {
     "elapsed": 401,
     "status": "ok",
     "timestamp": 1630416570356,
     "user": {
      "displayName": "Kyungho Won",
      "photoUrl": "https://lh3.googleusercontent.com/a-/AOh14GjFDtLYzIB3ExPPuLRrY7LEt8jAOx_pz5B5UU4z1Q=s64",
      "userId": "05826323827943571801"
     },
     "user_tz": -540
    },
    "id": "ESK7jzFAV28E",
    "outputId": "3cdfe005-ebc1-4a20-94ba-4d96c9a2c95d"
   },
   "outputs": [
    {
     "data": {
      "text/plain": [
       "<Evoked | '' (average, N=1), 0 – 1.1973 sec, baseline off, 32 ch, ~202 kB>"
      ]
     },
     "execution_count": 161,
     "metadata": {},
     "output_type": "execute_result"
    }
   ],
   "source": [
    "biosemi_montage = mne.channels.make_standard_montage('biosemi32')\n",
    "fake_info = mne.create_info(ch_names=biosemi_montage.ch_names, sfreq=512.,\n",
    "                            ch_types='eeg')\n",
    "\n",
    "fake_evoked = mne.EvokedArray(avg_target, fake_info)\n",
    "fake_evoked.set_montage(biosemi_montage)"
   ]
  },
  {
   "cell_type": "code",
   "execution_count": null,
   "metadata": {
    "colab": {
     "base_uri": "https://localhost:8080/",
     "height": 255
    },
    "executionInfo": {
     "elapsed": 564,
     "status": "ok",
     "timestamp": 1630417193201,
     "user": {
      "displayName": "Kyungho Won",
      "photoUrl": "https://lh3.googleusercontent.com/a-/AOh14GjFDtLYzIB3ExPPuLRrY7LEt8jAOx_pz5B5UU4z1Q=s64",
      "userId": "05826323827943571801"
     },
     "user_tz": -540
    },
    "id": "qTX7j1xXV8C1",
    "outputId": "159187de-13c9-4ed8-e179-b067786f397e"
   },
   "outputs": [
    {
     "data": {
      "text/plain": [
       "Text(0.5, 1.0, 'MNE')"
      ]
     },
     "execution_count": 188,
     "metadata": {},
     "output_type": "execute_result"
    },
    {
     "data": {
      "image/png": "[encoded data removed]",
      "text/plain": [
       "<Figure size 576x288 with 2 Axes>"
      ]
     },
     "metadata": {},
     "output_type": "display_data"
    }
   ],
   "source": [
    "# create a two-panel figure with some space for the titles at the top\n",
    "fig, ax = plt.subplots(ncols=2, figsize=(8, 4), gridspec_kw=dict(top=0.9),\n",
    "                       sharex=True, sharey=True)\n",
    "# we plot the channel positions with default sphere - the mne way\n",
    "fake_evoked.plot_sensors(axes=ax[0], show=False, show_names=True)\n",
    "# add titles\n",
    "ax[0].set_title('MNE channel projection', fontweight='bold')\n",
    "\n",
    "mne.viz.plot_topomap(np.mean(fake_evoked.data, axis=1), fake_evoked.info, axes=ax[1], show=False)\n",
    "ax[1].set_title('MNE', fontweight='bold')"
   ]
  },
  {
   "cell_type": "code",
   "execution_count": null,
   "metadata": {
    "id": "PFh75LsOayIg"
   },
   "outputs": [],
   "source": []
  },
  {
   "cell_type": "markdown",
   "metadata": {
    "id": "pLA8dkAj_sRm"
   },
   "source": [
    "P300 speller letter detect "
   ]
  },
  {
   "cell_type": "code",
   "execution_count": 13,
   "metadata": {
    "colab": {
     "base_uri": "https://localhost:8080/"
    },
    "executionInfo": {
     "elapsed": 1377,
     "status": "ok",
     "timestamp": 1630911163856,
     "user": {
      "displayName": "Kyungho Won",
      "photoUrl": "https://lh3.googleusercontent.com/a-/AOh14GjFDtLYzIB3ExPPuLRrY7LEt8jAOx_pz5B5UU4z1Q=s64",
      "userId": "05826323827943571801"
     },
     "user_tz": -540
    },
    "id": "9RhlEOSw_vem",
    "outputId": "13442efe-2fca-4915-94cb-1dfd03d5d27d"
   },
   "outputs": [
    {
     "name": "stderr",
     "output_type": "stream",
     "text": [
      "/usr/local/lib/python3.7/dist-packages/statsmodels/tools/_testing.py:19: FutureWarning: pandas.util.testing is deprecated. Use the functions in the public API at pandas.testing instead.\n",
      "  import pandas.util.testing as tm\n"
     ]
    }
   ],
   "source": [
    "import statsmodels.api as sm\n",
    "from sklearn.linear_model import LinearRegression"
   ]
  },
  {
   "cell_type": "code",
   "execution_count": 99,
   "metadata": {
    "executionInfo": {
     "elapsed": 691,
     "status": "ok",
     "timestamp": 1630915476969,
     "user": {
      "displayName": "Kyungho Won",
      "photoUrl": "https://lh3.googleusercontent.com/a-/AOh14GjFDtLYzIB3ExPPuLRrY7LEt8jAOx_pz5B5UU4z1Q=s64",
      "userId": "05826323827943571801"
     },
     "user_tz": -540
    },
    "id": "H1WwCToJKvlo"
   },
   "outputs": [],
   "source": [
    "def decimation_by_avg(data, factor):\n",
    "  \"\"\"Function for replacing each sequence of previous factor samples with their average\"\"\"\n",
    "  # for example, frame [0, 800]ms -> 17samples (Krusienski et al., 2006)\n",
    "  # data.shape = [ch, time, trial]\n",
    "  ratio_dsample = factor\n",
    "  n_ch, n_frame, n_trial = data.shape\n",
    "\n",
    "  #print(n_frame)\n",
    "  decimated_frame = int(np.floor(n_frame/ratio_dsample))\n",
    "  #print(decimated_frame)\n",
    "\n",
    "  # memory pre-allocation\n",
    "  decimated_data = np.zeros((n_ch, decimated_frame, n_trial))\n",
    "  #print(decimated_data.shape)\n",
    "\n",
    "  for i in range(n_trial):\n",
    "    for j in range(decimated_frame):\n",
    "      cur_data = data[:, :, i]\n",
    "      decimated_data[:, j, i] = np.mean(cur_data[:, j*ratio_dsample:(j+1)*ratio_dsample], axis=1)\n",
    "\n",
    "  return decimated_data\n",
    "\n",
    "\n",
    "down_target = decimation_by_avg(targetEEG, 24)\n",
    "down_nontarget = decimation_by_avg(nontargetEEG, 24)\n",
    "\n",
    "ch_target, frame_target, trial_target = down_target.shape\n",
    "ch_nontarget, frame_nontarget, tiral_nontarget = down_nontarget.shape\n",
    "feat_target = np.reshape(down_target, (ch_target*frame_target, trial_target))\n",
    "feat_nontarget = np.reshape(down_nontarget, (ch_nontarget*frame_nontarget, tiral_nontarget))\n",
    "\n",
    "# feature: [n_samples, n_features]\n",
    "feat_target = feat_target.transpose() \n",
    "feat_nontarget = feat_nontarget.transpose()\n",
    "# y: 1 for target and -1 for nontarget\n",
    "y_target = np.ones((feat_target.shape[0],1))\n",
    "y_nontarget = -np.ones((feat_nontarget.shape[0],1))\n",
    "\n",
    "feat_train = np.vstack((feat_target, feat_nontarget))\n",
    "y_train = np.vstack((y_target, y_nontarget))\n",
    "\n",
    "idx_train = np.arange(feat_train.shape[0])\n",
    "np.random.shuffle(idx_train)\n",
    "\n",
    "feat_train = feat_train[idx_train, :]\n",
    "y_train = y_train[idx_train, :]"
   ]
  },
  {
   "cell_type": "markdown",
   "metadata": {
    "id": "7X6EbcE7P6BL"
   },
   "source": [
    "# **Train linear classifier and save the model**"
   ]
  },
  {
   "cell_type": "code",
   "execution_count": 100,
   "metadata": {
    "colab": {
     "base_uri": "https://localhost:8080/"
    },
    "executionInfo": {
     "elapsed": 44079,
     "status": "ok",
     "timestamp": 1630915524010,
     "user": {
      "displayName": "Kyungho Won",
      "photoUrl": "https://lh3.googleusercontent.com/a-/AOh14GjFDtLYzIB3ExPPuLRrY7LEt8jAOx_pz5B5UU4z1Q=s64",
      "userId": "05826323827943571801"
     },
     "user_tz": -540
    },
    "id": "SxfmJp9JdnkZ",
    "outputId": "b24b40f1-9b3e-4343-dbf5-0249c6063532"
   },
   "outputs": [
    {
     "name": "stdout",
     "output_type": "stream",
     "text": [
      "Done\n",
      "(174,)\n",
      "0.07934652949623593\n"
     ]
    }
   ],
   "source": [
    "def get_stats(dat, x_columns, y):\n",
    "  x = dat[:, x_columns]\n",
    "  results = sm.OLS(y, x).fit() # OLS: ordinary least-square\n",
    "  #print(results.summary())\n",
    "  return results\n",
    "\n",
    "# stepwisefit in Matlab for Won2021 - penter: 0.08, <premove: 0.1>, select the best 60 features only\n",
    "x_column = np.array(range(feat_train.shape[1]))\n",
    "while True:\n",
    "  #print(x_column.shape)\n",
    "  results_stats = get_stats(feat_train, x_column, y_train)\n",
    "  if np.max(results_stats.pvalues) <= 0.08:\n",
    "    break\n",
    "  else:\n",
    "    backward_elim = np.array(np.where(results_stats.pvalues == np.max(results_stats.pvalues)))\n",
    "    x_column = np.delete(x_column, backward_elim)\n",
    "\n",
    "print(x_column.shape)\n",
    "print(np.max(results_stats.pvalues))"
   ]
  },
  {
   "cell_type": "code",
   "execution_count": 101,
   "metadata": {
    "executionInfo": {
     "elapsed": 293,
     "status": "ok",
     "timestamp": 1630915532390,
     "user": {
      "displayName": "Kyungho Won",
      "photoUrl": "https://lh3.googleusercontent.com/a-/AOh14GjFDtLYzIB3ExPPuLRrY7LEt8jAOx_pz5B5UU4z1Q=s64",
      "userId": "05826323827943571801"
     },
     "user_tz": -540
    },
    "id": "BmXFkh0R3KKL"
   },
   "outputs": [],
   "source": [
    "argsort_pval = np.argsort(results_stats.pvalues)\n",
    "x_column = x_column[argsort_pval[range(60)]]"
   ]
  },
  {
   "cell_type": "code",
   "execution_count": 102,
   "metadata": {
    "colab": {
     "base_uri": "https://localhost:8080/"
    },
    "executionInfo": {
     "elapsed": 286,
     "status": "ok",
     "timestamp": 1630915535849,
     "user": {
      "displayName": "Kyungho Won",
      "photoUrl": "https://lh3.googleusercontent.com/a-/AOh14GjFDtLYzIB3ExPPuLRrY7LEt8jAOx_pz5B5UU4z1Q=s64",
      "userId": "05826323827943571801"
     },
     "user_tz": -540
    },
    "id": "1KNj8_C1p2f5",
    "outputId": "6ec160b5-b7e4-4c0e-98ab-51cf0c2cfa11"
   },
   "outputs": [
    {
     "name": "stdout",
     "output_type": "stream",
     "text": [
      "(1800, 60)\n"
     ]
    },
    {
     "data": {
      "text/plain": [
       "0.8516666666666667"
      ]
     },
     "execution_count": 102,
     "metadata": {},
     "output_type": "execute_result"
    }
   ],
   "source": [
    "feat_train_select = feat_train[:, x_column]\n",
    "print(feat_train_select.shape)\n",
    "# Linear regression\n",
    "linear_model = LinearRegression()\n",
    "linear_model.fit(feat_train_select, y_train)\n",
    "\n",
    "pred_train = np.sign(linear_model.predict(feat_train_select))\n",
    "np.sum(pred_train==y_train) / len(pred_train)"
   ]
  },
  {
   "cell_type": "code",
   "execution_count": 104,
   "metadata": {
    "executionInfo": {
     "elapsed": 268,
     "status": "ok",
     "timestamp": 1630915545616,
     "user": {
      "displayName": "Kyungho Won",
      "photoUrl": "https://lh3.googleusercontent.com/a-/AOh14GjFDtLYzIB3ExPPuLRrY7LEt8jAOx_pz5B5UU4z1Q=s64",
      "userId": "05826323827943571801"
     },
     "user_tz": -540
    },
    "id": "HJnpzL364zof"
   },
   "outputs": [],
   "source": [
    "# Save the trained linear model and the selected x_column\n",
    "\n",
    "mdl = {\"linear\": linear_model, \"feat_column\": x_column}\n",
    "# Save\n",
    "nsb = 1\n",
    "fname = f's{nsb}.npy'\n",
    "np.save(fname, mdl) \n",
    "\n",
    "# Load\n",
    "read_mdl = np.load(fname,allow_pickle='TRUE').item()"
   ]
  },
  {
   "cell_type": "code",
   "execution_count": 32,
   "metadata": {
    "colab": {
     "base_uri": "https://localhost:8080/"
    },
    "executionInfo": {
     "elapsed": 295,
     "status": "ok",
     "timestamp": 1630911817540,
     "user": {
      "displayName": "Kyungho Won",
      "photoUrl": "https://lh3.googleusercontent.com/a-/AOh14GjFDtLYzIB3ExPPuLRrY7LEt8jAOx_pz5B5UU4z1Q=s64",
      "userId": "05826323827943571801"
     },
     "user_tz": -540
    },
    "id": "M1avqAX96znO",
    "outputId": "ef5005f5-cb6d-4a8f-9047-f646e54b9d7d"
   },
   "outputs": [
    {
     "data": {
      "text/plain": [
       "dict_keys(['chanlocs', 'data', 'markers_seq', 'markers_target', 'nbTrials', 'nbTrials_nontarget', 'nbTrials_target', 'online_acc', 'srate', 'text_result', 'text_to_spell'])"
      ]
     },
     "execution_count": 32,
     "metadata": {},
     "output_type": "execute_result"
    }
   ],
   "source": [
    "EEG['test'][0].keys()"
   ]
  },
  {
   "cell_type": "markdown",
   "metadata": {
    "id": "R0FlgR6N3Sn2"
   },
   "source": [
    "# **Letter detection accruacy - using the trained classifier and unknown data**"
   ]
  },
  {
   "cell_type": "code",
   "execution_count": 33,
   "metadata": {
    "executionInfo": {
     "elapsed": 250,
     "status": "ok",
     "timestamp": 1630911890424,
     "user": {
      "displayName": "Kyungho Won",
      "photoUrl": "https://lh3.googleusercontent.com/a-/AOh14GjFDtLYzIB3ExPPuLRrY7LEt8jAOx_pz5B5UU4z1Q=s64",
      "userId": "05826323827943571801"
     },
     "user_tz": -540
    },
    "id": "PSFaxyxY7Hxf"
   },
   "outputs": [],
   "source": [
    "# Ingredients for P300 speller\n",
    "spellermatrix = ['A', 'B', 'C', 'D', 'E', 'F', \n",
    "                 'G', 'H', 'I', 'J', 'K', 'L',\n",
    "                 'M', 'N', 'O', 'P', 'Q', 'R',\n",
    "                 'S', 'T', 'U', 'V', 'W', 'X',\n",
    "                 'Y', 'Z', '1', '2', '3', '4',\n",
    "                 '5', '6', '7', '8', '9', '_']\n",
    "Config_P3speller = {\"seq_code\": range(1,13), \"full_repeat\": 15, \"spellermatrix\": spellermatrix}\n",
    "Params_P3speller = {\"freq\": [0.5, 10], \"frame\": [0, 600], \"baseline\": [-200, 0], \"select_ch\": range(1, 33)}"
   ]
  },
  {
   "cell_type": "code",
   "execution_count": 162,
   "metadata": {
    "executionInfo": {
     "elapsed": 254,
     "status": "ok",
     "timestamp": 1630917228602,
     "user": {
      "displayName": "Kyungho Won",
      "photoUrl": "https://lh3.googleusercontent.com/a-/AOh14GjFDtLYzIB3ExPPuLRrY7LEt8jAOx_pz5B5UU4z1Q=s64",
      "userId": "05826323827943571801"
     },
     "user_tz": -540
    },
    "id": "fKhxV_KCPeqe"
   },
   "outputs": [],
   "source": [
    "def detect_letter_P3speller(pred_score, word_len, label, letter_ind, markers_seq, params):\n",
    "  \"\"\"Function for detecing letter from the predicted results from unknown EEG\"\"\"\n",
    "  user_answer = np.chararray(word_len,1)\n",
    "  acc_on_repetition = np.zeros(params[\"full_repeat\"])\n",
    "  correct_on_repetition = np.zeros(params[\"full_repeat\"])\n",
    "  for n_repeat in range(params[\"full_repeat\"]):\n",
    "    for n_letter in range(word_len):\n",
    "      # begin and end trial for a single letter session\n",
    "      begin_trial = len(params[\"seq_code\"]) * params[\"full_repeat\"] * (n_letter)\n",
    "      end_trial = begin_trial + (n_repeat+1) * len(params[\"seq_code\"])\n",
    "\n",
    "      unknown_speller_code = np.zeros(len(params[\"seq_code\"]))\n",
    "      for j in range(begin_trial, end_trial):\n",
    "        # predict and add lda score\n",
    "        unknown_speller_code[int(markers_seq[letter_ind[j]])-1] = unknown_speller_code[int(markers_seq[letter_ind[j]])-1] + pred_score[j]\n",
    "\n",
    "        row = np.argmax(unknown_speller_code[0:6]) \n",
    "        col = np.argmax(unknown_speller_code[6:12])\n",
    "        user_answer[n_letter] = params['spellermatrix'][row*6+col]\n",
    "        user_answer_string = user_answer.tobytes().decode('utf-8')\n",
    "    \n",
    "    correct_on_repetition[n_repeat] = len([i for i, j in zip(user_answer_string, label) if i == j])\n",
    "    acc_on_repetition[n_repeat] = correct_on_repetition[n_repeat] / len(label)\n",
    "\n",
    "  out = {\"text_result\": user_answer_string, \"acc_on_repetition\": acc_on_repetition, \"correct_on_repetition\": correct_on_repetition}\n",
    "  return out"
   ]
  },
  {
   "cell_type": "code",
   "execution_count": 164,
   "metadata": {
    "colab": {
     "base_uri": "https://localhost:8080/"
    },
    "executionInfo": {
     "elapsed": 5065,
     "status": "ok",
     "timestamp": 1630917286498,
     "user": {
      "displayName": "Kyungho Won",
      "photoUrl": "https://lh3.googleusercontent.com/a-/AOh14GjFDtLYzIB3ExPPuLRrY7LEt8jAOx_pz5B5UU4z1Q=s64",
      "userId": "05826323827943571801"
     },
     "user_tz": -540
    },
    "id": "GrURbpa8qN0U",
    "outputId": "c7eddd80-79dd-4361-bdf5-190d9564447d"
   },
   "outputs": [
    {
     "name": "stdout",
     "output_type": "stream",
     "text": [
      "User answer: SUBPECT (6/7), accuracy: 0.8571428571428571\n",
      "User answer: NEURONS (7/7), accuracy: 1.0\n",
      "User answer: IMAGINE (7/7), accuracy: 1.0\n",
      "User answer: QOEFITY (4/7), accuracy: 0.5714285714285714\n"
     ]
    }
   ],
   "source": [
    "read_mdl = np.load(fname,allow_pickle='TRUE').item()\n",
    "\n",
    "for n_test in range(len(EEG['test'])):\n",
    "  cur_eeg = EEG['test'][n_test]\n",
    "  data = np.asarray(cur_eeg['data'])\n",
    "  srate = cur_eeg['srate']\n",
    "  data = butter_bandpass_filter(data, 0.5, 10, srate, 4)\n",
    "  markers = cur_eeg['markers_target']\n",
    "  word_len = int(cur_eeg['nbTrials'] / (len(Config_P3speller['seq_code'])*Config_P3speller['full_repeat']))\n",
    "\n",
    "  markers_seq = cur_eeg['markers_seq']\n",
    "  letter_idx = np.where(np.isin(markers_seq, Config_P3speller['seq_code']))[0]\n",
    "\n",
    "  unknownEEG = extractEpoch3D(data, letter_idx, srate, baseline, frame, False)\n",
    "  down_unknown = decimation_by_avg(unknownEEG, 24)\n",
    "  ch_unknown, frame_unknown, trial_unnknown = down_unknown.shape\n",
    "  feat_unknown = np.reshape(down_unknown, (ch_unknown*frame_unknown, trial_unnknown))\n",
    "  feat_unknown = feat_unknown.transpose()\n",
    "\n",
    "  # opt - calculate the all classification results from feat_unknown\n",
    "  pred_unknown = read_mdl['linear'].predict(feat_unknown[:, read_mdl['feat_column']]) # your answers\n",
    "\n",
    "  ans_letters = detect_letter_P3speller(pred_unknown, word_len, cur_eeg['text_to_spell'], letter_idx, markers_seq, Config_P3speller);\n",
    "  cur_text_result = ans_letters['text_result']\n",
    "  print(f\"User answer: {cur_text_result} ({int(ans_letters['correct_on_repetition'][-1])}/{int(word_len)}), accuracy: {ans_letters['acc_on_repetition'][-1]}\")\n"
   ]
  },
  {
   "cell_type": "code",
   "execution_count": null,
   "metadata": {
    "id": "JcvVhGsrPsTc"
   },
   "outputs": [],
   "source": []
  }
 ],
 "metadata": {
  "colab": {
   "authorship_tag": "ABX9TyMMt3IkLk9KLEdhIFhdgCaO",
   "collapsed_sections": [],
   "mount_file_id": "1fApMdG2dmDpwcuK6UyKSUDM1fqpVxzrK",
   "name": "Load_Won2021dataset.ipynb",
   "provenance": []
  },
  "kernelspec": {
   "display_name": "Python 3 (ipykernel)",
   "language": "python",
   "name": "python3"
  },
  "language_info": {
   "codemirror_mode": {
    "name": "ipython",
    "version": 3
   },
   "file_extension": ".py",
   "mimetype": "text/x-python",
   "name": "python",
   "nbconvert_exporter": "python",
   "pygments_lexer": "ipython3",
   "version": "3.7.11"
  },
  "toc": {
   "base_numbering": 1,
   "nav_menu": {},
   "number_sections": true,
   "sideBar": true,
   "skip_h1_title": false,
   "title_cell": "Table of Contents",
   "title_sidebar": "Contents",
   "toc_cell": false,
   "toc_position": {},
   "toc_section_display": true,
   "toc_window_display": false
  },
  "varInspector": {
   "cols": {
    "lenName": 16,
    "lenType": 16,
    "lenVar": 40
   },
   "kernels_config": {
    "python": {
     "delete_cmd_postfix": "",
     "delete_cmd_prefix": "del ",
     "library": "var_list.py",
     "varRefreshCmd": "print(var_dic_list())"
    },
    "r": {
     "delete_cmd_postfix": ") ",
     "delete_cmd_prefix": "rm(",
     "library": "var_list.r",
     "varRefreshCmd": "cat(var_dic_list()) "
    }
   },
   "types_to_exclude": [
    "module",
    "function",
    "builtin_function_or_method",
    "instance",
    "_Feature"
   ],
   "window_display": false
  }
 },
 "nbformat": 4,
 "nbformat_minor": 1
}
