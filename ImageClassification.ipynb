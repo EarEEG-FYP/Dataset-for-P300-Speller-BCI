{
 "cells": [
  {
   "cell_type": "code",
   "execution_count": null,
   "metadata": {},
   "outputs": [],
   "source": [
    "import os\n",
    "import numpy as np\n",
    "from PIL import Image\n",
    "\n",
    "def load_images_and_labels(folder_path):\n",
    "    images = []\n",
    "    labels = []\n",
    "    \n",
    "    for filename in os.listdir(folder_path):\n",
    "        if filename.endswith(\".png\"):\n",
    "\n",
    "            image_path = os.path.join(folder_path, filename)\n",
    "            image = Image.open(image_path)\n",
    "            image = image.convert(\"RGB\")\n",
    "            \n",
    "            image_array = np.array(image) / 255.0\n",
    "            images.append(image_array)\n",
    "            \n",
    "            if (\"target\" in filename) & (\"nontarget\" not in filename):\n",
    "                labels.append(1)\n",
    "            elif \"nontarget\" in filename:\n",
    "                labels.append(-1)\n",
    "            else:\n",
    "                raise ValueError(\"Invalid filename format\")\n",
    "    \n",
    "    return np.array(images), np.array(labels)"
   ]
  },
  {
   "cell_type": "code",
   "execution_count": null,
   "metadata": {},
   "outputs": [],
   "source": [
    "folder_path = \"/Users/yohanabeysinghe/Mac/1. ENTC/FYP - Ear EEG/Datasets/ConvertedToImages\"\n",
    "X, Y = load_images_and_labels(folder_path)\n",
    "\n",
    "print(\"Shape of X:\", X.shape)\n",
    "print(\"Shape of Y:\", Y.shape) "
   ]
  },
  {
   "cell_type": "code",
   "execution_count": null,
   "metadata": {},
   "outputs": [],
   "source": [
    "import matplotlib.pyplot as plt\n",
    "\n",
    "# Select 10 random indices\n",
    "num_samples = X.shape[0]\n",
    "random_indices = np.random.choice(num_samples, size=10, replace=False)\n",
    "\n",
    "# Plot the selected images\n",
    "fig, axes = plt.subplots(2, 5, figsize=(15, 6))\n",
    "for i, idx in enumerate(random_indices):\n",
    "    row = i // 5\n",
    "    col = i % 5\n",
    "    axes[row, col].imshow(X[idx])\n",
    "    axes[row, col].set_title(\"Label: {}\".format(Y[idx]))\n",
    "    axes[row, col].axis('off')\n",
    "\n",
    "plt.tight_layout()\n",
    "plt.show()"
   ]
  },
  {
   "cell_type": "code",
   "execution_count": null,
   "metadata": {},
   "outputs": [],
   "source": [
    "print(Y)"
   ]
  },
  {
   "cell_type": "code",
   "execution_count": null,
   "metadata": {},
   "outputs": [],
   "source": [
    "from sklearn.model_selection import train_test_split\n",
    "from sklearn.ensemble import RandomForestClassifier\n",
    "from sklearn.metrics import accuracy_score\n",
    "\n",
    "num_samples, height, width, channels = X.shape\n",
    "X_flat = X.reshape(num_samples, height * width * channels)\n",
    "\n",
    "X_train, X_test, Y_train, Y_test = train_test_split(X_flat, Y, test_size=0.2, random_state=42)\n",
    "\n",
    "rf_classifier = RandomForestClassifier(n_estimators=100, random_state=42)\n",
    "\n",
    "rf_classifier.fit(X_train, Y_train)\n",
    "Y_pred = rf_classifier.predict(X_test)\n",
    "\n",
    "accuracy = accuracy_score(Y_test, Y_pred)\n",
    "print(\"Accuracy:\", accuracy)\n"
   ]
  },
  {
   "cell_type": "code",
   "execution_count": null,
   "metadata": {},
   "outputs": [],
   "source": [
    "X[0].shape"
   ]
  },
  {
   "cell_type": "code",
   "execution_count": null,
   "metadata": {},
   "outputs": [],
   "source": [
    "from lime import lime_image\n",
    "\n",
    "explainer = lime_image.LimeImageExplainer()\n",
    "\n",
    "image_to_explain = X_test[0]\n",
    "label_to_explain = Y_test[0]\n",
    "\n",
    "explanation = explainer.explain_instance(image_to_explain, rf_classifier.predict_proba, top_labels=2, hide_color=0, num_samples=1000)\n",
    "\n",
    "temp, mask = explanation.get_image_and_mask(label_to_explain, positive_only=True, num_features=5, hide_rest=False)\n",
    "plt.imshow(lime_image.mark_boundaries(temp / 2 + 0.5, mask))\n",
    "plt.title(\"Explanation for class {}\".format(label_to_explain))\n",
    "plt.axis('off')\n",
    "plt.show()"
   ]
  }
 ],
 "metadata": {
  "kernelspec": {
   "display_name": "Python 3.9 (pytorch)",
   "language": "python",
   "name": "pytorch"
  },
  "language_info": {
   "codemirror_mode": {
    "name": "ipython",
    "version": 3
   },
   "file_extension": ".py",
   "mimetype": "text/x-python",
   "name": "python",
   "nbconvert_exporter": "python",
   "pygments_lexer": "ipython3",
   "version": "3.9.15"
  }
 },
 "nbformat": 4,
 "nbformat_minor": 2
}
