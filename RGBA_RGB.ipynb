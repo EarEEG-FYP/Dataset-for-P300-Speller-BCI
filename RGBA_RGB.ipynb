{
 "cells": [
  {
   "cell_type": "code",
   "execution_count": 1,
   "metadata": {},
   "outputs": [
    {
     "name": "stdout",
     "output_type": "stream",
     "text": [
      "Image converted and saved successfully to: /Users/yohanabeysinghe/Downloads/nontarget_s01_trial_00_rgb.png\n"
     ]
    }
   ],
   "source": [
    "from PIL import Image\n",
    "\n",
    "# Open the image\n",
    "img = Image.open(\"/Users/yohanabeysinghe/Downloads/nontarget_s01_trial_00.png\")\n",
    "\n",
    "# Convert RGBA to RGB\n",
    "img_rgb = img.convert(\"RGB\")\n",
    "\n",
    "# Save the converted image to the same location\n",
    "output_path = \"/Users/yohanabeysinghe/Downloads/nontarget_s01_trial_00_rgb.png\"\n",
    "img_rgb.save(output_path)\n",
    "\n",
    "print(\"Image converted and saved successfully to:\", output_path)\n"
   ]
  },
  {
   "cell_type": "code",
   "execution_count": 4,
   "metadata": {},
   "outputs": [
    {
     "data": {
      "text/plain": [
       "'RGB'"
      ]
     },
     "execution_count": 4,
     "metadata": {},
     "output_type": "execute_result"
    }
   ],
   "source": [
    "img.mode\n",
    "img_rgb.mode"
   ]
  }
 ],
 "metadata": {
  "kernelspec": {
   "display_name": "Python 3.9 (pytorch)",
   "language": "python",
   "name": "pytorch"
  },
  "language_info": {
   "codemirror_mode": {
    "name": "ipython",
    "version": 3
   },
   "file_extension": ".py",
   "mimetype": "text/x-python",
   "name": "python",
   "nbconvert_exporter": "python",
   "pygments_lexer": "ipython3",
   "version": "3.9.15"
  }
 },
 "nbformat": 4,
 "nbformat_minor": 2
}
